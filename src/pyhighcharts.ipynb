{
 "cells": [
  {
   "cell_type": "markdown",
   "metadata": {},
   "source": [
    "# Get relevant libraries"
   ]
  },
  {
   "cell_type": "code",
   "execution_count": 1,
   "metadata": {
    "collapsed": false
   },
   "outputs": [
    {
     "data": {
      "text/html": [
       "\n",
       "<script src=\"//code.highcharts.com/stock/highstock.js\"></script>\n",
       "<script src=\"//code.highcharts.com/highcharts-more.js\"></script>\n",
       "<script src=\"//code.highcharts.com/modules/exporting.js\"></script>\n"
      ],
      "text/plain": [
       "<IPython.core.display.HTML object>"
      ]
     },
     "metadata": {},
     "output_type": "display_data"
    }
   ],
   "source": [
    "import ujson as json\n",
    "\n",
    "%load_ext autoreload\n",
    "%autoreload 2\n",
    "\n",
    "import pandas as pd\n",
    "import datetime\n",
    "import os\n",
    "import numpy as np\n",
    "from pandas.compat import StringIO\n",
    "from pandas.io.common import urlopen\n",
    "from IPython.display import display, display_pretty, Javascript, HTML\n",
    "from pandas_highcharts.core import serialize\n",
    "from pandas_highcharts.display import display_charts\n",
    "import matplotlib.pyplot as plt"
   ]
  },
  {
   "cell_type": "markdown",
   "metadata": {},
   "source": [
    "# Create charts from dataframe"
   ]
  },
  {
   "cell_type": "code",
   "execution_count": 21,
   "metadata": {
    "collapsed": false
   },
   "outputs": [
    {
     "name": "stdout",
     "output_type": "stream",
     "text": [
      "Number of items in data: 266972\n"
     ]
    }
   ],
   "source": [
    "filename = \"/Users/fnokeke/dev/student-streams/dataset/LocationHistory.json\"\n",
    "with open(filename) as json_file:\n",
    "    raw = json.load(json_file)\n",
    "\n",
    "ld = pd.DataFrame(raw['locations'])\n",
    "print(\"Number of items in data: %d\") % len(ld)\n",
    "\n",
    "# free up memory\n",
    "del raw"
   ]
  },
  {
   "cell_type": "markdown",
   "metadata": {},
   "source": [
    "# Convert to typical units and rename columns"
   ]
  },
  {
   "cell_type": "code",
   "execution_count": 22,
   "metadata": {
    "collapsed": false
   },
   "outputs": [
    {
     "data": {
      "text/html": [
       "<div>\n",
       "<table border=\"1\" class=\"dataframe\">\n",
       "  <thead>\n",
       "    <tr style=\"text-align: right;\">\n",
       "      <th></th>\n",
       "      <th>latitude</th>\n",
       "      <th>longitude</th>\n",
       "      <th>accuracy</th>\n",
       "      <th>datetime</th>\n",
       "    </tr>\n",
       "  </thead>\n",
       "  <tbody>\n",
       "    <tr>\n",
       "      <th>0</th>\n",
       "      <td>42.445009</td>\n",
       "      <td>-76.481233</td>\n",
       "      <td>20</td>\n",
       "      <td>2015-10-09 18:40:49.815</td>\n",
       "    </tr>\n",
       "    <tr>\n",
       "      <th>1</th>\n",
       "      <td>42.445002</td>\n",
       "      <td>-76.481257</td>\n",
       "      <td>20</td>\n",
       "      <td>2015-10-09 18:39:49.791</td>\n",
       "    </tr>\n",
       "    <tr>\n",
       "      <th>2</th>\n",
       "      <td>42.445001</td>\n",
       "      <td>-76.481254</td>\n",
       "      <td>53</td>\n",
       "      <td>2015-10-09 18:38:48.981</td>\n",
       "    </tr>\n",
       "    <tr>\n",
       "      <th>3</th>\n",
       "      <td>42.444977</td>\n",
       "      <td>-76.481236</td>\n",
       "      <td>51</td>\n",
       "      <td>2015-10-09 18:37:48.476</td>\n",
       "    </tr>\n",
       "    <tr>\n",
       "      <th>4</th>\n",
       "      <td>42.444994</td>\n",
       "      <td>-76.481249</td>\n",
       "      <td>37</td>\n",
       "      <td>2015-10-09 18:36:59.451</td>\n",
       "    </tr>\n",
       "  </tbody>\n",
       "</table>\n",
       "</div>"
      ],
      "text/plain": [
       "    latitude  longitude  accuracy                datetime\n",
       "0  42.445009 -76.481233        20 2015-10-09 18:40:49.815\n",
       "1  42.445002 -76.481257        20 2015-10-09 18:39:49.791\n",
       "2  42.445001 -76.481254        53 2015-10-09 18:38:48.981\n",
       "3  42.444977 -76.481236        51 2015-10-09 18:37:48.476\n",
       "4  42.444994 -76.481249        37 2015-10-09 18:36:59.451"
      ]
     },
     "execution_count": 22,
     "metadata": {},
     "output_type": "execute_result"
    }
   ],
   "source": [
    "df = ld.copy()\n",
    "df['latitudeE7'] = df['latitudeE7']/float(1e7)\n",
    "df['longitudeE7'] = df['longitudeE7']/float(1e7)\n",
    "df['timestampMs'] = df['timestampMs'].map(lambda x: float(x))\n",
    "df['timestamp2'] = df['timestampMs'].map(lambda x: float(x)/1000)\n",
    "df['datetime'] = df.timestamp2.map(datetime.datetime.fromtimestamp)\n",
    "\n",
    "df.rename(columns={\n",
    "'latitudeE7': 'latitude',\n",
    "'longitudeE7': 'longitude',\n",
    "'timestampMs': 'timestamp'\n",
    "}, inplace=True)\n",
    "\n",
    "df = df[['latitude', 'longitude', 'accuracy', 'datetime']]\n",
    "df.head()"
   ]
  },
  {
   "cell_type": "markdown",
   "metadata": {},
   "source": [
    "# Ignore locations with accuracy estimates over 1000m"
   ]
  },
  {
   "cell_type": "code",
   "execution_count": 23,
   "metadata": {
    "collapsed": false
   },
   "outputs": [
    {
     "name": "stdout",
     "output_type": "stream",
     "text": [
      "No of rows dropped: 14677\n"
     ]
    }
   ],
   "source": [
    "old_len = len(df)\n",
    "df = df[df.accuracy <= 1000]\n",
    "df = df.sort_values('datetime', ascending=True)\n",
    "print(\"No of rows dropped: %d\") % (old_len - len(df))"
   ]
  },
  {
   "cell_type": "markdown",
   "metadata": {},
   "source": [
    "# Specify only places of interest in Ithaca and ignore locations outside Ithaca"
   ]
  },
  {
   "cell_type": "code",
   "execution_count": 26,
   "metadata": {
    "collapsed": false
   },
   "outputs": [
    {
     "name": "stdout",
     "output_type": "stream",
     "text": [
      "No of rows dropped: 0\n"
     ]
    }
   ],
   "source": [
    "HOME = (42.446594, -76.493736)\n",
    "WORK = (42.444877, -76.480814)\n",
    "\n",
    "lat_margin = 0.1\n",
    "lon_margin = 1.0\n",
    "old_len = len(df)\n",
    "\n",
    "# home location is used to estimate places outside Ithaca but \n",
    "# work location works just as well because the lat and lon margins \n",
    "# are definitely outside Ithaca\n",
    "df = df[abs(df.latitude - HOME[0]) < lat_margin]\n",
    "df = df[abs(df.longitude - WORK[1]) < lon_margin]\n",
    "\n",
    "print(\"No of rows dropped: %d\") % (old_len - len(df))"
   ]
  },
  {
   "cell_type": "markdown",
   "metadata": {},
   "source": [
    "# Get only a specific number of weeks of data from specific start date"
   ]
  },
  {
   "cell_type": "code",
   "execution_count": 34,
   "metadata": {
    "collapsed": false
   },
   "outputs": [
    {
     "name": "stdout",
     "output_type": "stream",
     "text": [
      "10 week(s) of data: 35252 rows.\n",
      "No of unique dates: 70.\n"
     ]
    }
   ],
   "source": [
    "df_wk = df.copy()\n",
    "\n",
    "no_of_weeks = 10\n",
    "start_date = \"2014-11-09\"\n",
    "\n",
    "start_date = pd.to_datetime(start_date)\n",
    "selected_dates = []\n",
    "no_of_days = no_of_weeks * 7\n",
    "\n",
    "# create dates based on total number of weeks\n",
    "for i in range(no_of_days):\n",
    "    x = start_date + datetime.timedelta(days=i)\n",
    "    x = x.strftime('%Y-%m-%d')\n",
    "    selected_dates.append(x)\n",
    "    \n",
    "df_wk['date'] = df_wk.datetime.map(lambda x: x.strftime(\"%Y-%m-%d\"))\n",
    "df_wk = df_wk[df_wk.date.isin(selected_dates)]\n",
    "df_wk = df_wk[['latitude', 'longitude', 'datetime', 'date']]\n",
    "print \"%d week(s) of data: %d rows.\" % (no_of_weeks, len(df_wk))\n",
    "print \"No of unique dates: %d.\" % len(set(selected_dates))"
   ]
  },
  {
   "cell_type": "markdown",
   "metadata": {},
   "source": [
    "# Extract lat,lon for clustering"
   ]
  },
  {
   "cell_type": "code",
   "execution_count": 36,
   "metadata": {
    "collapsed": false
   },
   "outputs": [
    {
     "data": {
      "text/plain": [
       "array([[ 42.4467531, -76.4934493],\n",
       "       [ 42.4467796, -76.49335  ],\n",
       "       [ 42.4467713, -76.4933573],\n",
       "       ..., \n",
       "       [ 42.4333735, -76.4711208],\n",
       "       [ 42.4332949, -76.4711238],\n",
       "       [ 42.4332932, -76.4711206]])"
      ]
     },
     "execution_count": 36,
     "metadata": {},
     "output_type": "execute_result"
    }
   ],
   "source": [
    "coordinates = df_wk.as_matrix(columns=['latitude', 'longitude'])\n",
    "coordinates"
   ]
  },
  {
   "cell_type": "markdown",
   "metadata": {},
   "source": [
    "# KMeans cluster of location "
   ]
  },
  {
   "cell_type": "code",
   "execution_count": 37,
   "metadata": {
    "collapsed": false
   },
   "outputs": [
    {
     "data": {
      "image/png": "[encoded data removed]",
      "text/plain": [
       "<matplotlib.figure.Figure at 0x10a25fe10>"
      ]
     },
     "metadata": {},
     "output_type": "display_data"
    },
    {
     "name": "stdout",
     "output_type": "stream",
     "text": [
      "k = 3\n",
      "N = 35252\n",
      "cluster_centroids = 3\n",
      "closest_centroids = 35252\n",
      "unique_closest_centroids = 3\n"
     ]
    }
   ],
   "source": [
    "import numpy as np\n",
    "import matplotlib.pyplot as plt\n",
    "from scipy.cluster.vq import kmeans2, whiten\n",
    "from sklearn.cluster import DBSCAN\n",
    "%matplotlib inline\n",
    "\n",
    "N = len(coordinates)\n",
    "k = 3\n",
    "i = 50\n",
    "w = whiten(coordinates) # normalize\n",
    "\n",
    "cluster_centroids, closest_centroids = kmeans2(w, k, iter=i, minit='points')\n",
    "plt.figure(figsize=(10, 6), dpi=100)\n",
    "cluster_plot = plt.scatter(cluster_centroids[:,0], cluster_centroids[:,1], c='r', s=500)\n",
    "orig_plot = plt.scatter(w[:,0], w[:,1], c='k', alpha=.3, s=10)\n",
    "plt.title(\"K-Means Cluster (k=%d)\" % k)\n",
    "plt.legend((cluster_plot, orig_plot), ('Clusters', 'Raw Data'), loc='upper left')\n",
    "plt.show()\n",
    "\n",
    "# Sanity Check\n",
    "print 'k =', k\n",
    "print 'N =', N\n",
    "print 'cluster_centroids =', len(cluster_centroids)\n",
    "print 'closest_centroids =', len(closest_centroids)\n",
    "print 'unique_closest_centroids =', len(np.unique(closest_centroids))"
   ]
  },
  {
   "cell_type": "markdown",
   "metadata": {},
   "source": [
    "# DBSCAN cluster of location"
   ]
  },
  {
   "cell_type": "code",
   "execution_count": 38,
   "metadata": {
    "collapsed": false
   },
   "outputs": [
    {
     "data": {
      "image/png": "[encoded data removed]",
      "text/plain": [
       "<matplotlib.figure.Figure at 0x109f9ef90>"
      ]
     },
     "metadata": {},
     "output_type": "display_data"
    }
   ],
   "source": [
    "import numpy as np\n",
    "\n",
    "from sklearn.cluster import DBSCAN\n",
    "from sklearn import metrics\n",
    "from sklearn.datasets.samples_generator import make_blobs\n",
    "from sklearn.preprocessing import StandardScaler\n",
    "\n",
    "\n",
    "# Compute DBSCAN\n",
    "X = coordinates\n",
    "db = DBSCAN(eps=0.3, min_samples=100).fit(X)\n",
    "core_samples_mask = np.zeros_like(db.labels_, dtype=bool)\n",
    "core_samples_mask[db.core_sample_indices_] = True\n",
    "labels = db.labels_\n",
    "\n",
    "# Number of clusters in labels, ignoring noise if present.\n",
    "n_clusters_ = len(set(labels)) - (1 if -1 in labels else 0)\n",
    "\n",
    "##############################################################################\n",
    "# Plot result\n",
    "import matplotlib.pyplot as plt\n",
    "\n",
    "# Black removed and is used for noise instead.\n",
    "unique_labels = set(labels)\n",
    "colors = plt.cm.Spectral(np.linspace(0, 1, len(unique_labels)))\n",
    "for k, col in zip(unique_labels, colors):\n",
    "    if k == -1:\n",
    "        # Black used for noise.\n",
    "        col = 'k'\n",
    "\n",
    "    class_member_mask = (labels == k)\n",
    "\n",
    "    xy = X[class_member_mask & core_samples_mask]\n",
    "    plt.plot(xy[:, 0], xy[:, 1], 'o', markerfacecolor=col,\n",
    "             markeredgecolor='k', markersize=14)\n",
    "\n",
    "    xy = X[class_member_mask & ~core_samples_mask]\n",
    "    plt.plot(xy[:, 0], xy[:, 1], 'o', markerfacecolor=col,\n",
    "             markeredgecolor='k', markersize=6)\n",
    "\n",
    "plt.title('Estimated number of clusters: %d' % n_clusters_)\n",
    "plt.show()"
   ]
  },
  {
   "cell_type": "code",
   "execution_count": null,
   "metadata": {
    "collapsed": true
   },
   "outputs": [],
   "source": []
  },
  {
   "cell_type": "code",
   "execution_count": null,
   "metadata": {
    "collapsed": true
   },
   "outputs": [],
   "source": []
  },
  {
   "cell_type": "code",
   "execution_count": null,
   "metadata": {
    "collapsed": true
   },
   "outputs": [],
   "source": []
  },
  {
   "cell_type": "code",
   "execution_count": null,
   "metadata": {
    "collapsed": true
   },
   "outputs": [],
   "source": []
  },
  {
   "cell_type": "code",
   "execution_count": null,
   "metadata": {
    "collapsed": true
   },
   "outputs": [],
   "source": []
  },
  {
   "cell_type": "code",
   "execution_count": null,
   "metadata": {
    "collapsed": true
   },
   "outputs": [],
   "source": []
  },
  {
   "cell_type": "markdown",
   "metadata": {},
   "source": []
  },
  {
   "cell_type": "code",
   "execution_count": null,
   "metadata": {
    "collapsed": false
   },
   "outputs": [],
   "source": []
  },
  {
   "cell_type": "markdown",
   "metadata": {},
   "source": [
    "# Specify only places of interest in Ithaca and ignore locations outside Ithaca"
   ]
  },
  {
   "cell_type": "code",
   "execution_count": null,
   "metadata": {
    "collapsed": false
   },
   "outputs": [],
   "source": [
    "HOME = (42.446594, -76.493736)\n",
    "WORK = (42.444877, -76.480814)\n",
    "\n",
    "lat_margin = 0.1\n",
    "lon_margin = 1.0\n",
    "\n",
    "# home location is used to estimate places outside Ithaca but \n",
    "# work location works just as well because the lat and lon margins \n",
    "# are definitely outside Ithaca\n",
    "ld_wk = ld_wk[abs(ld_wk.latitude - HOME[0]) < lat_margin]\n",
    "ld_wk = ld_wk[abs(ld_wk.longitude - WORK[1]) < lon_margin]\n",
    "\n",
    "print \"No of rows: %d.\" % len(ld_wk)\n",
    "print \"No of unique dates: %d.\" % len(set(ld_wk.date))"
   ]
  },
  {
   "cell_type": "markdown",
   "metadata": {},
   "source": [
    "# Label every location as either home, work or other"
   ]
  },
  {
   "cell_type": "code",
   "execution_count": null,
   "metadata": {
    "collapsed": false
   },
   "outputs": [],
   "source": [
    "lat_error_margin = 0.0005\n",
    "lon_error_margin = 0.005\n",
    "\n",
    "POINTS = {\n",
    "    'home': HOME,\n",
    "    'work': WORK\n",
    "}\n",
    "\n",
    "def get_loc_label(df, points):\n",
    "    for label, point in points.items():\n",
    "        within_lat = abs(df['latitude'] - point[0]) <= lat_error_margin\n",
    "        within_lon = abs(df['longitude'] - point[1]) <= lon_error_margin\n",
    "        if (within_lat and within_lon):\n",
    "            return label\n",
    "    else:\n",
    "        return 'other'\n",
    "\n",
    "ld_wk['loc_label'] = ld_wk.apply(lambda x: get_loc_label(x, POINTS), axis='columns')\n",
    "ld_wk.head()"
   ]
  },
  {
   "cell_type": "code",
   "execution_count": null,
   "metadata": {
    "collapsed": false
   },
   "outputs": [],
   "source": [
    "oo = ld_wk[(ld_wk.date==\"2014-09-02\")]# &\n",
    "           #(ld_wk.loc_label==\"work\")]\n",
    "\n",
    "import pprint as pp\n",
    "for x in oo.values:\n",
    "    pp.pprint(x)"
   ]
  },
  {
   "cell_type": "markdown",
   "metadata": {},
   "source": [
    "# Mark every day by numeric value (0=Mon, 6=Sun)"
   ]
  },
  {
   "cell_type": "code",
   "execution_count": null,
   "metadata": {
    "collapsed": false
   },
   "outputs": [],
   "source": [
    "weekday_patterns = ld_wk[['datetime', 'loc_label']]\n",
    "weekday_patterns['day'] = weekday_patterns.datetime.map(lambda x: x.weekday())\n",
    "weekday_patterns.head()"
   ]
  },
  {
   "cell_type": "markdown",
   "metadata": {},
   "source": [
    "# Day of week by location frequency"
   ]
  },
  {
   "cell_type": "code",
   "execution_count": null,
   "metadata": {
    "collapsed": false
   },
   "outputs": [],
   "source": [
    "weekday_label = (\"Mon\", \"Tues\", \"Wed\", \"Thurs\", \"Fri\", \"Sat\", \"Sun\")\n",
    "\n",
    "ggplot(weekday_patterns, aes(\"day\", fill='loc_label')) + geom_bar() + \\\n",
    "    scale_x_continuous(name=\"Day of Week\", labels=weekday_label) + \\\n",
    "    scale_y_continuous(name=\"Frequency\", labels=\"comma\") + \\\n",
    "    ggtitle(\"Location Frequency by Day of Week\") + \\\n",
    "    theme_bw()"
   ]
  },
  {
   "cell_type": "markdown",
   "metadata": {},
   "source": [
    "# Trend for day of week by location frequency"
   ]
  },
  {
   "cell_type": "code",
   "execution_count": null,
   "metadata": {
    "collapsed": false
   },
   "outputs": [],
   "source": [
    "wkdf = weekday_patterns[['day', 'loc_label']]\n",
    "wkdf['freq'] = 0\n",
    "wkdf = wkdf.groupby(['day', 'loc_label']).count().reset_index()\n",
    "\n",
    "ggplot(wkdf, aes('day', 'freq', color='loc_label')) + geom_line(size=5) + \\\n",
    "    scale_x_continuous(name=\"Day of Week\", labels=weekday_label) + \\\n",
    "    scale_y_continuous(name=\"Frequency\", labels=\"comma\") + \\\n",
    "    ggtitle(\"Location Frequency by Day of Week\") + \\\n",
    "    theme_seaborn()"
   ]
  },
  {
   "cell_type": "markdown",
   "metadata": {},
   "source": [
    "# Show location frequency by date (ggplot)"
   ]
  },
  {
   "cell_type": "code",
   "execution_count": null,
   "metadata": {
    "collapsed": false
   },
   "outputs": [],
   "source": [
    "date_df = weekday_patterns[['datetime', 'loc_label']]\n",
    "date_df['freq'] = 0\n",
    "\n",
    "date_df = date_df.set_index('datetime')\n",
    "date_df = date_df.groupby('loc_label').resample('D', how='count').reset_index()\n",
    "\n",
    "ggplot(date_df, aes('datetime', 'freq', color='loc_label')) + \\\n",
    "    geom_line(size=5) + \\\n",
    "    scale_x_date(name=\"Date\", labels=\"%b %d\", breaks=date_breaks(\"1 week\")) + \\\n",
    "    ggtitle(\"Frequency of Location by Time\") + \\\n",
    "    theme_seaborn() + \\\n",
    "    theme(axis_text_x  = element_text(angle = 90, hjust = 1))"
   ]
  },
  {
   "cell_type": "markdown",
   "metadata": {},
   "source": [
    "# Day of week by time of day for each location"
   ]
  },
  {
   "cell_type": "code",
   "execution_count": null,
   "metadata": {
    "collapsed": false
   },
   "outputs": [],
   "source": [
    "day_patterns = ld_wk[['datetime', 'loc_label']]\n",
    "day_patterns['day'] = day_patterns.datetime.map(lambda x: x.weekday())\n",
    "day_patterns['time'] = day_patterns.datetime.map(lambda x: int(x.strftime(\"%H\")) + float(x.strftime(\"%M\"))/60)\n",
    "\n",
    "weekday_label = (\"Mon\", \"Tues\", \"Wed\", \"Thurs\", \"Fri\", \"Sat\", \"Sun\")\n",
    "time_label = (\"Midnight\", \"5am\", \"10am\", \"3pm\", \"8pm\", \"Midnight\")\n",
    "\n",
    "ggplot(day_patterns, aes('day', 'time', color='loc_label')) + \\\n",
    "    geom_point() + \\\n",
    "    scale_x_continuous(name = \"Day of Week\", breaks=range(0,8), labels=weekday_label) + \\\n",
    "    scale_y_continuous(name=\"Time of Day\", limits=(0,25), labels=time_label) + \\\n",
    "    theme_bw()"
   ]
  },
  {
   "cell_type": "markdown",
   "metadata": {},
   "source": [
    "# Different dates by time and proportion of each location"
   ]
  },
  {
   "cell_type": "code",
   "execution_count": null,
   "metadata": {
    "collapsed": false
   },
   "outputs": [],
   "source": [
    "time_label = (\"Midnight\", \"5am\", \"10am\", \"3pm\", \"8pm\", \"Midnight\")\n",
    "\n",
    "date_df = weekday_patterns[['datetime', 'loc_label']]\n",
    "date_df['time'] = date_df.datetime.map(lambda x: int(x.strftime(\"%H\")) + float(x.strftime(\"%M\"))/60)\n",
    "\n",
    "ggplot(date_df, aes('datetime', 'time', color='loc_label')) + \\\n",
    "    geom_point(size=3) + \\\n",
    "    scale_x_date(name=\"Date\", labels=\"%a %b %d\", breaks=date_breaks(\"3 days\")) + \\\n",
    "    scale_y_continuous(name=\"Time of Day\", limits=(0,25), labels=time_label) + \\\n",
    "    ggtitle(\"Frequency of Location by Time\") + \\\n",
    "    theme_seaborn() + \\\n",
    "    theme(axis_text_x=element_text(angle = 90, hjust = 1))"
   ]
  },
  {
   "cell_type": "markdown",
   "metadata": {},
   "source": [
    "# Time left and returned from specified location"
   ]
  },
  {
   "cell_type": "code",
   "execution_count": null,
   "metadata": {
    "collapsed": false
   },
   "outputs": [],
   "source": [
    "ld_wk.head()"
   ]
  },
  {
   "cell_type": "code",
   "execution_count": null,
   "metadata": {
    "collapsed": false
   },
   "outputs": [],
   "source": [
    "def left_loc(dataframe, date, loc_label):\n",
    "    if date not in dataframe.date.tolist():\n",
    "        return -1\n",
    "    \n",
    "    all_labels = ['home', 'work', 'other']\n",
    "    all_labels.remove(loc_label)\n",
    "    \n",
    "    df = dataframe[(dataframe.date == date)]\n",
    "    locations = df.loc_label.tolist()\n",
    "    \n",
    "    OUT_OF_RANGE = 999999\n",
    "    label_1, label_2 = all_labels[0], all_labels[1]\n",
    "    index_1 = locations.index(label_1) if label_1 in locations else OUT_OF_RANGE\n",
    "    index_2 = locations.index(label_2) if label_2 in locations else OUT_OF_RANGE\n",
    "    first_index = min(index_1, index_2)\n",
    "    \n",
    "    print \"index_1: %d.\\nindex_2: %d.\" % (index_1, index_2)\n",
    "\n",
    "    time = -99\n",
    "    if first_index != OUT_OF_RANGE:\n",
    "        date = df.datetime.tolist()[first_index]\n",
    "        # time = int(date.strftime(\"%H\")) + float(date.strftime(\"%M\"))/60\n",
    "        time = date\n",
    "    return time"
   ]
  },
  {
   "cell_type": "code",
   "execution_count": null,
   "metadata": {
    "collapsed": true
   },
   "outputs": [],
   "source": [
    "def returned_to_loc(dataframe, date, loc_label):\n",
    "    if date not in dataframe.date.tolist():\n",
    "        return -1\n",
    "    \n",
    "    all_labels = ['home', 'work', 'other']\n",
    "    all_labels.remove(loc_label)\n",
    "    \n",
    "    df = dataframe[(dataframe.date == date)]\n",
    "    reversed_locations = df.sort_values('datetime', ascending=False).to_list()\n",
    "    locations = reversed_locations\n",
    "    \n",
    "    OUT_OF_RANGE = 999999\n",
    "    loc_len = len(locations)\n",
    "    \n",
    "    label_1, label_2 = all_labels[0], all_labels[1] #TODO: remove\n",
    "    \n",
    "    index_1 = loc_len - 1 - locations.index(label_1) if label_1 in locations else OUT_OF_RANGE\n",
    "    index_2 = loc_len - 1 - locations.index(label_2) if label_2 in locations else OUT_OF_RANGE\n",
    "    first_index = min(index_1, index_2)\n",
    "\n",
    "    time = -99\n",
    "    if first_index != OUT_OF_RANGE:\n",
    "        date = df.datetime.tolist()[first_index]\n",
    "        time = int(date.strftime(\"%H\")) + float(date.strftime(\"%M\"))/60\n",
    "        \n",
    "        print \"ret_index:\", first_index\n",
    "\n",
    "    return time"
   ]
  },
  {
   "cell_type": "markdown",
   "metadata": {},
   "source": [
    "# Testing functions"
   ]
  },
  {
   "cell_type": "code",
   "execution_count": null,
   "metadata": {
    "collapsed": false
   },
   "outputs": [],
   "source": [
    "dates = [\"2014-09-01\", \"2014-09-02\", \"2014-09-03\"]\n",
    "dd = ld_wk[ld_wk.date==\"2014-09-01\"]\n",
    "dd.head()"
   ]
  },
  {
   "cell_type": "code",
   "execution_count": null,
   "metadata": {
    "collapsed": false
   },
   "outputs": [],
   "source": [
    "rr = [left_loc(ld_wk, d, \"home\") for d in dates]\n",
    "rr"
   ]
  },
  {
   "cell_type": "markdown",
   "metadata": {
    "collapsed": true
   },
   "source": [
    "# Use plotly for heatmaps of day by time"
   ]
  },
  {
   "cell_type": "code",
   "execution_count": null,
   "metadata": {
    "collapsed": true
   },
   "outputs": [],
   "source": [
    " tls.set_credentials_file(username='fnokeke', api_key='v44dzxrwuw')"
   ]
  },
  {
   "cell_type": "code",
   "execution_count": null,
   "metadata": {
    "collapsed": false
   },
   "outputs": [],
   "source": [
    "selected_patterns = day_patterns[day_patterns.loc_label=='other']\n",
    "df = selected_patterns[['day', 'time']]\n",
    "df.time = df.time.map(lambda x: int(x))\n",
    "df['freq'] = 0\n",
    "\n",
    "dfg = df.groupby(['time', 'day']).count().unstack()\n",
    "dfg.columns = dfg.columns.droplevel()\n",
    "dfg = dfg.reset_index(drop=True)\n",
    "\n",
    "dfg.columns = ['Mon', 'Tue', 'Wed', 'Thur', 'Fri', 'Sat', 'Sun']\n",
    "hours = range(24)\n",
    "new_index = []\n",
    "for h in hours: \n",
    "    if h == 0:\n",
    "        new_index.append('Midnight')\n",
    "    elif h < 12:\n",
    "        new_index.append(str(h) + 'am')\n",
    "    elif h == 12:\n",
    "        new_index.append('Noon')\n",
    "    else:\n",
    "        value = h % 12\n",
    "        new_index.append(str(value) + 'pm')    \n",
    "        \n",
    "dfg.index = new_index\n",
    "dfg = dfg.T\n",
    "dfg"
   ]
  },
  {
   "cell_type": "code",
   "execution_count": null,
   "metadata": {
    "collapsed": false
   },
   "outputs": [],
   "source": [
    "dfg.iplot(kind='heatmap',colorscale='spectral',\n",
    "                        filename='cufflinks/simple-heatmap')"
   ]
  },
  {
   "cell_type": "code",
   "execution_count": null,
   "metadata": {
    "collapsed": true
   },
   "outputs": [],
   "source": []
  }
 ],
 "metadata": {
  "kernelspec": {
   "display_name": "Python 2",
   "language": "python",
   "name": "python2"
  },
  "language_info": {
   "codemirror_mode": {
    "name": "ipython",
    "version": 2
   },
   "file_extension": ".py",
   "mimetype": "text/x-python",
   "name": "python",
   "nbconvert_exporter": "python",
   "pygments_lexer": "ipython2",
   "version": "2.7.10"
  }
 },
 "nbformat": 4,
 "nbformat_minor": 0
}
