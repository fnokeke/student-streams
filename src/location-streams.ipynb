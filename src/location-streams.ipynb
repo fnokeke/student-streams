{
 "cells": [
  {
   "cell_type": "markdown",
   "metadata": {},
   "source": [
    "# Get relevant libraries"
   ]
  },
  {
   "cell_type": "code",
   "execution_count": 299,
   "metadata": {
    "collapsed": false
   },
   "outputs": [],
   "source": [
    "import ujson as json\n",
    "import pprint\n",
    "import pandas as pd\n",
    "import numpy as np\n",
    "import datetime\n",
    "import time\n",
    "import datetime\n",
    "import calendar\n",
    "import seaborn as sns\n",
    "\n",
    "import matplotlib.dates as mdates\n",
    "from matplotlib import pyplot as plt\n",
    "from ggplot import *"
   ]
  },
  {
   "cell_type": "markdown",
   "metadata": {},
   "source": [
    "# All plots should be inside notebook"
   ]
  },
  {
   "cell_type": "code",
   "execution_count": 300,
   "metadata": {
    "collapsed": true
   },
   "outputs": [],
   "source": [
    "%matplotlib inline\n",
    "pd.options.mode.chained_assignment = None  # remove default='warn'"
   ]
  },
  {
   "cell_type": "markdown",
   "metadata": {},
   "source": [
    "# Import data"
   ]
  },
  {
   "cell_type": "code",
   "execution_count": 301,
   "metadata": {
    "collapsed": false
   },
   "outputs": [
    {
     "name": "stdout",
     "output_type": "stream",
     "text": [
      "Number of items in data: 266972\n"
     ]
    }
   ],
   "source": [
    "filename = \"/Users/fnokeke/dev/student-streams/dataset/LocationHistory.json\"\n",
    "with open(filename) as json_file:\n",
    "    raw = json.load(json_file)\n",
    "\n",
    "ld = pd.DataFrame(raw['locations'])\n",
    "print(\"Number of items in data: %d\") % len(ld)\n",
    "\n",
    "# free up memory\n",
    "del raw"
   ]
  },
  {
   "cell_type": "markdown",
   "metadata": {},
   "source": [
    "# Convert to typical units and rename columns"
   ]
  },
  {
   "cell_type": "code",
   "execution_count": 303,
   "metadata": {
    "collapsed": false
   },
   "outputs": [],
   "source": [
    "ld['latitudeE7'] = ld['latitudeE7']/float(1e7)\n",
    "ld['longitudeE7'] = ld['longitudeE7']/float(1e7)\n",
    "ld['timestampMs'] = ld['timestampMs'].map(lambda x: float(x)/1000)\n",
    "ld['datetime'] = ld.timestampMs.map(datetime.datetime.fromtimestamp)\n",
    "ld['date'] = ld.datetime.map(lambda x: x.strftime(\"%Y-%m-%d\")) # TODO: remove\n",
    "\n",
    "ld.rename(columns={\n",
    "'latitudeE7': 'latitude',\n",
    "'longitudeE7': 'longitude',\n",
    "'timestampMs': 'timestamp'\n",
    "}, inplace=True)"
   ]
  },
  {
   "cell_type": "markdown",
   "metadata": {},
   "source": [
    "# Glimpse of raw data"
   ]
  },
  {
   "cell_type": "code",
   "execution_count": 336,
   "metadata": {
    "collapsed": false
   },
   "outputs": [
    {
     "name": "stdout",
     "output_type": "stream",
     "text": [
      "accuracy              int64\n",
      "activitys            object\n",
      "altitude            float64\n",
      "heading             float64\n",
      "latitude            float64\n",
      "longitude           float64\n",
      "timestamp           float64\n",
      "velocity            float64\n",
      "datetime     datetime64[ns]\n",
      "date                 object\n",
      "dtype: object\n"
     ]
    },
    {
     "data": {
      "text/html": [
       "<div>\n",
       "<table border=\"1\" class=\"dataframe\">\n",
       "  <thead>\n",
       "    <tr style=\"text-align: right;\">\n",
       "      <th></th>\n",
       "      <th>accuracy</th>\n",
       "      <th>activitys</th>\n",
       "      <th>altitude</th>\n",
       "      <th>heading</th>\n",
       "      <th>latitude</th>\n",
       "      <th>longitude</th>\n",
       "      <th>timestamp</th>\n",
       "      <th>velocity</th>\n",
       "      <th>datetime</th>\n",
       "      <th>date</th>\n",
       "    </tr>\n",
       "  </thead>\n",
       "  <tbody>\n",
       "    <tr>\n",
       "      <th>0</th>\n",
       "      <td>20</td>\n",
       "      <td>[{u'activities': [{u'confidence': 100, u'type'...</td>\n",
       "      <td>NaN</td>\n",
       "      <td>NaN</td>\n",
       "      <td>42.445009</td>\n",
       "      <td>-76.481233</td>\n",
       "      <td>1.444430e+09</td>\n",
       "      <td>NaN</td>\n",
       "      <td>2015-10-09 18:40:49.815</td>\n",
       "      <td>2015-10-09</td>\n",
       "    </tr>\n",
       "    <tr>\n",
       "      <th>1</th>\n",
       "      <td>20</td>\n",
       "      <td>NaN</td>\n",
       "      <td>NaN</td>\n",
       "      <td>NaN</td>\n",
       "      <td>42.445002</td>\n",
       "      <td>-76.481257</td>\n",
       "      <td>1.444430e+09</td>\n",
       "      <td>NaN</td>\n",
       "      <td>2015-10-09 18:39:49.791</td>\n",
       "      <td>2015-10-09</td>\n",
       "    </tr>\n",
       "    <tr>\n",
       "      <th>2</th>\n",
       "      <td>53</td>\n",
       "      <td>[{u'activities': [{u'confidence': 100, u'type'...</td>\n",
       "      <td>NaN</td>\n",
       "      <td>NaN</td>\n",
       "      <td>42.445001</td>\n",
       "      <td>-76.481254</td>\n",
       "      <td>1.444430e+09</td>\n",
       "      <td>NaN</td>\n",
       "      <td>2015-10-09 18:38:48.981</td>\n",
       "      <td>2015-10-09</td>\n",
       "    </tr>\n",
       "    <tr>\n",
       "      <th>3</th>\n",
       "      <td>51</td>\n",
       "      <td>[{u'activities': [{u'confidence': 85, u'type':...</td>\n",
       "      <td>NaN</td>\n",
       "      <td>NaN</td>\n",
       "      <td>42.444977</td>\n",
       "      <td>-76.481236</td>\n",
       "      <td>1.444430e+09</td>\n",
       "      <td>NaN</td>\n",
       "      <td>2015-10-09 18:37:48.476</td>\n",
       "      <td>2015-10-09</td>\n",
       "    </tr>\n",
       "    <tr>\n",
       "      <th>4</th>\n",
       "      <td>37</td>\n",
       "      <td>[{u'activities': [{u'confidence': 100, u'type'...</td>\n",
       "      <td>NaN</td>\n",
       "      <td>NaN</td>\n",
       "      <td>42.444994</td>\n",
       "      <td>-76.481249</td>\n",
       "      <td>1.444430e+09</td>\n",
       "      <td>NaN</td>\n",
       "      <td>2015-10-09 18:36:59.451</td>\n",
       "      <td>2015-10-09</td>\n",
       "    </tr>\n",
       "  </tbody>\n",
       "</table>\n",
       "</div>"
      ],
      "text/plain": [
       "   accuracy                                          activitys  altitude  \\\n",
       "0        20  [{u'activities': [{u'confidence': 100, u'type'...       NaN   \n",
       "1        20                                                NaN       NaN   \n",
       "2        53  [{u'activities': [{u'confidence': 100, u'type'...       NaN   \n",
       "3        51  [{u'activities': [{u'confidence': 85, u'type':...       NaN   \n",
       "4        37  [{u'activities': [{u'confidence': 100, u'type'...       NaN   \n",
       "\n",
       "   heading   latitude  longitude     timestamp  velocity  \\\n",
       "0      NaN  42.445009 -76.481233  1.444430e+09       NaN   \n",
       "1      NaN  42.445002 -76.481257  1.444430e+09       NaN   \n",
       "2      NaN  42.445001 -76.481254  1.444430e+09       NaN   \n",
       "3      NaN  42.444977 -76.481236  1.444430e+09       NaN   \n",
       "4      NaN  42.444994 -76.481249  1.444430e+09       NaN   \n",
       "\n",
       "                 datetime        date  \n",
       "0 2015-10-09 18:40:49.815  2015-10-09  \n",
       "1 2015-10-09 18:39:49.791  2015-10-09  \n",
       "2 2015-10-09 18:38:48.981  2015-10-09  \n",
       "3 2015-10-09 18:37:48.476  2015-10-09  \n",
       "4 2015-10-09 18:36:59.451  2015-10-09  "
      ]
     },
     "execution_count": 336,
     "metadata": {},
     "output_type": "execute_result"
    }
   ],
   "source": [
    "print ld.dtypes\n",
    "ld.head()"
   ]
  },
  {
   "cell_type": "markdown",
   "metadata": {},
   "source": [
    "# Get only a specific number of weeks of data from specific start date"
   ]
  },
  {
   "cell_type": "code",
   "execution_count": 337,
   "metadata": {
    "collapsed": true
   },
   "outputs": [],
   "source": [
    "no_of_weeks = 1\n",
    "no_of_days = no_of_weeks * 7"
   ]
  },
  {
   "cell_type": "markdown",
   "metadata": {},
   "source": [
    "# Get date in string format"
   ]
  },
  {
   "cell_type": "code",
   "execution_count": 338,
   "metadata": {
    "collapsed": false
   },
   "outputs": [
    {
     "name": "stdout",
     "output_type": "stream",
     "text": [
      "Week length: 7791\n",
      "[u'2014-11-09', u'2014-11-08', u'2014-11-07', u'2014-11-06', u'2014-11-05']\n"
     ]
    }
   ],
   "source": [
    "start_date = ld[ld.date=='2014-11-09'].date.head(1)\n",
    "start_date = pd.to_datetime(start_date)\n",
    "\n",
    "dates = []\n",
    "for i in range(no_of_days):\n",
    "    x = (start_date + datetime.timedelta(days=-i)).to_string()[9:] # horrible tweak to get date in string format\n",
    "    dates.append(x)\n",
    "    \n",
    "ld_wk = ld[ld.date.isin(dates)]\n",
    "print \"Week length:\", len(ld_wk)\n",
    "print dates[:5]"
   ]
  },
  {
   "cell_type": "markdown",
   "metadata": {},
   "source": [
    "# Ignore locations with accuracy estimates over 1000m"
   ]
  },
  {
   "cell_type": "code",
   "execution_count": 339,
   "metadata": {
    "collapsed": false
   },
   "outputs": [
    {
     "name": "stdout",
     "output_type": "stream",
     "text": [
      "Number of items in data: 7770\n"
     ]
    }
   ],
   "source": [
    "ld_wk = ld_wk[ld_wk.accuracy < 1000]\n",
    "ld_wk.reset_index(drop=True, inplace=True)\n",
    "print(\"Number of items in data: %d\") % len(ld_wk)"
   ]
  },
  {
   "cell_type": "markdown",
   "metadata": {},
   "source": [
    "# Select only columns of interest"
   ]
  },
  {
   "cell_type": "code",
   "execution_count": 340,
   "metadata": {
    "collapsed": false
   },
   "outputs": [],
   "source": [
    "ld_wk = ld_wk[['latitude', 'longitude', 'datetime', 'date']]"
   ]
  },
  {
   "cell_type": "markdown",
   "metadata": {},
   "source": [
    "# Specify places of interest in Ithaca and ignore locations outside Ithaca"
   ]
  },
  {
   "cell_type": "code",
   "execution_count": 341,
   "metadata": {
    "collapsed": false
   },
   "outputs": [
    {
     "name": "stdout",
     "output_type": "stream",
     "text": [
      "Number of items in data: 7770\n",
      "No of unique dates: 7\n"
     ]
    }
   ],
   "source": [
    "home = (42.446594, -76.493736)\n",
    "work = (42.444877, -76.480814)\n",
    "\n",
    "lat_margin = 0.1\n",
    "lon_margin = 1.0\n",
    "\n",
    "ld_wk = ld_wk[abs(ld_wk.latitude - home[0]) < lat_margin]\n",
    "ld_wk = ld_wk[abs(ld_wk.longitude - home[1]) < lon_margin]\n",
    "print(\"Number of items in data: %d\") % len(ld_wk)\n",
    "ld_wk.head()\n",
    "print \"No of unique dates:\", len(set(ld_wk.date))"
   ]
  },
  {
   "cell_type": "markdown",
   "metadata": {},
   "source": [
    "# Label every location as either home, work or other"
   ]
  },
  {
   "cell_type": "code",
   "execution_count": 342,
   "metadata": {
    "collapsed": false
   },
   "outputs": [],
   "source": [
    "lat_error_margin = 0.0005\n",
    "lon_error_margin = 0.005\n",
    "\n",
    "POINTS = {\n",
    "    'home': home,\n",
    "    'work': work\n",
    "}\n",
    "\n",
    "def get_loc_label(df, points):\n",
    "    for label, point in points.items():\n",
    "        within_lat = abs(df['latitude'] - point[0]) <= lat_error_margin\n",
    "        within_lon = abs(df['longitude'] - point[1]) <= lon_error_margin\n",
    "        if (within_lat and within_lon):\n",
    "            return label\n",
    "    else:\n",
    "        return 'other'\n",
    "\n",
    "ld_wk['loc_label'] = ld_wk.apply(lambda x: get_loc_label(x, POINTS), axis='columns')"
   ]
  },
  {
   "cell_type": "markdown",
   "metadata": {},
   "source": [
    "# Show sample locations of home, work, other"
   ]
  },
  {
   "cell_type": "code",
   "execution_count": 343,
   "metadata": {
    "collapsed": false
   },
   "outputs": [
    {
     "data": {
      "text/html": [
       "<div>\n",
       "<table border=\"1\" class=\"dataframe\">\n",
       "  <thead>\n",
       "    <tr style=\"text-align: right;\">\n",
       "      <th></th>\n",
       "      <th>latitude</th>\n",
       "      <th>longitude</th>\n",
       "      <th>datetime</th>\n",
       "      <th>date</th>\n",
       "      <th>loc_label</th>\n",
       "    </tr>\n",
       "  </thead>\n",
       "  <tbody>\n",
       "    <tr>\n",
       "      <th>0</th>\n",
       "      <td>42.449137</td>\n",
       "      <td>-76.477510</td>\n",
       "      <td>2014-11-09 23:59:18.731</td>\n",
       "      <td>2014-11-09</td>\n",
       "      <td>other</td>\n",
       "    </tr>\n",
       "    <tr>\n",
       "      <th>1</th>\n",
       "      <td>42.449135</td>\n",
       "      <td>-76.477484</td>\n",
       "      <td>2014-11-09 23:58:30.267</td>\n",
       "      <td>2014-11-09</td>\n",
       "      <td>other</td>\n",
       "    </tr>\n",
       "    <tr>\n",
       "      <th>59</th>\n",
       "      <td>42.448757</td>\n",
       "      <td>-76.477052</td>\n",
       "      <td>2014-11-09 22:42:36.146</td>\n",
       "      <td>2014-11-09</td>\n",
       "      <td>other</td>\n",
       "    </tr>\n",
       "    <tr>\n",
       "      <th>60</th>\n",
       "      <td>42.448759</td>\n",
       "      <td>-76.477058</td>\n",
       "      <td>2014-11-09 22:41:45.952</td>\n",
       "      <td>2014-11-09</td>\n",
       "      <td>other</td>\n",
       "    </tr>\n",
       "    <tr>\n",
       "      <th>61</th>\n",
       "      <td>42.448787</td>\n",
       "      <td>-76.476725</td>\n",
       "      <td>2014-11-09 22:37:19.310</td>\n",
       "      <td>2014-11-09</td>\n",
       "      <td>other</td>\n",
       "    </tr>\n",
       "    <tr>\n",
       "      <th>62</th>\n",
       "      <td>42.448752</td>\n",
       "      <td>-76.477033</td>\n",
       "      <td>2014-11-09 22:32:18.515</td>\n",
       "      <td>2014-11-09</td>\n",
       "      <td>other</td>\n",
       "    </tr>\n",
       "  </tbody>\n",
       "</table>\n",
       "</div>"
      ],
      "text/plain": [
       "     latitude  longitude                datetime        date loc_label\n",
       "0   42.449137 -76.477510 2014-11-09 23:59:18.731  2014-11-09     other\n",
       "1   42.449135 -76.477484 2014-11-09 23:58:30.267  2014-11-09     other\n",
       "59  42.448757 -76.477052 2014-11-09 22:42:36.146  2014-11-09     other\n",
       "60  42.448759 -76.477058 2014-11-09 22:41:45.952  2014-11-09     other\n",
       "61  42.448787 -76.476725 2014-11-09 22:37:19.310  2014-11-09     other\n",
       "62  42.448752 -76.477033 2014-11-09 22:32:18.515  2014-11-09     other"
      ]
     },
     "execution_count": 343,
     "metadata": {},
     "output_type": "execute_result"
    }
   ],
   "source": [
    "rows = [0,1,59,60,61,62]\n",
    "ld_wk[ld_wk['date'] == ld_wk.date[0]].iloc[rows]"
   ]
  },
  {
   "cell_type": "markdown",
   "metadata": {},
   "source": [
    "# Resample location patterns data by different time period"
   ]
  },
  {
   "cell_type": "code",
   "execution_count": 344,
   "metadata": {
    "collapsed": false
   },
   "outputs": [
    {
     "data": {
      "text/html": [
       "<div>\n",
       "<table border=\"1\" class=\"dataframe\">\n",
       "  <thead>\n",
       "    <tr style=\"text-align: right;\">\n",
       "      <th></th>\n",
       "      <th>loc_label</th>\n",
       "      <th>datetime</th>\n",
       "      <th>freq</th>\n",
       "    </tr>\n",
       "  </thead>\n",
       "  <tbody>\n",
       "    <tr>\n",
       "      <th>0</th>\n",
       "      <td>home</td>\n",
       "      <td>2014-11-03 00:00:00</td>\n",
       "      <td>174</td>\n",
       "    </tr>\n",
       "    <tr>\n",
       "      <th>1</th>\n",
       "      <td>home</td>\n",
       "      <td>2014-11-03 06:00:00</td>\n",
       "      <td>111</td>\n",
       "    </tr>\n",
       "    <tr>\n",
       "      <th>2</th>\n",
       "      <td>home</td>\n",
       "      <td>2014-11-03 12:00:00</td>\n",
       "      <td>0</td>\n",
       "    </tr>\n",
       "    <tr>\n",
       "      <th>3</th>\n",
       "      <td>home</td>\n",
       "      <td>2014-11-03 18:00:00</td>\n",
       "      <td>108</td>\n",
       "    </tr>\n",
       "    <tr>\n",
       "      <th>4</th>\n",
       "      <td>home</td>\n",
       "      <td>2014-11-04 00:00:00</td>\n",
       "      <td>177</td>\n",
       "    </tr>\n",
       "  </tbody>\n",
       "</table>\n",
       "</div>"
      ],
      "text/plain": [
       "  loc_label            datetime  freq\n",
       "0      home 2014-11-03 00:00:00   174\n",
       "1      home 2014-11-03 06:00:00   111\n",
       "2      home 2014-11-03 12:00:00     0\n",
       "3      home 2014-11-03 18:00:00   108\n",
       "4      home 2014-11-04 00:00:00   177"
      ]
     },
     "execution_count": 344,
     "metadata": {},
     "output_type": "execute_result"
    }
   ],
   "source": [
    "loc_patterns = ld_wk[['datetime', 'loc_label']]\n",
    "loc_patterns = loc_patterns.set_index('datetime')\n",
    "loc_patterns['freq'] = 0\n",
    "loc_group = loc_patterns.groupby(['loc_label']).resample('6H',how=len)\n",
    "loc_group = loc_group.reset_index()\n",
    "loc_group.head()"
   ]
  },
  {
   "cell_type": "code",
   "execution_count": 345,
   "metadata": {
    "collapsed": false
   },
   "outputs": [
    {
     "data": {
      "text/html": [
       "<div>\n",
       "<table border=\"1\" class=\"dataframe\">\n",
       "  <thead>\n",
       "    <tr style=\"text-align: right;\">\n",
       "      <th></th>\n",
       "      <th></th>\n",
       "      <th>freq</th>\n",
       "    </tr>\n",
       "    <tr>\n",
       "      <th>datetime</th>\n",
       "      <th>loc_label</th>\n",
       "      <th></th>\n",
       "    </tr>\n",
       "  </thead>\n",
       "  <tbody>\n",
       "    <tr>\n",
       "      <th>2014-11-03 00:00:00</th>\n",
       "      <th>home</th>\n",
       "      <td>174</td>\n",
       "    </tr>\n",
       "    <tr>\n",
       "      <th rowspan=\"3\" valign=\"top\">2014-11-03 06:00:00</th>\n",
       "      <th>home</th>\n",
       "      <td>111</td>\n",
       "    </tr>\n",
       "    <tr>\n",
       "      <th>other</th>\n",
       "      <td>6</td>\n",
       "    </tr>\n",
       "    <tr>\n",
       "      <th>work</th>\n",
       "      <td>139</td>\n",
       "    </tr>\n",
       "    <tr>\n",
       "      <th>2014-11-03 12:00:00</th>\n",
       "      <th>home</th>\n",
       "      <td>0</td>\n",
       "    </tr>\n",
       "  </tbody>\n",
       "</table>\n",
       "</div>"
      ],
      "text/plain": [
       "                               freq\n",
       "datetime            loc_label      \n",
       "2014-11-03 00:00:00 home        174\n",
       "2014-11-03 06:00:00 home        111\n",
       "                    other         6\n",
       "                    work        139\n",
       "2014-11-03 12:00:00 home          0"
      ]
     },
     "execution_count": 345,
     "metadata": {},
     "output_type": "execute_result"
    }
   ],
   "source": [
    "loc_group = loc_group.groupby(['datetime','loc_label']).sum()\n",
    "loc_group.head()"
   ]
  },
  {
   "cell_type": "code",
   "execution_count": 346,
   "metadata": {
    "collapsed": false
   },
   "outputs": [
    {
     "data": {
      "text/html": [
       "<div>\n",
       "<table border=\"1\" class=\"dataframe\">\n",
       "  <thead>\n",
       "    <tr>\n",
       "      <th></th>\n",
       "      <th colspan=\"3\" halign=\"left\">freq</th>\n",
       "    </tr>\n",
       "    <tr>\n",
       "      <th>loc_label</th>\n",
       "      <th>home</th>\n",
       "      <th>other</th>\n",
       "      <th>work</th>\n",
       "    </tr>\n",
       "    <tr>\n",
       "      <th>datetime</th>\n",
       "      <th></th>\n",
       "      <th></th>\n",
       "      <th></th>\n",
       "    </tr>\n",
       "  </thead>\n",
       "  <tbody>\n",
       "    <tr>\n",
       "      <th>2014-11-03 00:00:00</th>\n",
       "      <td>174</td>\n",
       "      <td>NaN</td>\n",
       "      <td>NaN</td>\n",
       "    </tr>\n",
       "    <tr>\n",
       "      <th>2014-11-03 06:00:00</th>\n",
       "      <td>111</td>\n",
       "      <td>6</td>\n",
       "      <td>139</td>\n",
       "    </tr>\n",
       "    <tr>\n",
       "      <th>2014-11-03 12:00:00</th>\n",
       "      <td>0</td>\n",
       "      <td>86</td>\n",
       "      <td>248</td>\n",
       "    </tr>\n",
       "    <tr>\n",
       "      <th>2014-11-03 18:00:00</th>\n",
       "      <td>108</td>\n",
       "      <td>5</td>\n",
       "      <td>196</td>\n",
       "    </tr>\n",
       "    <tr>\n",
       "      <th>2014-11-04 00:00:00</th>\n",
       "      <td>177</td>\n",
       "      <td>1</td>\n",
       "      <td>0</td>\n",
       "    </tr>\n",
       "  </tbody>\n",
       "</table>\n",
       "</div>"
      ],
      "text/plain": [
       "                    freq           \n",
       "loc_label           home other work\n",
       "datetime                           \n",
       "2014-11-03 00:00:00  174   NaN  NaN\n",
       "2014-11-03 06:00:00  111     6  139\n",
       "2014-11-03 12:00:00    0    86  248\n",
       "2014-11-03 18:00:00  108     5  196\n",
       "2014-11-04 00:00:00  177     1    0"
      ]
     },
     "execution_count": 346,
     "metadata": {},
     "output_type": "execute_result"
    }
   ],
   "source": [
    "loc_group.unstack().head()"
   ]
  },
  {
   "cell_type": "code",
   "execution_count": 754,
   "metadata": {
    "collapsed": false
   },
   "outputs": [
    {
     "data": {
      "image/png": "[encoded data removed]",
      "text/plain": [
       "<matplotlib.figure.Figure at 0x1dd2e7210>"
      ]
     },
     "metadata": {},
     "output_type": "display_data"
    }
   ],
   "source": [
    "loc_plot = loc_group.unstack().plot(kind='barh', stacked=True, title=\"Location Freq by Date\", figsize=(10,5))\n",
    "loc_plot.set_xlabel(\"Frequency\")\n",
    "loc_plot.set_ylabel(\"Time\")\n",
    "r = loc_plot.legend([\"Home\",\"Other\",\"Work\"],loc='center left', bbox_to_anchor=(1, 0.5), fancybox=True, shadow=True)"
   ]
  },
  {
   "cell_type": "markdown",
   "metadata": {},
   "source": [
    "# Mark every day by the day name"
   ]
  },
  {
   "cell_type": "code",
   "execution_count": 674,
   "metadata": {
    "collapsed": false
   },
   "outputs": [
    {
     "data": {
      "text/html": [
       "<div>\n",
       "<table border=\"1\" class=\"dataframe\">\n",
       "  <thead>\n",
       "    <tr style=\"text-align: right;\">\n",
       "      <th></th>\n",
       "      <th>datetime</th>\n",
       "      <th>loc_label</th>\n",
       "      <th>weekday</th>\n",
       "      <th>day</th>\n",
       "    </tr>\n",
       "  </thead>\n",
       "  <tbody>\n",
       "    <tr>\n",
       "      <th>0</th>\n",
       "      <td>2014-11-09 23:59:18.731</td>\n",
       "      <td>other</td>\n",
       "      <td>Sunday</td>\n",
       "      <td>6</td>\n",
       "    </tr>\n",
       "    <tr>\n",
       "      <th>1</th>\n",
       "      <td>2014-11-09 23:58:30.267</td>\n",
       "      <td>other</td>\n",
       "      <td>Sunday</td>\n",
       "      <td>6</td>\n",
       "    </tr>\n",
       "    <tr>\n",
       "      <th>2</th>\n",
       "      <td>2014-11-09 23:57:37.062</td>\n",
       "      <td>other</td>\n",
       "      <td>Sunday</td>\n",
       "      <td>6</td>\n",
       "    </tr>\n",
       "    <tr>\n",
       "      <th>3</th>\n",
       "      <td>2014-11-09 23:56:46.554</td>\n",
       "      <td>other</td>\n",
       "      <td>Sunday</td>\n",
       "      <td>6</td>\n",
       "    </tr>\n",
       "    <tr>\n",
       "      <th>4</th>\n",
       "      <td>2014-11-09 23:55:56.987</td>\n",
       "      <td>other</td>\n",
       "      <td>Sunday</td>\n",
       "      <td>6</td>\n",
       "    </tr>\n",
       "  </tbody>\n",
       "</table>\n",
       "</div>"
      ],
      "text/plain": [
       "                 datetime loc_label weekday  day\n",
       "0 2014-11-09 23:59:18.731     other  Sunday    6\n",
       "1 2014-11-09 23:58:30.267     other  Sunday    6\n",
       "2 2014-11-09 23:57:37.062     other  Sunday    6\n",
       "3 2014-11-09 23:56:46.554     other  Sunday    6\n",
       "4 2014-11-09 23:55:56.987     other  Sunday    6"
      ]
     },
     "execution_count": 674,
     "metadata": {},
     "output_type": "execute_result"
    }
   ],
   "source": [
    "weekday_patterns = ld_wk[['datetime', 'loc_label']]\n",
    "weekday_patterns['weekday'] = weekday_patterns.datetime.map(lambda x: calendar.day_name[x.weekday()])\n",
    "weekday_patterns['day'] = weekday_patterns.datetime.map(lambda x: x.weekday())\n",
    "weekday_patterns.head()"
   ]
  },
  {
   "cell_type": "markdown",
   "metadata": {},
   "source": [
    "# ggplot of day_of_week vs location frequency (stacked bar)"
   ]
  },
  {
   "cell_type": "code",
   "execution_count": 556,
   "metadata": {
    "collapsed": false
   },
   "outputs": [
    {
     "data": {
      "image/png": "[encoded data removed]",
      "text/plain": [
       "<matplotlib.figure.Figure at 0x1c5778050>"
      ]
     },
     "metadata": {},
     "output_type": "display_data"
    },
    {
     "data": {
      "text/plain": [
       "<ggplot: (475504985)>"
      ]
     },
     "execution_count": 556,
     "metadata": {},
     "output_type": "execute_result"
    }
   ],
   "source": [
    "weekday_label = (\"Mon\", \"Tues\", \"Wed\", \"Thurs\", \"Fri\", \"Sat\", \"Sun\")\n",
    "\n",
    "ggplot(weekday_patterns, aes(\"day\", fill='loc_label')) + geom_bar() + \\\n",
    "    scale_x_continuous(name=\"Day of Week\", labels=weekday_label) + \\\n",
    "    scale_y_continuous(name=\"Frequency\", labels=\"comma\") + \\\n",
    "    ggtitle(\"Location Frequency by Day of Week\") + \\\n",
    "    theme_seaborn()"
   ]
  },
  {
   "cell_type": "markdown",
   "metadata": {},
   "source": [
    "# ggplot of day_of_week vs location frequency (multiple lines)"
   ]
  },
  {
   "cell_type": "code",
   "execution_count": 612,
   "metadata": {
    "collapsed": false
   },
   "outputs": [
    {
     "data": {
      "image/png": "[encoded data removed]",
      "text/plain": [
       "<matplotlib.figure.Figure at 0x1c7ffb990>"
      ]
     },
     "metadata": {},
     "output_type": "display_data"
    },
    {
     "data": {
      "text/plain": [
       "<ggplot: (478288937)>"
      ]
     },
     "execution_count": 612,
     "metadata": {},
     "output_type": "execute_result"
    }
   ],
   "source": [
    "wkdf = weekday_patterns[['day', 'loc_label']]\n",
    "wkdf['freq'] = 0\n",
    "wkdf = wkdf.groupby(['day', 'loc_label']).count().reset_index()\n",
    "\n",
    "ggplot(wkdf, aes('day', 'freq', color='loc_label')) + geom_line() + \\\n",
    "    scale_x_continuous(name=\"Day of Week\", labels=weekday_label) + \\\n",
    "    scale_y_continuous(name=\"Frequency\", labels=\"comma\") + \\\n",
    "    ggtitle(\"Location Frequency by Day of Week\") + \\\n",
    "    theme_seaborn()"
   ]
  },
  {
   "cell_type": "markdown",
   "metadata": {},
   "source": [
    "# Show location frequency by date (ggplot)"
   ]
  },
  {
   "cell_type": "code",
   "execution_count": 753,
   "metadata": {
    "collapsed": false
   },
   "outputs": [
    {
     "data": {
      "image/png": "[encoded data removed]",
      "text/plain": [
       "<matplotlib.figure.Figure at 0x1dd0de650>"
      ]
     },
     "metadata": {},
     "output_type": "display_data"
    },
    {
     "data": {
      "text/plain": [
       "<ggplot: (500202153)>"
      ]
     },
     "execution_count": 753,
     "metadata": {},
     "output_type": "execute_result"
    }
   ],
   "source": [
    "date_df = weekday_patterns[['datetime', 'loc_label']]\n",
    "date_df['freq'] = 0\n",
    "\n",
    "date_df = date_df.set_index('datetime')\n",
    "date_df = date_df.groupby('loc_label').resample('D', how='count').reset_index()\n",
    "\n",
    "ggplot(date_df, aes('datetime', 'freq', color='loc_label')) + \\\n",
    "    geom_line() + \\\n",
    "    scale_x_date(name=\"Date\", labels=\"%b %d %-I %p\", breaks=date_breaks(\"8 hours\")) + \\\n",
    "    ggtitle(\"Frequency of Location by Time\") + \\\n",
    "    theme_bw()"
   ]
  },
  {
   "cell_type": "markdown",
   "metadata": {},
   "source": [
    "# Datetime by barchart (ggplot)"
   ]
  },
  {
   "cell_type": "code",
   "execution_count": 728,
   "metadata": {
    "collapsed": false
   },
   "outputs": [
    {
     "data": {
      "text/html": [
       "<div>\n",
       "<table border=\"1\" class=\"dataframe\">\n",
       "  <thead>\n",
       "    <tr style=\"text-align: right;\">\n",
       "      <th></th>\n",
       "      <th>loc_label</th>\n",
       "      <th>datetime</th>\n",
       "      <th>freq</th>\n",
       "    </tr>\n",
       "  </thead>\n",
       "  <tbody>\n",
       "    <tr>\n",
       "      <th>0</th>\n",
       "      <td>home</td>\n",
       "      <td>2014-11-03</td>\n",
       "      <td>393</td>\n",
       "    </tr>\n",
       "    <tr>\n",
       "      <th>1</th>\n",
       "      <td>home</td>\n",
       "      <td>2014-11-04</td>\n",
       "      <td>342</td>\n",
       "    </tr>\n",
       "    <tr>\n",
       "      <th>2</th>\n",
       "      <td>home</td>\n",
       "      <td>2014-11-05</td>\n",
       "      <td>373</td>\n",
       "    </tr>\n",
       "    <tr>\n",
       "      <th>3</th>\n",
       "      <td>home</td>\n",
       "      <td>2014-11-06</td>\n",
       "      <td>463</td>\n",
       "    </tr>\n",
       "    <tr>\n",
       "      <th>4</th>\n",
       "      <td>home</td>\n",
       "      <td>2014-11-07</td>\n",
       "      <td>363</td>\n",
       "    </tr>\n",
       "    <tr>\n",
       "      <th>5</th>\n",
       "      <td>home</td>\n",
       "      <td>2014-11-08</td>\n",
       "      <td>396</td>\n",
       "    </tr>\n",
       "    <tr>\n",
       "      <th>6</th>\n",
       "      <td>home</td>\n",
       "      <td>2014-11-09</td>\n",
       "      <td>806</td>\n",
       "    </tr>\n",
       "    <tr>\n",
       "      <th>7</th>\n",
       "      <td>other</td>\n",
       "      <td>2014-11-03</td>\n",
       "      <td>97</td>\n",
       "    </tr>\n",
       "    <tr>\n",
       "      <th>8</th>\n",
       "      <td>other</td>\n",
       "      <td>2014-11-04</td>\n",
       "      <td>127</td>\n",
       "    </tr>\n",
       "    <tr>\n",
       "      <th>9</th>\n",
       "      <td>other</td>\n",
       "      <td>2014-11-05</td>\n",
       "      <td>105</td>\n",
       "    </tr>\n",
       "    <tr>\n",
       "      <th>10</th>\n",
       "      <td>other</td>\n",
       "      <td>2014-11-06</td>\n",
       "      <td>412</td>\n",
       "    </tr>\n",
       "    <tr>\n",
       "      <th>11</th>\n",
       "      <td>other</td>\n",
       "      <td>2014-11-07</td>\n",
       "      <td>193</td>\n",
       "    </tr>\n",
       "    <tr>\n",
       "      <th>12</th>\n",
       "      <td>other</td>\n",
       "      <td>2014-11-08</td>\n",
       "      <td>634</td>\n",
       "    </tr>\n",
       "    <tr>\n",
       "      <th>13</th>\n",
       "      <td>other</td>\n",
       "      <td>2014-11-09</td>\n",
       "      <td>394</td>\n",
       "    </tr>\n",
       "    <tr>\n",
       "      <th>14</th>\n",
       "      <td>work</td>\n",
       "      <td>2014-11-03</td>\n",
       "      <td>583</td>\n",
       "    </tr>\n",
       "    <tr>\n",
       "      <th>15</th>\n",
       "      <td>work</td>\n",
       "      <td>2014-11-04</td>\n",
       "      <td>503</td>\n",
       "    </tr>\n",
       "    <tr>\n",
       "      <th>16</th>\n",
       "      <td>work</td>\n",
       "      <td>2014-11-05</td>\n",
       "      <td>668</td>\n",
       "    </tr>\n",
       "    <tr>\n",
       "      <th>17</th>\n",
       "      <td>work</td>\n",
       "      <td>2014-11-06</td>\n",
       "      <td>377</td>\n",
       "    </tr>\n",
       "    <tr>\n",
       "      <th>18</th>\n",
       "      <td>work</td>\n",
       "      <td>2014-11-07</td>\n",
       "      <td>537</td>\n",
       "    </tr>\n",
       "    <tr>\n",
       "      <th>19</th>\n",
       "      <td>work</td>\n",
       "      <td>2014-11-08</td>\n",
       "      <td>0</td>\n",
       "    </tr>\n",
       "    <tr>\n",
       "      <th>20</th>\n",
       "      <td>work</td>\n",
       "      <td>2014-11-09</td>\n",
       "      <td>4</td>\n",
       "    </tr>\n",
       "  </tbody>\n",
       "</table>\n",
       "</div>"
      ],
      "text/plain": [
       "   loc_label   datetime  freq\n",
       "0       home 2014-11-03   393\n",
       "1       home 2014-11-04   342\n",
       "2       home 2014-11-05   373\n",
       "3       home 2014-11-06   463\n",
       "4       home 2014-11-07   363\n",
       "5       home 2014-11-08   396\n",
       "6       home 2014-11-09   806\n",
       "7      other 2014-11-03    97\n",
       "8      other 2014-11-04   127\n",
       "9      other 2014-11-05   105\n",
       "10     other 2014-11-06   412\n",
       "11     other 2014-11-07   193\n",
       "12     other 2014-11-08   634\n",
       "13     other 2014-11-09   394\n",
       "14      work 2014-11-03   583\n",
       "15      work 2014-11-04   503\n",
       "16      work 2014-11-05   668\n",
       "17      work 2014-11-06   377\n",
       "18      work 2014-11-07   537\n",
       "19      work 2014-11-08     0\n",
       "20      work 2014-11-09     4"
      ]
     },
     "execution_count": 728,
     "metadata": {},
     "output_type": "execute_result"
    }
   ],
   "source": [
    "date_df = weekday_patterns[['datetime', 'loc_label']]\n",
    "date_df['freq'] = 0\n",
    "\n",
    "pp = date_df.set_index('datetime').groupby('loc_label').resample('D', how='count').reset_index()\n",
    "pp"
   ]
  },
  {
   "cell_type": "code",
   "execution_count": 739,
   "metadata": {
    "collapsed": false
   },
   "outputs": [
    {
     "data": {
      "text/html": [
       "<div>\n",
       "<table border=\"1\" class=\"dataframe\">\n",
       "  <thead>\n",
       "    <tr style=\"text-align: right;\">\n",
       "      <th></th>\n",
       "      <th>datetime</th>\n",
       "      <th>loc_label</th>\n",
       "      <th>variable</th>\n",
       "      <th>value</th>\n",
       "      <th>x</th>\n",
       "    </tr>\n",
       "  </thead>\n",
       "  <tbody>\n",
       "    <tr>\n",
       "      <th>0</th>\n",
       "      <td>2014-11-03</td>\n",
       "      <td>home</td>\n",
       "      <td>freq</td>\n",
       "      <td>393</td>\n",
       "      <td>0</td>\n",
       "    </tr>\n",
       "    <tr>\n",
       "      <th>1</th>\n",
       "      <td>2014-11-04</td>\n",
       "      <td>home</td>\n",
       "      <td>freq</td>\n",
       "      <td>342</td>\n",
       "      <td>1</td>\n",
       "    </tr>\n",
       "    <tr>\n",
       "      <th>2</th>\n",
       "      <td>2014-11-05</td>\n",
       "      <td>home</td>\n",
       "      <td>freq</td>\n",
       "      <td>373</td>\n",
       "      <td>2</td>\n",
       "    </tr>\n",
       "    <tr>\n",
       "      <th>3</th>\n",
       "      <td>2014-11-06</td>\n",
       "      <td>home</td>\n",
       "      <td>freq</td>\n",
       "      <td>463</td>\n",
       "      <td>3</td>\n",
       "    </tr>\n",
       "    <tr>\n",
       "      <th>4</th>\n",
       "      <td>2014-11-07</td>\n",
       "      <td>home</td>\n",
       "      <td>freq</td>\n",
       "      <td>363</td>\n",
       "      <td>4</td>\n",
       "    </tr>\n",
       "    <tr>\n",
       "      <th>5</th>\n",
       "      <td>2014-11-08</td>\n",
       "      <td>home</td>\n",
       "      <td>freq</td>\n",
       "      <td>396</td>\n",
       "      <td>5</td>\n",
       "    </tr>\n",
       "    <tr>\n",
       "      <th>6</th>\n",
       "      <td>2014-11-09</td>\n",
       "      <td>home</td>\n",
       "      <td>freq</td>\n",
       "      <td>806</td>\n",
       "      <td>6</td>\n",
       "    </tr>\n",
       "    <tr>\n",
       "      <th>7</th>\n",
       "      <td>2014-11-03</td>\n",
       "      <td>other</td>\n",
       "      <td>freq</td>\n",
       "      <td>97</td>\n",
       "      <td>7</td>\n",
       "    </tr>\n",
       "    <tr>\n",
       "      <th>8</th>\n",
       "      <td>2014-11-04</td>\n",
       "      <td>other</td>\n",
       "      <td>freq</td>\n",
       "      <td>127</td>\n",
       "      <td>8</td>\n",
       "    </tr>\n",
       "    <tr>\n",
       "      <th>9</th>\n",
       "      <td>2014-11-05</td>\n",
       "      <td>other</td>\n",
       "      <td>freq</td>\n",
       "      <td>105</td>\n",
       "      <td>9</td>\n",
       "    </tr>\n",
       "  </tbody>\n",
       "</table>\n",
       "</div>"
      ],
      "text/plain": [
       "    datetime loc_label variable  value  x\n",
       "0 2014-11-03      home     freq    393  0\n",
       "1 2014-11-04      home     freq    342  1\n",
       "2 2014-11-05      home     freq    373  2\n",
       "3 2014-11-06      home     freq    463  3\n",
       "4 2014-11-07      home     freq    363  4\n",
       "5 2014-11-08      home     freq    396  5\n",
       "6 2014-11-09      home     freq    806  6\n",
       "7 2014-11-03     other     freq     97  7\n",
       "8 2014-11-04     other     freq    127  8\n",
       "9 2014-11-05     other     freq    105  9"
      ]
     },
     "execution_count": 739,
     "metadata": {},
     "output_type": "execute_result"
    }
   ],
   "source": [
    "qq=pd.melt(pp, id_vars=['datetime','loc_label'])\n",
    "qq['x'] = qq.index\n",
    "qq.head(10)"
   ]
  },
  {
   "cell_type": "code",
   "execution_count": 744,
   "metadata": {
    "collapsed": false
   },
   "outputs": [
    {
     "data": {
      "image/png": "[encoded data removed]",
      "text/plain": [
       "<matplotlib.figure.Figure at 0x1d85859d0>"
      ]
     },
     "metadata": {},
     "output_type": "display_data"
    },
    {
     "data": {
      "text/plain": [
       "<ggplot: (495297965)>"
      ]
     },
     "execution_count": 744,
     "metadata": {},
     "output_type": "execute_result"
    }
   ],
   "source": [
    "ggplot(qq, aes('x', weight='value', fill='loc_label')) + \\\n",
    "    geom_bar() + \\\n",
    "    ggtitle(\"Frequency of Location by Time\")"
   ]
  },
  {
   "cell_type": "markdown",
   "metadata": {},
   "source": [
    "# Resample dates by specific period (hours, days, weeks)"
   ]
  },
  {
   "cell_type": "code",
   "execution_count": 349,
   "metadata": {
    "collapsed": false
   },
   "outputs": [
    {
     "data": {
      "text/html": [
       "<div>\n",
       "<table border=\"1\" class=\"dataframe\">\n",
       "  <thead>\n",
       "    <tr style=\"text-align: right;\">\n",
       "      <th></th>\n",
       "      <th></th>\n",
       "      <th></th>\n",
       "      <th>freq</th>\n",
       "    </tr>\n",
       "    <tr>\n",
       "      <th>weekday</th>\n",
       "      <th>loc_label</th>\n",
       "      <th>datetime</th>\n",
       "      <th></th>\n",
       "    </tr>\n",
       "  </thead>\n",
       "  <tbody>\n",
       "    <tr>\n",
       "      <th rowspan=\"3\" valign=\"top\">Friday</th>\n",
       "      <th>home</th>\n",
       "      <th>2014-11-07</th>\n",
       "      <td>363</td>\n",
       "    </tr>\n",
       "    <tr>\n",
       "      <th>other</th>\n",
       "      <th>2014-11-07</th>\n",
       "      <td>193</td>\n",
       "    </tr>\n",
       "    <tr>\n",
       "      <th>work</th>\n",
       "      <th>2014-11-07</th>\n",
       "      <td>537</td>\n",
       "    </tr>\n",
       "    <tr>\n",
       "      <th rowspan=\"2\" valign=\"top\">Monday</th>\n",
       "      <th>home</th>\n",
       "      <th>2014-11-03</th>\n",
       "      <td>393</td>\n",
       "    </tr>\n",
       "    <tr>\n",
       "      <th>other</th>\n",
       "      <th>2014-11-03</th>\n",
       "      <td>97</td>\n",
       "    </tr>\n",
       "  </tbody>\n",
       "</table>\n",
       "</div>"
      ],
      "text/plain": [
       "                              freq\n",
       "weekday loc_label datetime        \n",
       "Friday  home      2014-11-07   363\n",
       "        other     2014-11-07   193\n",
       "        work      2014-11-07   537\n",
       "Monday  home      2014-11-03   393\n",
       "        other     2014-11-03    97"
      ]
     },
     "execution_count": 349,
     "metadata": {},
     "output_type": "execute_result"
    }
   ],
   "source": [
    "weekday_patterns['freq'] = 0\n",
    "weekday_patterns = weekday_patterns.set_index('datetime')\n",
    "weekday_patterns = weekday_patterns.groupby(['weekday', 'loc_label']).resample('D', how=len)\n",
    "weekday_patterns.head()"
   ]
  },
  {
   "cell_type": "markdown",
   "metadata": {},
   "source": [
    "# Where you are by dates"
   ]
  },
  {
   "cell_type": "code",
   "execution_count": 393,
   "metadata": {
    "collapsed": false
   },
   "outputs": [
    {
     "data": {
      "text/html": [
       "<div>\n",
       "<table border=\"1\" class=\"dataframe\">\n",
       "  <thead>\n",
       "    <tr style=\"text-align: right;\">\n",
       "      <th></th>\n",
       "      <th>datetime</th>\n",
       "      <th>loc_label</th>\n",
       "      <th>hr</th>\n",
       "      <th>weekday</th>\n",
       "    </tr>\n",
       "  </thead>\n",
       "  <tbody>\n",
       "    <tr>\n",
       "      <th>0</th>\n",
       "      <td>2014-11-09 23:59:18.731</td>\n",
       "      <td>other</td>\n",
       "      <td>23.983333</td>\n",
       "      <td>Sunday</td>\n",
       "    </tr>\n",
       "    <tr>\n",
       "      <th>1</th>\n",
       "      <td>2014-11-09 23:58:30.267</td>\n",
       "      <td>other</td>\n",
       "      <td>23.966667</td>\n",
       "      <td>Sunday</td>\n",
       "    </tr>\n",
       "    <tr>\n",
       "      <th>2</th>\n",
       "      <td>2014-11-09 23:57:37.062</td>\n",
       "      <td>other</td>\n",
       "      <td>23.950000</td>\n",
       "      <td>Sunday</td>\n",
       "    </tr>\n",
       "    <tr>\n",
       "      <th>3</th>\n",
       "      <td>2014-11-09 23:56:46.554</td>\n",
       "      <td>other</td>\n",
       "      <td>23.933333</td>\n",
       "      <td>Sunday</td>\n",
       "    </tr>\n",
       "    <tr>\n",
       "      <th>4</th>\n",
       "      <td>2014-11-09 23:55:56.987</td>\n",
       "      <td>other</td>\n",
       "      <td>23.916667</td>\n",
       "      <td>Sunday</td>\n",
       "    </tr>\n",
       "  </tbody>\n",
       "</table>\n",
       "</div>"
      ],
      "text/plain": [
       "                 datetime loc_label         hr weekday\n",
       "0 2014-11-09 23:59:18.731     other  23.983333  Sunday\n",
       "1 2014-11-09 23:58:30.267     other  23.966667  Sunday\n",
       "2 2014-11-09 23:57:37.062     other  23.950000  Sunday\n",
       "3 2014-11-09 23:56:46.554     other  23.933333  Sunday\n",
       "4 2014-11-09 23:55:56.987     other  23.916667  Sunday"
      ]
     },
     "execution_count": 393,
     "metadata": {},
     "output_type": "execute_result"
    }
   ],
   "source": [
    "day_time_patterns = ld_wk[['datetime', 'loc_label']]\n",
    "\n",
    "day_time_patterns['hr'] = day_time_patterns.datetime.map(lambda x: int(x.strftime(\"%H\")) + float(x.strftime(\"%M\"))/60)\n",
    "day_time_patterns.hr = pd.Categorical(day_time_patterns.hr)\n",
    "day_time_patterns.hr = day_time_patterns.hr.astype(float)\n",
    "\n",
    "# TODO: remove this weekday code if already using day_value\n",
    "day_time_patterns['weekday'] = day_time_patterns.datetime.map(lambda x: calendar.day_name[x.weekday()])\n",
    "day_time_patterns.weekday = pd.Categorical(day_time_patterns.weekday, order_of_weekdays)\n",
    "\n",
    "day_time_patterns.loc_label = pd.Categorical(day_time_patterns.loc_label)\n",
    "day_time_patterns.head()"
   ]
  },
  {
   "cell_type": "markdown",
   "metadata": {},
   "source": [
    "# Show location by time of day (seaborn plot)"
   ]
  },
  {
   "cell_type": "code",
   "execution_count": 394,
   "metadata": {
    "collapsed": false
   },
   "outputs": [],
   "source": [
    "def get_day_num(day): \n",
    "    if day == 'Monday':\n",
    "        return 1\n",
    "    elif day == 'Tuesday':\n",
    "        return 2    \n",
    "    elif day == 'Wednesday':\n",
    "        return 3    \n",
    "    elif day == 'Thursday':\n",
    "        return 4    \n",
    "    elif day == 'Friday':\n",
    "        return 5    \n",
    "    elif day == 'Saturday':\n",
    "        return 6    \n",
    "    elif day == 'Sunday':\n",
    "        return 7\n",
    "\n",
    "day_time_patterns['day_value'] = day_time_patterns.weekday.astype(str).map(lambda x: get_day_num(x))"
   ]
  },
  {
   "cell_type": "code",
   "execution_count": 608,
   "metadata": {
    "collapsed": false
   },
   "outputs": [
    {
     "data": {
      "text/html": [
       "<div>\n",
       "<table border=\"1\" class=\"dataframe\">\n",
       "  <thead>\n",
       "    <tr style=\"text-align: right;\">\n",
       "      <th></th>\n",
       "      <th>datetime</th>\n",
       "      <th>Location</th>\n",
       "      <th>hr</th>\n",
       "      <th>weekday</th>\n",
       "      <th>day_value</th>\n",
       "    </tr>\n",
       "  </thead>\n",
       "  <tbody>\n",
       "    <tr>\n",
       "      <th>0</th>\n",
       "      <td>2014-11-09 23:59:18.731</td>\n",
       "      <td>other</td>\n",
       "      <td>23.983333</td>\n",
       "      <td>Sunday</td>\n",
       "      <td>7</td>\n",
       "    </tr>\n",
       "    <tr>\n",
       "      <th>1</th>\n",
       "      <td>2014-11-09 23:58:30.267</td>\n",
       "      <td>other</td>\n",
       "      <td>23.966667</td>\n",
       "      <td>Sunday</td>\n",
       "      <td>7</td>\n",
       "    </tr>\n",
       "    <tr>\n",
       "      <th>2</th>\n",
       "      <td>2014-11-09 23:57:37.062</td>\n",
       "      <td>other</td>\n",
       "      <td>23.950000</td>\n",
       "      <td>Sunday</td>\n",
       "      <td>7</td>\n",
       "    </tr>\n",
       "    <tr>\n",
       "      <th>3</th>\n",
       "      <td>2014-11-09 23:56:46.554</td>\n",
       "      <td>other</td>\n",
       "      <td>23.933333</td>\n",
       "      <td>Sunday</td>\n",
       "      <td>7</td>\n",
       "    </tr>\n",
       "    <tr>\n",
       "      <th>4</th>\n",
       "      <td>2014-11-09 23:55:56.987</td>\n",
       "      <td>other</td>\n",
       "      <td>23.916667</td>\n",
       "      <td>Sunday</td>\n",
       "      <td>7</td>\n",
       "    </tr>\n",
       "  </tbody>\n",
       "</table>\n",
       "</div>"
      ],
      "text/plain": [
       "                 datetime Location         hr weekday  day_value\n",
       "0 2014-11-09 23:59:18.731    other  23.983333  Sunday          7\n",
       "1 2014-11-09 23:58:30.267    other  23.966667  Sunday          7\n",
       "2 2014-11-09 23:57:37.062    other  23.950000  Sunday          7\n",
       "3 2014-11-09 23:56:46.554    other  23.933333  Sunday          7\n",
       "4 2014-11-09 23:55:56.987    other  23.916667  Sunday          7"
      ]
     },
     "execution_count": 608,
     "metadata": {},
     "output_type": "execute_result"
    }
   ],
   "source": [
    "day_time_patterns.rename(columns={'loc_label': 'Location'}, inplace=True)\n",
    "day_time_patterns.head()"
   ]
  },
  {
   "cell_type": "markdown",
   "metadata": {},
   "source": [
    "# Day of week by time of day for location"
   ]
  },
  {
   "cell_type": "code",
   "execution_count": 716,
   "metadata": {
    "collapsed": false
   },
   "outputs": [
    {
     "data": {
      "image/png": "[encoded data removed]",
      "text/plain": [
       "<matplotlib.figure.Figure at 0x1d47f39d0>"
      ]
     },
     "metadata": {},
     "output_type": "display_data"
    },
    {
     "data": {
      "text/plain": [
       "<ggplot: (491265717)>"
      ]
     },
     "execution_count": 716,
     "metadata": {},
     "output_type": "execute_result"
    }
   ],
   "source": [
    "weekday_label = (\"Mon\", \"Tues\", \"Wed\", \"Thurs\", \"Fri\", \"Sat\", \"Sun\")\n",
    "time_label = (\"Midnight\", \"5am\", \"10am\", \"3pm\", \"8pm\", \"Midnight\")\n",
    "\n",
    "ggplot(day_time_patterns, aes('day_value', 'hr', color='Location')) + \\\n",
    "    geom_point() + \\\n",
    "    scale_x_continuous(name = \"Day of Week\", breaks=range(1,8), labels=weekday_label) + \\\n",
    "    scale_y_continuous(name=\"Time of Day\", limits=(0,25), labels=time_label)"
   ]
  },
  {
   "cell_type": "code",
   "execution_count": 764,
   "metadata": {
    "collapsed": false
   },
   "outputs": [
    {
     "data": {
      "text/html": [
       "<div>\n",
       "<table border=\"1\" class=\"dataframe\">\n",
       "  <thead>\n",
       "    <tr style=\"text-align: right;\">\n",
       "      <th></th>\n",
       "      <th>beef</th>\n",
       "      <th>veal</th>\n",
       "      <th>pork</th>\n",
       "      <th>lamb_and_mutton</th>\n",
       "    </tr>\n",
       "    <tr>\n",
       "      <th>date</th>\n",
       "      <th></th>\n",
       "      <th></th>\n",
       "      <th></th>\n",
       "      <th></th>\n",
       "    </tr>\n",
       "  </thead>\n",
       "  <tbody>\n",
       "    <tr>\n",
       "      <th>1944-01-01</th>\n",
       "      <td>751</td>\n",
       "      <td>85</td>\n",
       "      <td>1280</td>\n",
       "      <td>89</td>\n",
       "    </tr>\n",
       "    <tr>\n",
       "      <th>1944-02-01</th>\n",
       "      <td>713</td>\n",
       "      <td>77</td>\n",
       "      <td>1169</td>\n",
       "      <td>72</td>\n",
       "    </tr>\n",
       "    <tr>\n",
       "      <th>1944-03-01</th>\n",
       "      <td>741</td>\n",
       "      <td>90</td>\n",
       "      <td>1128</td>\n",
       "      <td>75</td>\n",
       "    </tr>\n",
       "    <tr>\n",
       "      <th>1944-04-01</th>\n",
       "      <td>650</td>\n",
       "      <td>89</td>\n",
       "      <td>978</td>\n",
       "      <td>66</td>\n",
       "    </tr>\n",
       "    <tr>\n",
       "      <th>1944-05-01</th>\n",
       "      <td>681</td>\n",
       "      <td>106</td>\n",
       "      <td>1029</td>\n",
       "      <td>78</td>\n",
       "    </tr>\n",
       "    <tr>\n",
       "      <th>1944-06-01</th>\n",
       "      <td>658</td>\n",
       "      <td>125</td>\n",
       "      <td>962</td>\n",
       "      <td>79</td>\n",
       "    </tr>\n",
       "    <tr>\n",
       "      <th>1944-07-01</th>\n",
       "      <td>662</td>\n",
       "      <td>142</td>\n",
       "      <td>796</td>\n",
       "      <td>82</td>\n",
       "    </tr>\n",
       "    <tr>\n",
       "      <th>1944-08-01</th>\n",
       "      <td>787</td>\n",
       "      <td>175</td>\n",
       "      <td>748</td>\n",
       "      <td>87</td>\n",
       "    </tr>\n",
       "    <tr>\n",
       "      <th>1944-09-01</th>\n",
       "      <td>774</td>\n",
       "      <td>182</td>\n",
       "      <td>678</td>\n",
       "      <td>91</td>\n",
       "    </tr>\n",
       "    <tr>\n",
       "      <th>1944-10-01</th>\n",
       "      <td>834</td>\n",
       "      <td>215</td>\n",
       "      <td>777</td>\n",
       "      <td>100</td>\n",
       "    </tr>\n",
       "  </tbody>\n",
       "</table>\n",
       "</div>"
      ],
      "text/plain": [
       "            beef  veal  pork  lamb_and_mutton\n",
       "date                                         \n",
       "1944-01-01   751    85  1280               89\n",
       "1944-02-01   713    77  1169               72\n",
       "1944-03-01   741    90  1128               75\n",
       "1944-04-01   650    89   978               66\n",
       "1944-05-01   681   106  1029               78\n",
       "1944-06-01   658   125   962               79\n",
       "1944-07-01   662   142   796               82\n",
       "1944-08-01   787   175   748               87\n",
       "1944-09-01   774   182   678               91\n",
       "1944-10-01   834   215   777              100"
      ]
     },
     "execution_count": 764,
     "metadata": {},
     "output_type": "execute_result"
    }
   ],
   "source": [
    "meat = meat.dropna(thresh=800, axis=1) # drop columns that have fewer than 800 observations\n",
    "ts = meat.set_index(['date'])\n",
    "ts.head(10)"
   ]
  },
  {
   "cell_type": "code",
   "execution_count": 765,
   "metadata": {
    "collapsed": false
   },
   "outputs": [
    {
     "data": {
      "text/html": [
       "<div>\n",
       "<table border=\"1\" class=\"dataframe\">\n",
       "  <thead>\n",
       "    <tr style=\"text-align: right;\">\n",
       "      <th></th>\n",
       "      <th>beef</th>\n",
       "      <th>veal</th>\n",
       "      <th>pork</th>\n",
       "      <th>lamb_and_mutton</th>\n",
       "    </tr>\n",
       "  </thead>\n",
       "  <tbody>\n",
       "    <tr>\n",
       "      <th>1944</th>\n",
       "      <td>8801</td>\n",
       "      <td>1629</td>\n",
       "      <td>11502</td>\n",
       "      <td>1001</td>\n",
       "    </tr>\n",
       "    <tr>\n",
       "      <th>1945</th>\n",
       "      <td>9936</td>\n",
       "      <td>1552</td>\n",
       "      <td>8843</td>\n",
       "      <td>1030</td>\n",
       "    </tr>\n",
       "    <tr>\n",
       "      <th>1946</th>\n",
       "      <td>9010</td>\n",
       "      <td>1329</td>\n",
       "      <td>9220</td>\n",
       "      <td>946</td>\n",
       "    </tr>\n",
       "    <tr>\n",
       "      <th>1947</th>\n",
       "      <td>10096</td>\n",
       "      <td>1493</td>\n",
       "      <td>8811</td>\n",
       "      <td>779</td>\n",
       "    </tr>\n",
       "    <tr>\n",
       "      <th>1948</th>\n",
       "      <td>8766</td>\n",
       "      <td>1323</td>\n",
       "      <td>8486</td>\n",
       "      <td>728</td>\n",
       "    </tr>\n",
       "    <tr>\n",
       "      <th>1949</th>\n",
       "      <td>9142</td>\n",
       "      <td>1240</td>\n",
       "      <td>8875</td>\n",
       "      <td>587</td>\n",
       "    </tr>\n",
       "    <tr>\n",
       "      <th>1950</th>\n",
       "      <td>9248</td>\n",
       "      <td>1137</td>\n",
       "      <td>9397</td>\n",
       "      <td>581</td>\n",
       "    </tr>\n",
       "    <tr>\n",
       "      <th>1951</th>\n",
       "      <td>8549</td>\n",
       "      <td>972</td>\n",
       "      <td>10190</td>\n",
       "      <td>508</td>\n",
       "    </tr>\n",
       "    <tr>\n",
       "      <th>1952</th>\n",
       "      <td>9337</td>\n",
       "      <td>1080</td>\n",
       "      <td>10321</td>\n",
       "      <td>635</td>\n",
       "    </tr>\n",
       "    <tr>\n",
       "      <th>1953</th>\n",
       "      <td>12055</td>\n",
       "      <td>1451</td>\n",
       "      <td>8971</td>\n",
       "      <td>715</td>\n",
       "    </tr>\n",
       "  </tbody>\n",
       "</table>\n",
       "</div>"
      ],
      "text/plain": [
       "       beef  veal   pork  lamb_and_mutton\n",
       "1944   8801  1629  11502             1001\n",
       "1945   9936  1552   8843             1030\n",
       "1946   9010  1329   9220              946\n",
       "1947  10096  1493   8811              779\n",
       "1948   8766  1323   8486              728\n",
       "1949   9142  1240   8875              587\n",
       "1950   9248  1137   9397              581\n",
       "1951   8549   972  10190              508\n",
       "1952   9337  1080  10321              635\n",
       "1953  12055  1451   8971              715"
      ]
     },
     "execution_count": 765,
     "metadata": {},
     "output_type": "execute_result"
    }
   ],
   "source": [
    "ts.groupby(ts.index.year).sum().head(10)"
   ]
  },
  {
   "cell_type": "code",
   "execution_count": null,
   "metadata": {
    "collapsed": true
   },
   "outputs": [],
   "source": []
  }
 ],
 "metadata": {
  "kernelspec": {
   "display_name": "Python 2",
   "language": "python",
   "name": "python2"
  },
  "language_info": {
   "codemirror_mode": {
    "name": "ipython",
    "version": 2
   },
   "file_extension": ".py",
   "mimetype": "text/x-python",
   "name": "python",
   "nbconvert_exporter": "python",
   "pygments_lexer": "ipython2",
   "version": "2.7.10"
  }
 },
 "nbformat": 4,
 "nbformat_minor": 0
}
