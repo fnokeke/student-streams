{
 "metadata": {
  "name": "",
  "signature": "sha256:743f56527c76175566b049cf263e05d7b7fcb5634f5e93103949047821187363"
 },
 "nbformat": 3,
 "nbformat_minor": 0,
 "worksheets": [
  {
   "cells": [
    {
     "cell_type": "markdown",
     "metadata": {},
     "source": [
      "#Get relevant libraries"
     ]
    },
    {
     "cell_type": "code",
     "collapsed": false,
     "input": [
      "import ujson as json\n",
      "import pprint\n",
      "import pandas as pd\n",
      "import numpy as np\n",
      "import datetime\n",
      "import fiona\n",
      "import sklearn\n",
      "import time\n",
      "import matplotlib.dates as mdates\n",
      "\n",
      "from shapely.geometry import Point, Polygon, MultiPoint, MultiPolygon\n",
      "from shapely.prepared import prep\n",
      "from mpl_toolkits.basemap import Basemap\n",
      "from matplotlib.collections import PatchCollection\n",
      "from descartes import PolygonPatch\n",
      "from matplotlib import pyplot as plt\n",
      "from sklearn.metrics.pairwise import pairwise_distances_argmin\n",
      "\n",
      "%matplotlib inline"
     ],
     "language": "python",
     "metadata": {},
     "outputs": [],
     "prompt_number": 475
    },
    {
     "cell_type": "markdown",
     "metadata": {},
     "source": [
      "#Import data"
     ]
    },
    {
     "cell_type": "code",
     "collapsed": false,
     "input": [
      "filename = \"/Users/fnokeke/dev/student-streams/dataset/LocationHistory.json\"\n",
      "\n",
      "with open(filename) as json_file:\n",
      "    raw = json.load(json_file)\n",
      "\n",
      "ld = pd.DataFrame(raw['locations'])\n",
      "ld_bkup = ld.copy()\n",
      "\n",
      "print(\"Number of items in data: %d\") % len(ld)"
     ],
     "language": "python",
     "metadata": {},
     "outputs": [
      {
       "output_type": "stream",
       "stream": "stdout",
       "text": [
        "Number of items in data: 266972\n"
       ]
      }
     ],
     "prompt_number": 476
    },
    {
     "cell_type": "markdown",
     "metadata": {},
     "source": [
      "#Free up memory"
     ]
    },
    {
     "cell_type": "code",
     "collapsed": false,
     "input": [
      "del raw"
     ],
     "language": "python",
     "metadata": {},
     "outputs": [],
     "prompt_number": 477
    },
    {
     "cell_type": "markdown",
     "metadata": {},
     "source": [
      "#Get a glimpse of raw data"
     ]
    },
    {
     "cell_type": "code",
     "collapsed": false,
     "input": [
      "ld.head()"
     ],
     "language": "python",
     "metadata": {},
     "outputs": [
      {
       "html": [
        "<div style=\"max-width:1500px;overflow:auto;\">\n",
        "<table border=\"1\" class=\"dataframe\">\n",
        "  <thead>\n",
        "    <tr style=\"text-align: right;\">\n",
        "      <th></th>\n",
        "      <th>accuracy</th>\n",
        "      <th>activitys</th>\n",
        "      <th>altitude</th>\n",
        "      <th>heading</th>\n",
        "      <th>latitudeE7</th>\n",
        "      <th>longitudeE7</th>\n",
        "      <th>timestampMs</th>\n",
        "      <th>velocity</th>\n",
        "    </tr>\n",
        "  </thead>\n",
        "  <tbody>\n",
        "    <tr>\n",
        "      <th>0</th>\n",
        "      <td>20</td>\n",
        "      <td>[{u'activities': [{u'confidence': 100, u'type'...</td>\n",
        "      <td>NaN</td>\n",
        "      <td>NaN</td>\n",
        "      <td>424450094</td>\n",
        "      <td>-764812331</td>\n",
        "      <td>1444430449815</td>\n",
        "      <td>NaN</td>\n",
        "    </tr>\n",
        "    <tr>\n",
        "      <th>1</th>\n",
        "      <td>20</td>\n",
        "      <td>NaN</td>\n",
        "      <td>NaN</td>\n",
        "      <td>NaN</td>\n",
        "      <td>424450024</td>\n",
        "      <td>-764812567</td>\n",
        "      <td>1444430389791</td>\n",
        "      <td>NaN</td>\n",
        "    </tr>\n",
        "    <tr>\n",
        "      <th>2</th>\n",
        "      <td>53</td>\n",
        "      <td>[{u'activities': [{u'confidence': 100, u'type'...</td>\n",
        "      <td>NaN</td>\n",
        "      <td>NaN</td>\n",
        "      <td>424450006</td>\n",
        "      <td>-764812544</td>\n",
        "      <td>1444430328981</td>\n",
        "      <td>NaN</td>\n",
        "    </tr>\n",
        "    <tr>\n",
        "      <th>3</th>\n",
        "      <td>51</td>\n",
        "      <td>[{u'activities': [{u'confidence': 85, u'type':...</td>\n",
        "      <td>NaN</td>\n",
        "      <td>NaN</td>\n",
        "      <td>424449765</td>\n",
        "      <td>-764812362</td>\n",
        "      <td>1444430268476</td>\n",
        "      <td>NaN</td>\n",
        "    </tr>\n",
        "    <tr>\n",
        "      <th>4</th>\n",
        "      <td>37</td>\n",
        "      <td>[{u'activities': [{u'confidence': 100, u'type'...</td>\n",
        "      <td>NaN</td>\n",
        "      <td>NaN</td>\n",
        "      <td>424449941</td>\n",
        "      <td>-764812485</td>\n",
        "      <td>1444430219451</td>\n",
        "      <td>NaN</td>\n",
        "    </tr>\n",
        "  </tbody>\n",
        "</table>\n",
        "</div>"
       ],
       "metadata": {},
       "output_type": "pyout",
       "prompt_number": 478,
       "text": [
        "   accuracy                                          activitys  altitude  \\\n",
        "0        20  [{u'activities': [{u'confidence': 100, u'type'...       NaN   \n",
        "1        20                                                NaN       NaN   \n",
        "2        53  [{u'activities': [{u'confidence': 100, u'type'...       NaN   \n",
        "3        51  [{u'activities': [{u'confidence': 85, u'type':...       NaN   \n",
        "4        37  [{u'activities': [{u'confidence': 100, u'type'...       NaN   \n",
        "\n",
        "   heading  latitudeE7  longitudeE7    timestampMs  velocity  \n",
        "0      NaN   424450094   -764812331  1444430449815       NaN  \n",
        "1      NaN   424450024   -764812567  1444430389791       NaN  \n",
        "2      NaN   424450006   -764812544  1444430328981       NaN  \n",
        "3      NaN   424449765   -764812362  1444430268476       NaN  \n",
        "4      NaN   424449941   -764812485  1444430219451       NaN  "
       ]
      }
     ],
     "prompt_number": 478
    },
    {
     "cell_type": "markdown",
     "metadata": {},
     "source": [
      "#Convert to typical units"
     ]
    },
    {
     "cell_type": "code",
     "collapsed": false,
     "input": [
      "ld['latitudeE7'] = ld['latitudeE7']/float(1e7)\n",
      "ld['longitudeE7'] = ld['longitudeE7']/float(1e7)\n",
      "ld['timestampMs'] = ld['timestampMs'].map(lambda x: float(x)/1000)\n",
      "ld['datetime'] = ld.timestampMs.map(datetime.datetime.fromtimestamp)\n",
      "ld['date'] = ld.datetime.map(lambda x: x.strftime(\"%Y-%m-%d\"))"
     ],
     "language": "python",
     "metadata": {},
     "outputs": [],
     "prompt_number": 479
    },
    {
     "cell_type": "markdown",
     "metadata": {},
     "source": [
      "#Rename fields"
     ]
    },
    {
     "cell_type": "code",
     "collapsed": false,
     "input": [
      "ld.rename(columns={\n",
      "'latitudeE7': 'latitude',\n",
      "'longitudeE7': 'longitude',\n",
      "'timestampMs': 'timestamp'\n",
      "}, inplace=True)"
     ],
     "language": "python",
     "metadata": {},
     "outputs": [],
     "prompt_number": 480
    },
    {
     "cell_type": "markdown",
     "metadata": {},
     "source": [
      "#Ignore locations with accuracy estimates over 1000m"
     ]
    },
    {
     "cell_type": "code",
     "collapsed": false,
     "input": [
      "ld = ld[ld.accuracy < 1000]\n",
      "ld.reset_index(drop=True, inplace=True)\n",
      "print(\"Number of items in data: %d\") % len(ld)"
     ],
     "language": "python",
     "metadata": {},
     "outputs": [
      {
       "output_type": "stream",
       "stream": "stdout",
       "text": [
        "Number of items in data: 252294\n"
       ]
      }
     ],
     "prompt_number": 481
    },
    {
     "cell_type": "markdown",
     "metadata": {},
     "source": [
      "#Select only columns of interest"
     ]
    },
    {
     "cell_type": "code",
     "collapsed": false,
     "input": [
      "ld = ld[['latitude', 'longitude', 'datetime', 'date']]"
     ],
     "language": "python",
     "metadata": {},
     "outputs": [],
     "prompt_number": 482
    },
    {
     "cell_type": "markdown",
     "metadata": {},
     "source": [
      "#Specify places of interest in Ithaca and ignore locations outside Ithaca"
     ]
    },
    {
     "cell_type": "code",
     "collapsed": false,
     "input": [
      "home = (42.446594, -76.493736)\n",
      "work = (42.444877, -76.480814)\n",
      "\n",
      "lat_margin = 0.1\n",
      "lon_margin = 1.0\n",
      "\n",
      "ld = ld[abs(ld.latitude - home[0]) < lat_margin]\n",
      "ld = ld[abs(ld.longitude - home[1]) < lon_margin]\n",
      "print(\"Number of items in data: %d\") % len(ld)"
     ],
     "language": "python",
     "metadata": {},
     "outputs": [
      {
       "output_type": "stream",
       "stream": "stdout",
       "text": [
        "Number of items in data: 129097\n"
       ]
      }
     ],
     "prompt_number": 483
    },
    {
     "cell_type": "markdown",
     "metadata": {},
     "source": [
      "#Label every location as either home, work or other"
     ]
    },
    {
     "cell_type": "code",
     "collapsed": false,
     "input": [
      "lat_error_margin = 0.0005\n",
      "lon_error_margin = 0.005\n",
      "\n",
      "POINTS = {\n",
      "    'home': home,\n",
      "    'work': work\n",
      "}\n",
      "\n",
      "def get_loc_label(df, points):\n",
      "    for label, point in points.items():\n",
      "        within_lat = abs(df['latitude'] - point[0]) <= lat_error_margin\n",
      "        within_lon = abs(df['longitude'] - point[1]) <= lon_error_margin\n",
      "        if (within_lat and within_lon):\n",
      "            return label\n",
      "    else:\n",
      "        return 'other'\n",
      "\n",
      "ld['loc_label'] = ld.apply(lambda x: get_loc_label(x, POINTS), axis='columns')"
     ],
     "language": "python",
     "metadata": {},
     "outputs": [],
     "prompt_number": 484
    },
    {
     "cell_type": "markdown",
     "metadata": {},
     "source": [
      "#Show sample locations of home, work, other if they exist"
     ]
    },
    {
     "cell_type": "code",
     "collapsed": false,
     "input": [
      "print(ld[ld['loc_label'] == 'home'].head())\n",
      "print(ld[ld['loc_label'] == 'work'].head())\n",
      "print(ld[ld['loc_label'] == 'other'].head())"
     ],
     "language": "python",
     "metadata": {},
     "outputs": [
      {
       "output_type": "stream",
       "stream": "stdout",
       "text": [
        "     latitude  longitude                datetime        date loc_label\n",
        "61  42.446674 -76.493354 2015-10-09 15:58:43.371  2015-10-09      home\n",
        "62  42.446674 -76.493354 2015-10-09 15:56:40.504  2015-10-09      home\n",
        "63  42.446674 -76.493354 2015-10-09 15:54:38.757  2015-10-09      home\n",
        "64  42.446674 -76.493354 2015-10-09 15:50:16.123  2015-10-09      home\n",
        "65  42.446685 -76.493350 2015-10-09 15:47:08.833  2015-10-09      home\n",
        "    latitude  longitude                datetime        date loc_label\n",
        "0  42.445009 -76.481233 2015-10-09 18:40:49.815  2015-10-09      work\n",
        "1  42.445002 -76.481257 2015-10-09 18:39:49.791  2015-10-09      work\n",
        "2  42.445001 -76.481254 2015-10-09 18:38:48.981  2015-10-09      work\n",
        "3  42.444977 -76.481236 2015-10-09 18:37:48.476  2015-10-09      work\n",
        "4  42.444994 -76.481249 2015-10-09 18:36:59.451  2015-10-09      work\n",
        "       latitude  longitude                datetime        date loc_label\n",
        "57    42.446613 -76.484049 2015-10-09 16:07:12.348  2015-10-09     other\n",
        "59    42.446173 -76.486052 2015-10-09 16:03:08.352  2015-10-09     other\n",
        "60    42.446416 -76.488342 2015-10-09 16:01:14.543  2015-10-09     other\n",
        "3575  42.447112 -76.493367 2015-09-22 10:30:40.330  2015-09-22     other\n",
        "3576  42.447112 -76.493367 2015-09-22 10:29:29.195  2015-09-22     other\n"
       ]
      }
     ],
     "prompt_number": 485
    },
    {
     "cell_type": "markdown",
     "metadata": {},
     "source": [
      "#Find what fraction of each loaction label occurs in a day"
     ]
    },
    {
     "cell_type": "code",
     "collapsed": false,
     "input": [
      "rr = ld.groupby(['date', 'loc_label']).agg('count')\n",
      "rr = rr.reset_index()\n",
      "rr = rr[:50]\n",
      "\n",
      "X = sorted(set(rr.date))\n",
      "Y_HOME = [len(ld[(ld.date == x) & (ld.loc_label == \"home\")]) for x in X]\n",
      "Y_WORK = [len(ld[(ld.date == x) & (ld.loc_label == \"work\")]) for x in X]\n",
      "Y_OTHER = [len(ld[(ld.date == x) & (ld.loc_label == \"other\")]) for x in X]\n",
      "\n",
      "k = 5\n",
      "print \"DATE: \", X[:k], len(X)\n",
      "print \"HOME: \", Y_HOME[:k], len(Y_HOME)\n",
      "print \"WORK: \", Y_WORK[:k], len(Y_WORK)\n",
      "print \"OTHER:\", Y_OTHER[:k], len(Y_OTHER)\n",
      "\n",
      "print(rr.head())"
     ],
     "language": "python",
     "metadata": {},
     "outputs": [
      {
       "output_type": "stream",
       "stream": "stdout",
       "text": [
        "DATE:  ['2014-08-01', '2014-08-02', '2014-08-03', '2014-08-04', '2014-08-05'] 20\n",
        "HOME:  [57, 50, 712, 148, 964] 20\n",
        "WORK:  [0, 0, 0, 493, 0] 20\n",
        "OTHER: [42, 1074, 306, 23, 156] 20\n",
        "         date loc_label  latitude  longitude  datetime\n",
        "0  2014-08-01      home        57         57        57\n",
        "1  2014-08-01     other        42         42        42\n",
        "2  2014-08-02      home        50         50        50\n",
        "3  2014-08-02     other      1074       1074      1074\n",
        "4  2014-08-03      home       712        712       712\n"
       ]
      }
     ],
     "prompt_number": 514
    },
    {
     "cell_type": "markdown",
     "metadata": {},
     "source": [
      "#Show chart of labels by day"
     ]
    },
    {
     "cell_type": "code",
     "collapsed": false,
     "input": [
      "df = pd.DataFrame(\n",
      "    index=X,\n",
      "    data= {\n",
      "        \"home\" : Y_HOME, \n",
      "        \"work\" : Y_WORK, \n",
      "        \"other\": Y_OTHER,\n",
      "    })\n",
      "print (df.head())\n",
      "df.plot(kind='bar', stacked=True)"
     ],
     "language": "python",
     "metadata": {},
     "outputs": [
      {
       "output_type": "stream",
       "stream": "stdout",
       "text": [
        "            home  other  work\n",
        "2014-08-01    57     42     0\n",
        "2014-08-02    50   1074     0\n",
        "2014-08-03   712    306     0\n",
        "2014-08-04   148     23   493\n",
        "2014-08-05   964    156     0\n"
       ]
      },
      {
       "metadata": {},
       "output_type": "pyout",
       "prompt_number": 513,
       "text": [
        "<matplotlib.axes.AxesSubplot at 0x153c31990>"
       ]
      },
      {
       "metadata": {},
       "output_type": "display_data",
       "png": "[encoded data removed]",
       "text": [
        "<matplotlib.figure.Figure at 0x153b89b90>"
       ]
      }
     ],
     "prompt_number": 513
    },
    {
     "cell_type": "markdown",
     "metadata": {},
     "source": [
      "#Select only location data that is within the error of margin of your points of interests"
     ]
    },
    {
     "cell_type": "markdown",
     "metadata": {},
     "source": [
      "lat_error_margin = 0.0005\n",
      "lon_error_margin = 0.005\n",
      "\n",
      "def within(df, point):\n",
      "    return abs(df['latitude'] - point[0]) <= lat_error_margin and abs(df['longitude'] - point[1]) <= lon_error_margin\n",
      "     \n",
      "ld_home = ld[ld.apply(lambda x: within(x, home), axis='columns')]\n",
      "ld_work = ld[ld.apply(lambda x: within(x, work), axis='columns')]\n",
      "print(\"Home points: %d;\\nWork points: %d;\" % (len(ld_home), len(ld_work)))"
     ]
    },
    {
     "cell_type": "markdown",
     "metadata": {},
     "source": [
      "#Scatterplot for latitude vs longitude"
     ]
    },
    {
     "cell_type": "markdown",
     "metadata": {},
     "source": [
      "%matplotlib inline\n",
      "\n",
      "plt.scatter(ld_home.latitude, ld_home.longitude, color='r')\n",
      "plt.scatter(ld_work.latitude, ld_work.longitude, color='b')"
     ]
    },
    {
     "cell_type": "markdown",
     "metadata": {},
     "source": [
      "#Working with Shapefiles for describing points, lines, polygons"
     ]
    },
    {
     "cell_type": "markdown",
     "metadata": {},
     "source": [
      "shapefilename = \"/Users/fnokeke/dev/student-streams/dataset/newyork\"\n",
      "shp = fiona.open(shapefilename + '.shp')\n",
      "coords = shp.bounds\n",
      "shp.close()\n",
      "\n",
      "w, h = coords[2] - coords[0], coords[3] - coords[1]\n",
      "extra = 0.01"
     ]
    },
    {
     "cell_type": "markdown",
     "metadata": {},
     "source": [
      "#Plot shapefiles"
     ]
    },
    {
     "cell_type": "markdown",
     "metadata": {},
     "source": [
      "m = Basemap(\n",
      "    projection='tmerc', ellps='WGS84',\n",
      "    lon_0=np.mean([coords[0], coords[2]]),\n",
      "    lat_0=np.mean([coords[1], coords[3]]),\n",
      "    llcrnrlon=coords[0] - extra * w,\n",
      "    llcrnrlat=coords[1] - (extra * h),\n",
      "    urcrnrlon=coords[2] + extra * w, \n",
      "    urcrnrlat=coords[3] + (extra * h), \n",
      "    resolution='i', suppress_ticks=True)\n",
      "\n",
      "_out = m.readshapefile(shapefilename, name='newyork', drawbounds=False, color='none', zorder=2)"
     ]
    },
    {
     "cell_type": "markdown",
     "metadata": {},
     "source": [
      "#K-means clustering vs MiniBatch (lon vs lat)"
     ]
    },
    {
     "cell_type": "markdown",
     "metadata": {},
     "source": [
      "ld_only_loc = ld.ix[:,['latitude', 'longitude']]\n",
      "\n",
      "X = ld_only_loc.as_matrix()\n",
      "k_means = sklearn.cluster.KMeans(init='k-means++', n_clusters=3, n_init=10)\n",
      "t0 = time.time()\n",
      "k_means.fit(X)\n",
      "t_batch = time.time() - t0\n",
      "k_means_labels = k_means.labels_\n",
      "k_means_cluster_centers = k_means.cluster_centers_\n",
      "k_means_labels_unique = np.unique(k_means_labels)\n",
      "\n",
      "mbk = sklearn.cluster.MiniBatchKMeans(init='k-means++', n_clusters=3, batch_size=45,\n",
      "                      n_init=10, max_no_improvement=10, verbose=0)\n",
      "\n",
      "\n",
      "t0 = time.time()\n",
      "mbk.fit(X)\n",
      "t_mini_batch = time.time() - t0\n",
      "mbk_means_labels = mbk.labels_\n",
      "mbk_means_cluster_centers = mbk.cluster_centers_\n",
      "mbk_means_labels_unique = np.unique(mbk_means_labels)\n"
     ]
    },
    {
     "cell_type": "markdown",
     "metadata": {},
     "source": [
      "%matplotlib inline\n",
      "##############################################################################\n",
      "# Plot result\n",
      "\n",
      "batch_size = 45\n",
      "centers = [[1, 1], [-1, -1], [1, -1]]\n",
      "n_clusters = len(centers)\n",
      "\n",
      "fig = plt.figure(figsize=(8, 3))\n",
      "fig.subplots_adjust(left=0.02, right=0.98, bottom=0.05, top=0.9)\n",
      "colors = ['#4EACC5', '#FF9C34', '#4E9A06']\n",
      "\n",
      "# We want to have the same colors for the same cluster from the\n",
      "# MiniBatchKMeans and the KMeans algorithm. Let's pair the cluster centers per\n",
      "# closest one.\n",
      "\n",
      "order = pairwise_distances_argmin(k_means_cluster_centers,\n",
      "                                  mbk_means_cluster_centers)\n",
      "\n",
      "# KMeans\n",
      "ax = fig.add_subplot(1, 3, 1)\n",
      "for k, col in zip(range(n_clusters), colors):\n",
      "    my_members = k_means_labels == k\n",
      "    cluster_center = k_means_cluster_centers[k]\n",
      "    ax.plot(X[my_members, 0], X[my_members, 1], 'w',\n",
      "            markerfacecolor=col, marker='.')\n",
      "    ax.plot(cluster_center[0], cluster_center[1], 'o', markerfacecolor=col,\n",
      "            markeredgecolor='k', markersize=6)\n",
      "ax.set_title('KMeans')\n",
      "ax.set_xticks(())\n",
      "ax.set_yticks(())\n",
      "plt.text(-3.5, 1.8,  'train time: %.2fs\\ninertia: %f' % (\n",
      "    t_batch, k_means.inertia_))\n",
      "\n",
      "# MiniBatchKMeans\n",
      "ax = fig.add_subplot(1, 3, 2)\n",
      "for k, col in zip(range(n_clusters), colors):\n",
      "    my_members = mbk_means_labels == order[k]\n",
      "    cluster_center = mbk_means_cluster_centers[order[k]]\n",
      "    ax.plot(X[my_members, 0], X[my_members, 1], 'w',\n",
      "            markerfacecolor=col, marker='.')\n",
      "    ax.plot(cluster_center[0], cluster_center[1], 'o', markerfacecolor=col,\n",
      "            markeredgecolor='k', markersize=6)\n",
      "ax.set_title('MiniBatchKMeans')\n",
      "ax.set_xticks(())\n",
      "ax.set_yticks(())\n",
      "plt.text(-3.5, 1.8, 'train time: %.2fs\\ninertia: %f' %\n",
      "         (t_mini_batch, mbk.inertia_))\n",
      "\n",
      "# Initialise the different array to all False\n",
      "different = (mbk_means_labels == 4)\n",
      "ax = fig.add_subplot(1, 3, 3)\n",
      "\n",
      "for l in range(n_clusters):\n",
      "    different += ((k_means_labels == k) != (mbk_means_labels == order[k]))\n",
      "\n",
      "identic = np.logical_not(different)\n",
      "ax.plot(X[identic, 0], X[identic, 1], 'w',\n",
      "        markerfacecolor='#bbbbbb', marker='.')\n",
      "ax.plot(X[different, 0], X[different, 1], 'w',\n",
      "        markerfacecolor='m', marker='.')\n",
      "ax.set_title('Difference')\n",
      "ax.set_xticks(())\n",
      "ax.set_yticks(())\n",
      "\n",
      "plt.show()"
     ]
    },
    {
     "cell_type": "code",
     "collapsed": false,
     "input": [],
     "language": "python",
     "metadata": {},
     "outputs": []
    }
   ],
   "metadata": {}
  }
 ]
}