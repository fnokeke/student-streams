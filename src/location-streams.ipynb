{
 "metadata": {
  "name": "",
  "signature": "sha256:eb78b772127ed41f1be590b4d2c1302e9e4c51d04e90f7539c3805b990527e5d"
 },
 "nbformat": 3,
 "nbformat_minor": 0,
 "worksheets": [
  {
   "cells": [
    {
     "cell_type": "markdown",
     "metadata": {},
     "source": [
      "#Get relevant libraries"
     ]
    },
    {
     "cell_type": "code",
     "collapsed": false,
     "input": [
      "import ujson as json\n",
      "import pprint\n",
      "import pandas as pd\n",
      "import numpy as np\n",
      "import datetime\n",
      "import fiona\n",
      "import sklearn\n",
      "import time\n",
      "import datetime\n",
      "import calendar\n",
      "import seaborn as sns\n",
      "\n",
      "import matplotlib.dates as mdates\n",
      "from matplotlib import pyplot as plt\n",
      "\n",
      "\n",
      "%matplotlib inline"
     ],
     "language": "python",
     "metadata": {},
     "outputs": [],
     "prompt_number": 10
    },
    {
     "cell_type": "markdown",
     "metadata": {},
     "source": [
      "#Import data"
     ]
    },
    {
     "cell_type": "code",
     "collapsed": false,
     "input": [
      "filename = \"/Users/fnokeke/dev/student-streams/dataset/LocationHistory.json\"\n",
      "\n",
      "with open(filename) as json_file:\n",
      "    raw = json.load(json_file)\n",
      "\n",
      "ld = pd.DataFrame(raw['locations'])\n",
      "\n",
      "print(\"Number of items in data: %d\") % len(ld)"
     ],
     "language": "python",
     "metadata": {},
     "outputs": [
      {
       "output_type": "stream",
       "stream": "stdout",
       "text": [
        "Number of items in data: 266972\n"
       ]
      }
     ],
     "prompt_number": 11
    },
    {
     "cell_type": "markdown",
     "metadata": {},
     "source": [
      "#Free up memory"
     ]
    },
    {
     "cell_type": "code",
     "collapsed": false,
     "input": [
      "del raw"
     ],
     "language": "python",
     "metadata": {},
     "outputs": [],
     "prompt_number": 12
    },
    {
     "cell_type": "markdown",
     "metadata": {},
     "source": [
      "#Convert to typical units"
     ]
    },
    {
     "cell_type": "code",
     "collapsed": false,
     "input": [
      "ld['latitudeE7'] = ld['latitudeE7']/float(1e7)\n",
      "ld['longitudeE7'] = ld['longitudeE7']/float(1e7)\n",
      "ld['timestampMs'] = ld['timestampMs'].map(lambda x: float(x)/1000)\n",
      "ld['datetime'] = ld.timestampMs.map(datetime.datetime.fromtimestamp)\n",
      "ld['dt2'] = ld.datetime.map(lambda x: x.strftime(\"%Y-%m-%d %H:%M:%S\"))\n",
      "ld['date'] = ld.datetime.map(lambda x: x.strftime(\"%Y-%m-%d\"))\n",
      "ld['time'] = ld.datetime.map(lambda x: x.strftime(\"%H:%M:%S\"))\n",
      "ld['hr'] = ld.datetime.map(lambda x: x.strftime(\"%H\"))\n",
      "ld['min'] = ld.datetime.map(lambda x: x.strftime(\"%M\"))"
     ],
     "language": "python",
     "metadata": {},
     "outputs": [],
     "prompt_number": 13
    },
    {
     "cell_type": "markdown",
     "metadata": {},
     "source": [
      "#Rename fields"
     ]
    },
    {
     "cell_type": "code",
     "collapsed": false,
     "input": [
      "ld.rename(columns={\n",
      "'latitudeE7': 'latitude',\n",
      "'longitudeE7': 'longitude',\n",
      "'timestampMs': 'timestamp'\n",
      "}, inplace=True)"
     ],
     "language": "python",
     "metadata": {},
     "outputs": [],
     "prompt_number": 14
    },
    {
     "cell_type": "markdown",
     "metadata": {},
     "source": [
      "#Understand the data types of each column"
     ]
    },
    {
     "cell_type": "code",
     "collapsed": false,
     "input": [
      "ld.dtypes"
     ],
     "language": "python",
     "metadata": {},
     "outputs": [
      {
       "metadata": {},
       "output_type": "pyout",
       "prompt_number": 15,
       "text": [
        "accuracy              int64\n",
        "activitys            object\n",
        "altitude            float64\n",
        "heading             float64\n",
        "latitude            float64\n",
        "longitude           float64\n",
        "timestamp           float64\n",
        "velocity            float64\n",
        "datetime     datetime64[ns]\n",
        "dt2                  object\n",
        "date                 object\n",
        "time                 object\n",
        "hr                   object\n",
        "min                  object\n",
        "dtype: object"
       ]
      }
     ],
     "prompt_number": 15
    },
    {
     "cell_type": "markdown",
     "metadata": {},
     "source": [
      "#Get a glimpse of raw data"
     ]
    },
    {
     "cell_type": "code",
     "collapsed": false,
     "input": [
      "ld.head()"
     ],
     "language": "python",
     "metadata": {},
     "outputs": [
      {
       "html": [
        "<div style=\"max-width:1500px;overflow:auto;\">\n",
        "<table border=\"1\" class=\"dataframe\">\n",
        "  <thead>\n",
        "    <tr style=\"text-align: right;\">\n",
        "      <th></th>\n",
        "      <th>accuracy</th>\n",
        "      <th>activitys</th>\n",
        "      <th>altitude</th>\n",
        "      <th>heading</th>\n",
        "      <th>latitude</th>\n",
        "      <th>longitude</th>\n",
        "      <th>timestamp</th>\n",
        "      <th>velocity</th>\n",
        "      <th>datetime</th>\n",
        "      <th>dt2</th>\n",
        "      <th>date</th>\n",
        "      <th>time</th>\n",
        "      <th>hr</th>\n",
        "      <th>min</th>\n",
        "    </tr>\n",
        "  </thead>\n",
        "  <tbody>\n",
        "    <tr>\n",
        "      <th>0</th>\n",
        "      <td>20</td>\n",
        "      <td>[{u'activities': [{u'confidence': 100, u'type'...</td>\n",
        "      <td>NaN</td>\n",
        "      <td>NaN</td>\n",
        "      <td>42.445009</td>\n",
        "      <td>-76.481233</td>\n",
        "      <td>1.444430e+09</td>\n",
        "      <td>NaN</td>\n",
        "      <td>2015-10-09 18:40:49.815</td>\n",
        "      <td>2015-10-09 18:40:49</td>\n",
        "      <td>2015-10-09</td>\n",
        "      <td>18:40:49</td>\n",
        "      <td>18</td>\n",
        "      <td>40</td>\n",
        "    </tr>\n",
        "    <tr>\n",
        "      <th>1</th>\n",
        "      <td>20</td>\n",
        "      <td>NaN</td>\n",
        "      <td>NaN</td>\n",
        "      <td>NaN</td>\n",
        "      <td>42.445002</td>\n",
        "      <td>-76.481257</td>\n",
        "      <td>1.444430e+09</td>\n",
        "      <td>NaN</td>\n",
        "      <td>2015-10-09 18:39:49.791</td>\n",
        "      <td>2015-10-09 18:39:49</td>\n",
        "      <td>2015-10-09</td>\n",
        "      <td>18:39:49</td>\n",
        "      <td>18</td>\n",
        "      <td>39</td>\n",
        "    </tr>\n",
        "    <tr>\n",
        "      <th>2</th>\n",
        "      <td>53</td>\n",
        "      <td>[{u'activities': [{u'confidence': 100, u'type'...</td>\n",
        "      <td>NaN</td>\n",
        "      <td>NaN</td>\n",
        "      <td>42.445001</td>\n",
        "      <td>-76.481254</td>\n",
        "      <td>1.444430e+09</td>\n",
        "      <td>NaN</td>\n",
        "      <td>2015-10-09 18:38:48.981</td>\n",
        "      <td>2015-10-09 18:38:48</td>\n",
        "      <td>2015-10-09</td>\n",
        "      <td>18:38:48</td>\n",
        "      <td>18</td>\n",
        "      <td>38</td>\n",
        "    </tr>\n",
        "    <tr>\n",
        "      <th>3</th>\n",
        "      <td>51</td>\n",
        "      <td>[{u'activities': [{u'confidence': 85, u'type':...</td>\n",
        "      <td>NaN</td>\n",
        "      <td>NaN</td>\n",
        "      <td>42.444977</td>\n",
        "      <td>-76.481236</td>\n",
        "      <td>1.444430e+09</td>\n",
        "      <td>NaN</td>\n",
        "      <td>2015-10-09 18:37:48.476</td>\n",
        "      <td>2015-10-09 18:37:48</td>\n",
        "      <td>2015-10-09</td>\n",
        "      <td>18:37:48</td>\n",
        "      <td>18</td>\n",
        "      <td>37</td>\n",
        "    </tr>\n",
        "    <tr>\n",
        "      <th>4</th>\n",
        "      <td>37</td>\n",
        "      <td>[{u'activities': [{u'confidence': 100, u'type'...</td>\n",
        "      <td>NaN</td>\n",
        "      <td>NaN</td>\n",
        "      <td>42.444994</td>\n",
        "      <td>-76.481249</td>\n",
        "      <td>1.444430e+09</td>\n",
        "      <td>NaN</td>\n",
        "      <td>2015-10-09 18:36:59.451</td>\n",
        "      <td>2015-10-09 18:36:59</td>\n",
        "      <td>2015-10-09</td>\n",
        "      <td>18:36:59</td>\n",
        "      <td>18</td>\n",
        "      <td>36</td>\n",
        "    </tr>\n",
        "  </tbody>\n",
        "</table>\n",
        "</div>"
       ],
       "metadata": {},
       "output_type": "pyout",
       "prompt_number": 16,
       "text": [
        "   accuracy                                          activitys  altitude  \\\n",
        "0        20  [{u'activities': [{u'confidence': 100, u'type'...       NaN   \n",
        "1        20                                                NaN       NaN   \n",
        "2        53  [{u'activities': [{u'confidence': 100, u'type'...       NaN   \n",
        "3        51  [{u'activities': [{u'confidence': 85, u'type':...       NaN   \n",
        "4        37  [{u'activities': [{u'confidence': 100, u'type'...       NaN   \n",
        "\n",
        "   heading   latitude  longitude     timestamp  velocity  \\\n",
        "0      NaN  42.445009 -76.481233  1.444430e+09       NaN   \n",
        "1      NaN  42.445002 -76.481257  1.444430e+09       NaN   \n",
        "2      NaN  42.445001 -76.481254  1.444430e+09       NaN   \n",
        "3      NaN  42.444977 -76.481236  1.444430e+09       NaN   \n",
        "4      NaN  42.444994 -76.481249  1.444430e+09       NaN   \n",
        "\n",
        "                 datetime                  dt2        date      time  hr min  \n",
        "0 2015-10-09 18:40:49.815  2015-10-09 18:40:49  2015-10-09  18:40:49  18  40  \n",
        "1 2015-10-09 18:39:49.791  2015-10-09 18:39:49  2015-10-09  18:39:49  18  39  \n",
        "2 2015-10-09 18:38:48.981  2015-10-09 18:38:48  2015-10-09  18:38:48  18  38  \n",
        "3 2015-10-09 18:37:48.476  2015-10-09 18:37:48  2015-10-09  18:37:48  18  37  \n",
        "4 2015-10-09 18:36:59.451  2015-10-09 18:36:59  2015-10-09  18:36:59  18  36  "
       ]
      }
     ],
     "prompt_number": 16
    },
    {
     "cell_type": "markdown",
     "metadata": {},
     "source": [
      "#Get only a specific number of weeks of data from specific start date"
     ]
    },
    {
     "cell_type": "code",
     "collapsed": false,
     "input": [
      "no_of_weeks = 4\n",
      "no_of_days = no_of_weeks * 7\n",
      "\n",
      "start_date = ld[ld.date=='2014-11-09'].date.head(1)\n",
      "start_date = pd.to_datetime(start_date)\n",
      "\n",
      "print type(start_date)\n",
      "dates = []\n",
      "for i in range(no_of_days):\n",
      "    x = (start_date + datetime.timedelta(days=-i)).to_string()[9:] # horrible tweak to get date in string format\n",
      "    dates.append(x)\n",
      "    \n",
      "ld_wk = ld[ld.date.isin(dates)]\n",
      "print \"Week length:\", len(ld_wk)\n",
      "print dates[:5]\n",
      "\n",
      "# type(pd.to_datetime(\"2014-11-09\") + datetime.timedelta(days=-2))"
     ],
     "language": "python",
     "metadata": {},
     "outputs": [
      {
       "output_type": "stream",
       "stream": "stdout",
       "text": [
        "<class 'pandas.core.series.Series'>\n",
        "Week length:"
       ]
      },
      {
       "output_type": "stream",
       "stream": "stdout",
       "text": [
        " 25442\n",
        "[u'2014-11-09', u'2014-11-08', u'2014-11-07', u'2014-11-06', u'2014-11-05']\n"
       ]
      }
     ],
     "prompt_number": 17
    },
    {
     "cell_type": "markdown",
     "metadata": {},
     "source": [
      "#Ignore locations with accuracy estimates over 1000m"
     ]
    },
    {
     "cell_type": "code",
     "collapsed": false,
     "input": [
      "ld_wk = ld_wk[ld_wk.accuracy < 1000]\n",
      "ld_wk.reset_index(drop=True, inplace=True)\n",
      "print(\"Number of items in data: %d\") % len(ld_wk)"
     ],
     "language": "python",
     "metadata": {},
     "outputs": [
      {
       "output_type": "stream",
       "stream": "stdout",
       "text": [
        "Number of items in data: 25229\n"
       ]
      }
     ],
     "prompt_number": 18
    },
    {
     "cell_type": "markdown",
     "metadata": {},
     "source": [
      "#Select only columns of interest"
     ]
    },
    {
     "cell_type": "code",
     "collapsed": false,
     "input": [
      "ld_wk = ld_wk[['latitude', 'longitude', 'datetime', 'date']]"
     ],
     "language": "python",
     "metadata": {},
     "outputs": [],
     "prompt_number": 19
    },
    {
     "cell_type": "markdown",
     "metadata": {},
     "source": [
      "#Specify places of interest in Ithaca and ignore locations outside Ithaca"
     ]
    },
    {
     "cell_type": "code",
     "collapsed": false,
     "input": [
      "home = (42.446594, -76.493736)\n",
      "work = (42.444877, -76.480814)\n",
      "\n",
      "lat_margin = 0.1\n",
      "lon_margin = 1.0\n",
      "\n",
      "ld_wk = ld_wk[abs(ld_wk.latitude - home[0]) < lat_margin]\n",
      "ld_wk = ld_wk[abs(ld_wk.longitude - home[1]) < lon_margin]\n",
      "print(\"Number of items in data: %d\") % len(ld_wk)\n",
      "ld_wk.head()\n",
      "print \"No of unique dates:\", len(set(ld_wk.date))"
     ],
     "language": "python",
     "metadata": {},
     "outputs": [
      {
       "output_type": "stream",
       "stream": "stdout",
       "text": [
        "Number of items in data: 23933\n",
        "No of unique dates: 26\n"
       ]
      }
     ],
     "prompt_number": 20
    },
    {
     "cell_type": "markdown",
     "metadata": {},
     "source": [
      "#Label every location as either home, work or other"
     ]
    },
    {
     "cell_type": "code",
     "collapsed": false,
     "input": [
      "lat_error_margin = 0.0005\n",
      "lon_error_margin = 0.005\n",
      "\n",
      "POINTS = {\n",
      "    'home': home,\n",
      "    'work': work\n",
      "}\n",
      "\n",
      "def get_loc_label(df, points):\n",
      "    for label, point in points.items():\n",
      "        within_lat = abs(df['latitude'] - point[0]) <= lat_error_margin\n",
      "        within_lon = abs(df['longitude'] - point[1]) <= lon_error_margin\n",
      "        if (within_lat and within_lon):\n",
      "            return label\n",
      "    else:\n",
      "        return 'other'\n",
      "\n",
      "ld_wk['loc_label'] = ld_wk.apply(lambda x: get_loc_label(x, POINTS), axis='columns')"
     ],
     "language": "python",
     "metadata": {},
     "outputs": [],
     "prompt_number": 21
    },
    {
     "cell_type": "markdown",
     "metadata": {},
     "source": [
      "#Show sample locations of home, work, other"
     ]
    },
    {
     "cell_type": "code",
     "collapsed": false,
     "input": [
      "rows = [0,1,59,60,61,62]\n",
      "ld_wk[ld_wk['date'] == ld_wk.date[0]].iloc[rows]"
     ],
     "language": "python",
     "metadata": {},
     "outputs": [
      {
       "html": [
        "<div style=\"max-width:1500px;overflow:auto;\">\n",
        "<table border=\"1\" class=\"dataframe\">\n",
        "  <thead>\n",
        "    <tr style=\"text-align: right;\">\n",
        "      <th></th>\n",
        "      <th>latitude</th>\n",
        "      <th>longitude</th>\n",
        "      <th>datetime</th>\n",
        "      <th>date</th>\n",
        "      <th>loc_label</th>\n",
        "    </tr>\n",
        "  </thead>\n",
        "  <tbody>\n",
        "    <tr>\n",
        "      <th>0</th>\n",
        "      <td>42.449137</td>\n",
        "      <td>-76.477510</td>\n",
        "      <td>2014-11-09 23:59:18.731</td>\n",
        "      <td>2014-11-09</td>\n",
        "      <td>other</td>\n",
        "    </tr>\n",
        "    <tr>\n",
        "      <th>1</th>\n",
        "      <td>42.449135</td>\n",
        "      <td>-76.477484</td>\n",
        "      <td>2014-11-09 23:58:30.267</td>\n",
        "      <td>2014-11-09</td>\n",
        "      <td>other</td>\n",
        "    </tr>\n",
        "    <tr>\n",
        "      <th>59</th>\n",
        "      <td>42.448757</td>\n",
        "      <td>-76.477052</td>\n",
        "      <td>2014-11-09 22:42:36.146</td>\n",
        "      <td>2014-11-09</td>\n",
        "      <td>other</td>\n",
        "    </tr>\n",
        "    <tr>\n",
        "      <th>60</th>\n",
        "      <td>42.448759</td>\n",
        "      <td>-76.477058</td>\n",
        "      <td>2014-11-09 22:41:45.952</td>\n",
        "      <td>2014-11-09</td>\n",
        "      <td>other</td>\n",
        "    </tr>\n",
        "    <tr>\n",
        "      <th>61</th>\n",
        "      <td>42.448787</td>\n",
        "      <td>-76.476725</td>\n",
        "      <td>2014-11-09 22:37:19.310</td>\n",
        "      <td>2014-11-09</td>\n",
        "      <td>other</td>\n",
        "    </tr>\n",
        "    <tr>\n",
        "      <th>62</th>\n",
        "      <td>42.448752</td>\n",
        "      <td>-76.477033</td>\n",
        "      <td>2014-11-09 22:32:18.515</td>\n",
        "      <td>2014-11-09</td>\n",
        "      <td>other</td>\n",
        "    </tr>\n",
        "  </tbody>\n",
        "</table>\n",
        "</div>"
       ],
       "metadata": {},
       "output_type": "pyout",
       "prompt_number": 22,
       "text": [
        "     latitude  longitude                datetime        date loc_label\n",
        "0   42.449137 -76.477510 2014-11-09 23:59:18.731  2014-11-09     other\n",
        "1   42.449135 -76.477484 2014-11-09 23:58:30.267  2014-11-09     other\n",
        "59  42.448757 -76.477052 2014-11-09 22:42:36.146  2014-11-09     other\n",
        "60  42.448759 -76.477058 2014-11-09 22:41:45.952  2014-11-09     other\n",
        "61  42.448787 -76.476725 2014-11-09 22:37:19.310  2014-11-09     other\n",
        "62  42.448752 -76.477033 2014-11-09 22:32:18.515  2014-11-09     other"
       ]
      }
     ],
     "prompt_number": 22
    },
    {
     "cell_type": "markdown",
     "metadata": {},
     "source": [
      "#Resample location patterns data by different time period"
     ]
    },
    {
     "cell_type": "code",
     "collapsed": false,
     "input": [
      "loc_patterns = ld_wk[['datetime', 'loc_label']]\n",
      "loc_patterns = loc_patterns.set_index('datetime')\n",
      "loc_patterns['freq'] = 0\n",
      "loc_group = loc_patterns.groupby(['loc_label']).resample('6H',how=len)\n",
      "loc_group = loc_group.reset_index()\n",
      "loc_group.head()"
     ],
     "language": "python",
     "metadata": {},
     "outputs": [
      {
       "html": [
        "<div style=\"max-width:1500px;overflow:auto;\">\n",
        "<table border=\"1\" class=\"dataframe\">\n",
        "  <thead>\n",
        "    <tr style=\"text-align: right;\">\n",
        "      <th></th>\n",
        "      <th>loc_label</th>\n",
        "      <th>datetime</th>\n",
        "      <th>freq</th>\n",
        "    </tr>\n",
        "  </thead>\n",
        "  <tbody>\n",
        "    <tr>\n",
        "      <th>0</th>\n",
        "      <td>home</td>\n",
        "      <td>2014-10-15 12:00:00</td>\n",
        "      <td>2</td>\n",
        "    </tr>\n",
        "    <tr>\n",
        "      <th>1</th>\n",
        "      <td>home</td>\n",
        "      <td>2014-10-15 18:00:00</td>\n",
        "      <td>0</td>\n",
        "    </tr>\n",
        "    <tr>\n",
        "      <th>2</th>\n",
        "      <td>home</td>\n",
        "      <td>2014-10-16 00:00:00</td>\n",
        "      <td>106</td>\n",
        "    </tr>\n",
        "    <tr>\n",
        "      <th>3</th>\n",
        "      <td>home</td>\n",
        "      <td>2014-10-16 06:00:00</td>\n",
        "      <td>73</td>\n",
        "    </tr>\n",
        "    <tr>\n",
        "      <th>4</th>\n",
        "      <td>home</td>\n",
        "      <td>2014-10-16 12:00:00</td>\n",
        "      <td>0</td>\n",
        "    </tr>\n",
        "  </tbody>\n",
        "</table>\n",
        "</div>"
       ],
       "metadata": {},
       "output_type": "pyout",
       "prompt_number": 23,
       "text": [
        "  loc_label            datetime  freq\n",
        "0      home 2014-10-15 12:00:00     2\n",
        "1      home 2014-10-15 18:00:00     0\n",
        "2      home 2014-10-16 00:00:00   106\n",
        "3      home 2014-10-16 06:00:00    73\n",
        "4      home 2014-10-16 12:00:00     0"
       ]
      }
     ],
     "prompt_number": 23
    },
    {
     "cell_type": "code",
     "collapsed": false,
     "input": [
      "loc_group = loc_group.groupby(['datetime','loc_label']).sum()\n",
      "loc_group.head()"
     ],
     "language": "python",
     "metadata": {},
     "outputs": [
      {
       "html": [
        "<div style=\"max-width:1500px;overflow:auto;\">\n",
        "<table border=\"1\" class=\"dataframe\">\n",
        "  <thead>\n",
        "    <tr style=\"text-align: right;\">\n",
        "      <th></th>\n",
        "      <th></th>\n",
        "      <th>freq</th>\n",
        "    </tr>\n",
        "    <tr>\n",
        "      <th>datetime</th>\n",
        "      <th>loc_label</th>\n",
        "      <th></th>\n",
        "    </tr>\n",
        "  </thead>\n",
        "  <tbody>\n",
        "    <tr>\n",
        "      <th rowspan=\"3\" valign=\"top\">2014-10-15 12:00:00</th>\n",
        "      <th>home</th>\n",
        "      <td>2</td>\n",
        "    </tr>\n",
        "    <tr>\n",
        "      <th>other</th>\n",
        "      <td>126</td>\n",
        "    </tr>\n",
        "    <tr>\n",
        "      <th>work</th>\n",
        "      <td>103</td>\n",
        "    </tr>\n",
        "    <tr>\n",
        "      <th rowspan=\"2\" valign=\"top\">2014-10-15 18:00:00</th>\n",
        "      <th>home</th>\n",
        "      <td>0</td>\n",
        "    </tr>\n",
        "    <tr>\n",
        "      <th>other</th>\n",
        "      <td>0</td>\n",
        "    </tr>\n",
        "  </tbody>\n",
        "</table>\n",
        "</div>"
       ],
       "metadata": {},
       "output_type": "pyout",
       "prompt_number": 24,
       "text": [
        "                               freq\n",
        "datetime            loc_label      \n",
        "2014-10-15 12:00:00 home          2\n",
        "                    other       126\n",
        "                    work        103\n",
        "2014-10-15 18:00:00 home          0\n",
        "                    other         0"
       ]
      }
     ],
     "prompt_number": 24
    },
    {
     "cell_type": "code",
     "collapsed": false,
     "input": [
      "loc_group.unstack().head()"
     ],
     "language": "python",
     "metadata": {},
     "outputs": [
      {
       "output_type": "stream",
       "stream": "stderr",
       "text": [
        "/Users/fnokeke/dev/student-streams/env_ss/lib/python2.7/site-packages/pandas/core/index.py:4281: FutureWarning: elementwise comparison failed; returning scalar instead, but in the future will perform elementwise comparison\n",
        "  return np.sum(name == np.asarray(self.names)) > 1\n"
       ]
      },
      {
       "html": [
        "<div style=\"max-width:1500px;overflow:auto;\">\n",
        "<table border=\"1\" class=\"dataframe\">\n",
        "  <thead>\n",
        "    <tr>\n",
        "      <th></th>\n",
        "      <th colspan=\"3\" halign=\"left\">freq</th>\n",
        "    </tr>\n",
        "    <tr>\n",
        "      <th>loc_label</th>\n",
        "      <th>home</th>\n",
        "      <th>other</th>\n",
        "      <th>work</th>\n",
        "    </tr>\n",
        "    <tr>\n",
        "      <th>datetime</th>\n",
        "      <th></th>\n",
        "      <th></th>\n",
        "      <th></th>\n",
        "    </tr>\n",
        "  </thead>\n",
        "  <tbody>\n",
        "    <tr>\n",
        "      <th>2014-10-15 12:00:00</th>\n",
        "      <td>2</td>\n",
        "      <td>126</td>\n",
        "      <td>103</td>\n",
        "    </tr>\n",
        "    <tr>\n",
        "      <th>2014-10-15 18:00:00</th>\n",
        "      <td>0</td>\n",
        "      <td>0</td>\n",
        "      <td>213</td>\n",
        "    </tr>\n",
        "    <tr>\n",
        "      <th>2014-10-16 00:00:00</th>\n",
        "      <td>106</td>\n",
        "      <td>18</td>\n",
        "      <td>4</td>\n",
        "    </tr>\n",
        "    <tr>\n",
        "      <th>2014-10-16 06:00:00</th>\n",
        "      <td>73</td>\n",
        "      <td>36</td>\n",
        "      <td>66</td>\n",
        "    </tr>\n",
        "    <tr>\n",
        "      <th>2014-10-16 12:00:00</th>\n",
        "      <td>0</td>\n",
        "      <td>23</td>\n",
        "      <td>261</td>\n",
        "    </tr>\n",
        "  </tbody>\n",
        "</table>\n",
        "</div>"
       ],
       "metadata": {},
       "output_type": "pyout",
       "prompt_number": 25,
       "text": [
        "                    freq           \n",
        "loc_label           home other work\n",
        "datetime                           \n",
        "2014-10-15 12:00:00    2   126  103\n",
        "2014-10-15 18:00:00    0     0  213\n",
        "2014-10-16 00:00:00  106    18    4\n",
        "2014-10-16 06:00:00   73    36   66\n",
        "2014-10-16 12:00:00    0    23  261"
       ]
      }
     ],
     "prompt_number": 25
    },
    {
     "cell_type": "code",
     "collapsed": false,
     "input": [
      "loc_plot = loc_group.unstack().plot(kind='barh', stacked=True, title=\"Location Freq by Date\", figsize=(20, 20))\n",
      "loc_plot.set_xlabel(\"Frequency\")\n",
      "loc_plot.set_ylabel(\"Time\")\n",
      "loc_plot.legend([\"Home\",\"Other\",\"Work\"],loc='center left', bbox_to_anchor=(1, 0.5), fancybox=True, shadow=True)"
     ],
     "language": "python",
     "metadata": {},
     "outputs": [
      {
       "metadata": {},
       "output_type": "pyout",
       "prompt_number": 26,
       "text": [
        "<matplotlib.legend.Legend at 0x1190c9510>"
       ]
      },
      {
       "metadata": {},
       "output_type": "display_data",
       "png": "[encoded data removed]",
       "text": [
        "<matplotlib.figure.Figure at 0x1190c97d0>"
       ]
      }
     ],
     "prompt_number": 26
    },
    {
     "cell_type": "markdown",
     "metadata": {},
     "source": [
      "#Mark every day by the day name"
     ]
    },
    {
     "cell_type": "code",
     "collapsed": false,
     "input": [
      "weekday_patterns = ld_wk[['datetime', 'loc_label']]\n",
      "weekday_patterns['weekday'] = weekday_patterns.datetime.map(lambda x: calendar.day_name[x.weekday()])\n",
      "weekday_patterns.head()"
     ],
     "language": "python",
     "metadata": {},
     "outputs": [
      {
       "output_type": "stream",
       "stream": "stderr",
       "text": [
        "-c:2: SettingWithCopyWarning: \n",
        "A value is trying to be set on a copy of a slice from a DataFrame.\n",
        "Try using .loc[row_indexer,col_indexer] = value instead\n",
        "\n",
        "See the caveats in the documentation: http://pandas.pydata.org/pandas-docs/stable/indexing.html#indexing-view-versus-copy\n"
       ]
      },
      {
       "html": [
        "<div style=\"max-width:1500px;overflow:auto;\">\n",
        "<table border=\"1\" class=\"dataframe\">\n",
        "  <thead>\n",
        "    <tr style=\"text-align: right;\">\n",
        "      <th></th>\n",
        "      <th>datetime</th>\n",
        "      <th>loc_label</th>\n",
        "      <th>weekday</th>\n",
        "    </tr>\n",
        "  </thead>\n",
        "  <tbody>\n",
        "    <tr>\n",
        "      <th>0</th>\n",
        "      <td>2014-11-09 23:59:18.731</td>\n",
        "      <td>other</td>\n",
        "      <td>Sunday</td>\n",
        "    </tr>\n",
        "    <tr>\n",
        "      <th>1</th>\n",
        "      <td>2014-11-09 23:58:30.267</td>\n",
        "      <td>other</td>\n",
        "      <td>Sunday</td>\n",
        "    </tr>\n",
        "    <tr>\n",
        "      <th>2</th>\n",
        "      <td>2014-11-09 23:57:37.062</td>\n",
        "      <td>other</td>\n",
        "      <td>Sunday</td>\n",
        "    </tr>\n",
        "    <tr>\n",
        "      <th>3</th>\n",
        "      <td>2014-11-09 23:56:46.554</td>\n",
        "      <td>other</td>\n",
        "      <td>Sunday</td>\n",
        "    </tr>\n",
        "    <tr>\n",
        "      <th>4</th>\n",
        "      <td>2014-11-09 23:55:56.987</td>\n",
        "      <td>other</td>\n",
        "      <td>Sunday</td>\n",
        "    </tr>\n",
        "  </tbody>\n",
        "</table>\n",
        "</div>"
       ],
       "metadata": {},
       "output_type": "pyout",
       "prompt_number": 27,
       "text": [
        "                 datetime loc_label weekday\n",
        "0 2014-11-09 23:59:18.731     other  Sunday\n",
        "1 2014-11-09 23:58:30.267     other  Sunday\n",
        "2 2014-11-09 23:57:37.062     other  Sunday\n",
        "3 2014-11-09 23:56:46.554     other  Sunday\n",
        "4 2014-11-09 23:55:56.987     other  Sunday"
       ]
      }
     ],
     "prompt_number": 27
    },
    {
     "cell_type": "code",
     "collapsed": false,
     "input": [
      "weekday_patterns['freq'] = 0\n",
      "weekday_patterns = weekday_patterns.set_index('datetime')\n",
      "weekday_patterns = weekday_patterns.groupby(['weekday', 'loc_label']).resample('D', how=len)\n",
      "weekday_patterns.head()"
     ],
     "language": "python",
     "metadata": {},
     "outputs": [
      {
       "output_type": "stream",
       "stream": "stderr",
       "text": [
        "-c:1: SettingWithCopyWarning: \n",
        "A value is trying to be set on a copy of a slice from a DataFrame.\n",
        "Try using .loc[row_indexer,col_indexer] = value instead\n",
        "\n",
        "See the caveats in the documentation: http://pandas.pydata.org/pandas-docs/stable/indexing.html#indexing-view-versus-copy\n"
       ]
      },
      {
       "html": [
        "<div style=\"max-width:1500px;overflow:auto;\">\n",
        "<table border=\"1\" class=\"dataframe\">\n",
        "  <thead>\n",
        "    <tr style=\"text-align: right;\">\n",
        "      <th></th>\n",
        "      <th></th>\n",
        "      <th></th>\n",
        "      <th>freq</th>\n",
        "    </tr>\n",
        "    <tr>\n",
        "      <th>weekday</th>\n",
        "      <th>loc_label</th>\n",
        "      <th>datetime</th>\n",
        "      <th></th>\n",
        "    </tr>\n",
        "  </thead>\n",
        "  <tbody>\n",
        "    <tr>\n",
        "      <th rowspan=\"5\" valign=\"top\">Friday</th>\n",
        "      <th rowspan=\"5\" valign=\"top\">home</th>\n",
        "      <th>2014-10-17</th>\n",
        "      <td>143</td>\n",
        "    </tr>\n",
        "    <tr>\n",
        "      <th>2014-10-18</th>\n",
        "      <td>0</td>\n",
        "    </tr>\n",
        "    <tr>\n",
        "      <th>2014-10-19</th>\n",
        "      <td>0</td>\n",
        "    </tr>\n",
        "    <tr>\n",
        "      <th>2014-10-20</th>\n",
        "      <td>0</td>\n",
        "    </tr>\n",
        "    <tr>\n",
        "      <th>2014-10-21</th>\n",
        "      <td>0</td>\n",
        "    </tr>\n",
        "  </tbody>\n",
        "</table>\n",
        "</div>"
       ],
       "metadata": {},
       "output_type": "pyout",
       "prompt_number": 28,
       "text": [
        "                              freq\n",
        "weekday loc_label datetime        \n",
        "Friday  home      2014-10-17   143\n",
        "                  2014-10-18     0\n",
        "                  2014-10-19     0\n",
        "                  2014-10-20     0\n",
        "                  2014-10-21     0"
       ]
      }
     ],
     "prompt_number": 28
    },
    {
     "cell_type": "code",
     "collapsed": false,
     "input": [
      "shorter_df = weekday_patterns.reset_index()[['weekday', 'loc_label', 'freq']]\n",
      "shorter_df.head()"
     ],
     "language": "python",
     "metadata": {},
     "outputs": [
      {
       "html": [
        "<div style=\"max-width:1500px;overflow:auto;\">\n",
        "<table border=\"1\" class=\"dataframe\">\n",
        "  <thead>\n",
        "    <tr style=\"text-align: right;\">\n",
        "      <th></th>\n",
        "      <th>weekday</th>\n",
        "      <th>loc_label</th>\n",
        "      <th>freq</th>\n",
        "    </tr>\n",
        "  </thead>\n",
        "  <tbody>\n",
        "    <tr>\n",
        "      <th>0</th>\n",
        "      <td>Friday</td>\n",
        "      <td>home</td>\n",
        "      <td>143</td>\n",
        "    </tr>\n",
        "    <tr>\n",
        "      <th>1</th>\n",
        "      <td>Friday</td>\n",
        "      <td>home</td>\n",
        "      <td>0</td>\n",
        "    </tr>\n",
        "    <tr>\n",
        "      <th>2</th>\n",
        "      <td>Friday</td>\n",
        "      <td>home</td>\n",
        "      <td>0</td>\n",
        "    </tr>\n",
        "    <tr>\n",
        "      <th>3</th>\n",
        "      <td>Friday</td>\n",
        "      <td>home</td>\n",
        "      <td>0</td>\n",
        "    </tr>\n",
        "    <tr>\n",
        "      <th>4</th>\n",
        "      <td>Friday</td>\n",
        "      <td>home</td>\n",
        "      <td>0</td>\n",
        "    </tr>\n",
        "  </tbody>\n",
        "</table>\n",
        "</div>"
       ],
       "metadata": {},
       "output_type": "pyout",
       "prompt_number": 29,
       "text": [
        "  weekday loc_label  freq\n",
        "0  Friday      home   143\n",
        "1  Friday      home     0\n",
        "2  Friday      home     0\n",
        "3  Friday      home     0\n",
        "4  Friday      home     0"
       ]
      }
     ],
     "prompt_number": 29
    },
    {
     "cell_type": "code",
     "collapsed": false,
     "input": [
      "shorter_df = shorter_df.groupby(['weekday', 'loc_label']).sum().unstack()\n",
      "shorter_df.head(20)"
     ],
     "language": "python",
     "metadata": {},
     "outputs": [
      {
       "html": [
        "<div style=\"max-width:1500px;overflow:auto;\">\n",
        "<table border=\"1\" class=\"dataframe\">\n",
        "  <thead>\n",
        "    <tr>\n",
        "      <th></th>\n",
        "      <th colspan=\"3\" halign=\"left\">freq</th>\n",
        "    </tr>\n",
        "    <tr>\n",
        "      <th>loc_label</th>\n",
        "      <th>home</th>\n",
        "      <th>other</th>\n",
        "      <th>work</th>\n",
        "    </tr>\n",
        "    <tr>\n",
        "      <th>weekday</th>\n",
        "      <th></th>\n",
        "      <th></th>\n",
        "      <th></th>\n",
        "    </tr>\n",
        "  </thead>\n",
        "  <tbody>\n",
        "    <tr>\n",
        "      <th>Friday</th>\n",
        "      <td>967</td>\n",
        "      <td>728</td>\n",
        "      <td>1849</td>\n",
        "    </tr>\n",
        "    <tr>\n",
        "      <th>Monday</th>\n",
        "      <td>1033</td>\n",
        "      <td>373</td>\n",
        "      <td>1556</td>\n",
        "    </tr>\n",
        "    <tr>\n",
        "      <th>Saturday</th>\n",
        "      <td>2009</td>\n",
        "      <td>1405</td>\n",
        "      <td>371</td>\n",
        "    </tr>\n",
        "    <tr>\n",
        "      <th>Sunday</th>\n",
        "      <td>2183</td>\n",
        "      <td>1195</td>\n",
        "      <td>355</td>\n",
        "    </tr>\n",
        "    <tr>\n",
        "      <th>Thursday</th>\n",
        "      <td>1013</td>\n",
        "      <td>759</td>\n",
        "      <td>2024</td>\n",
        "    </tr>\n",
        "    <tr>\n",
        "      <th>Tuesday</th>\n",
        "      <td>722</td>\n",
        "      <td>353</td>\n",
        "      <td>1683</td>\n",
        "    </tr>\n",
        "    <tr>\n",
        "      <th>Wednesday</th>\n",
        "      <td>857</td>\n",
        "      <td>486</td>\n",
        "      <td>2012</td>\n",
        "    </tr>\n",
        "  </tbody>\n",
        "</table>\n",
        "</div>"
       ],
       "metadata": {},
       "output_type": "pyout",
       "prompt_number": 30,
       "text": [
        "           freq            \n",
        "loc_label  home other  work\n",
        "weekday                    \n",
        "Friday      967   728  1849\n",
        "Monday     1033   373  1556\n",
        "Saturday   2009  1405   371\n",
        "Sunday     2183  1195   355\n",
        "Thursday   1013   759  2024\n",
        "Tuesday     722   353  1683\n",
        "Wednesday   857   486  2012"
       ]
      }
     ],
     "prompt_number": 30
    },
    {
     "cell_type": "code",
     "collapsed": false,
     "input": [
      "order_of_weekdays = ['Monday', 'Tuesday', 'Wednesday', 'Thursday', 'Friday', 'Saturday', 'Sunday']\n",
      "shorter_df.index = pd.Categorical(shorter_df.index, order_of_weekdays)\n",
      "shorter_df = shorter_df.sort_index()\n",
      "sh_plot = shorter_df.plot()\n",
      "sh_plot.legend([\"Home\",\"Other\",\"Work\"],loc='center left', bbox_to_anchor=(1, 0.5), fancybox=True, shadow=True)"
     ],
     "language": "python",
     "metadata": {},
     "outputs": [
      {
       "metadata": {},
       "output_type": "pyout",
       "prompt_number": 31,
       "text": [
        "<matplotlib.legend.Legend at 0x12b3ffe50>"
       ]
      },
      {
       "metadata": {},
       "output_type": "display_data",
       "png": "[encoded data removed]",
       "text": [
        "<matplotlib.figure.Figure at 0x12b3f7dd0>"
       ]
      }
     ],
     "prompt_number": 31
    },
    {
     "cell_type": "code",
     "collapsed": false,
     "input": [
      "sh_plot = shorter_df.plot(kind='barh', stacked=True)\n",
      "sh_plot.legend([\"Home\",\"Other\",\"Work\"],loc='center left', bbox_to_anchor=(1, 0.5), fancybox=True, shadow=True)"
     ],
     "language": "python",
     "metadata": {},
     "outputs": [
      {
       "metadata": {},
       "output_type": "pyout",
       "prompt_number": 32,
       "text": [
        "<matplotlib.legend.Legend at 0x12b40ffd0>"
       ]
      },
      {
       "metadata": {},
       "output_type": "display_data",
       "png": "[encoded data removed]",
       "text": [
        "<matplotlib.figure.Figure at 0x12b40f350>"
       ]
      }
     ],
     "prompt_number": 32
    },
    {
     "cell_type": "markdown",
     "metadata": {},
     "source": [
      "#Where you are by dates"
     ]
    },
    {
     "cell_type": "code",
     "collapsed": false,
     "input": [
      "day_time_patterns = ld_wk[['datetime', 'loc_label']]\n",
      "\n",
      "day_time_patterns.loc[:,'loc_label'] = pd.Categorical(day_time_patterns['loc_label'])\n",
      "\n",
      "day_time_patterns.loc[:,'hr'] = day_time_patterns.datetime.map(lambda x: int(x.strftime(\"%H\")) + float(x.strftime(\"%M\"))/60)\n",
      "day_time_patterns.loc[:,'hr'] = pd.Categorical(day_time_patterns['hr'])\n",
      "\n",
      "day_time_patterns.loc[:,'weekday'] = day_time_patterns.datetime.map(lambda x: calendar.day_name[x.weekday()])\n",
      "day_time_patterns.loc[:,'weekday'] = pd.Categorical(day_time_patterns['weekday'], order_of_weekdays)\n",
      "\n",
      "day_time_patterns.head()"
     ],
     "language": "python",
     "metadata": {},
     "outputs": [
      {
       "html": [
        "<div style=\"max-width:1500px;overflow:auto;\">\n",
        "<table border=\"1\" class=\"dataframe\">\n",
        "  <thead>\n",
        "    <tr style=\"text-align: right;\">\n",
        "      <th></th>\n",
        "      <th>datetime</th>\n",
        "      <th>loc_label</th>\n",
        "      <th>hr</th>\n",
        "      <th>weekday</th>\n",
        "    </tr>\n",
        "  </thead>\n",
        "  <tbody>\n",
        "    <tr>\n",
        "      <th>0</th>\n",
        "      <td>2014-11-09 23:59:18.731</td>\n",
        "      <td>other</td>\n",
        "      <td>23.983333</td>\n",
        "      <td>Sunday</td>\n",
        "    </tr>\n",
        "    <tr>\n",
        "      <th>1</th>\n",
        "      <td>2014-11-09 23:58:30.267</td>\n",
        "      <td>other</td>\n",
        "      <td>23.966667</td>\n",
        "      <td>Sunday</td>\n",
        "    </tr>\n",
        "    <tr>\n",
        "      <th>2</th>\n",
        "      <td>2014-11-09 23:57:37.062</td>\n",
        "      <td>other</td>\n",
        "      <td>23.950000</td>\n",
        "      <td>Sunday</td>\n",
        "    </tr>\n",
        "    <tr>\n",
        "      <th>3</th>\n",
        "      <td>2014-11-09 23:56:46.554</td>\n",
        "      <td>other</td>\n",
        "      <td>23.933333</td>\n",
        "      <td>Sunday</td>\n",
        "    </tr>\n",
        "    <tr>\n",
        "      <th>4</th>\n",
        "      <td>2014-11-09 23:55:56.987</td>\n",
        "      <td>other</td>\n",
        "      <td>23.916667</td>\n",
        "      <td>Sunday</td>\n",
        "    </tr>\n",
        "  </tbody>\n",
        "</table>\n",
        "</div>"
       ],
       "metadata": {},
       "output_type": "pyout",
       "prompt_number": 36,
       "text": [
        "                 datetime loc_label         hr weekday\n",
        "0 2014-11-09 23:59:18.731     other  23.983333  Sunday\n",
        "1 2014-11-09 23:58:30.267     other  23.966667  Sunday\n",
        "2 2014-11-09 23:57:37.062     other  23.950000  Sunday\n",
        "3 2014-11-09 23:56:46.554     other  23.933333  Sunday\n",
        "4 2014-11-09 23:55:56.987     other  23.916667  Sunday"
       ]
      }
     ],
     "prompt_number": 36
    },
    {
     "cell_type": "code",
     "collapsed": false,
     "input": [
      "day_time_patterns.hr = day_time_patterns.hr.astype(float)\n",
      "day_time_patterns.dtypes"
     ],
     "language": "python",
     "metadata": {},
     "outputs": []
    },
    {
     "cell_type": "markdown",
     "metadata": {},
     "source": [
      "#Show location by time of day (seaborn plot)"
     ]
    },
    {
     "cell_type": "code",
     "collapsed": false,
     "input": [
      "sns.set(style=\"whitegrid\", color_codes=True)\n",
      "sns.set_context({\"figure.figsize\": (10, 7)})\n",
      "\n",
      "axes = sns.stripplot(x=\"date\", y=\"hr\", hue=\"loc_label\", data=day_time_patterns, jitter=True);\n",
      "axes.set_ylim(0,25)\n",
      "\n",
      "labels = [\"Midnight\", \"5am\", \"10am\", \"3pm\", \"8pm\", \"Midnight\"]\n",
      "axes.set_yticklabels(labels)\n",
      "\n",
      "axes.legend([\"Home\",\"Other\",\"Work\"],loc='center left', bbox_to_anchor=(1, 0.5), fancybox=True, shadow=True)"
     ],
     "language": "python",
     "metadata": {},
     "outputs": []
    },
    {
     "cell_type": "code",
     "collapsed": false,
     "input": [],
     "language": "python",
     "metadata": {},
     "outputs": []
    }
   ],
   "metadata": {}
  }
 ]
}