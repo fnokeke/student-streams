{
 "metadata": {
  "name": "",
  "signature": "sha256:b9b28c8c8d13c7a792261767080fc95bf8695e123f2b0d7837c3532136040cb6"
 },
 "nbformat": 3,
 "nbformat_minor": 0,
 "worksheets": [
  {
   "cells": [
    {
     "cell_type": "markdown",
     "metadata": {},
     "source": [
      "#Get relevant libraries"
     ]
    },
    {
     "cell_type": "code",
     "collapsed": false,
     "input": [
      "import ujson as json\n",
      "import pprint\n",
      "import pandas as pd\n",
      "import numpy as np\n",
      "import datetime\n",
      "import fiona\n",
      "import sklearn\n",
      "import time\n",
      "import datetime\n",
      "import matplotlib.dates as mdates\n",
      "\n",
      "from shapely.geometry import Point, Polygon, MultiPoint, MultiPolygon\n",
      "from shapely.prepared import prep\n",
      "from mpl_toolkits.basemap import Basemap\n",
      "from matplotlib.collections import PatchCollection\n",
      "from descartes import PolygonPatch\n",
      "from matplotlib import pyplot as plt\n",
      "from sklearn.metrics.pairwise import pairwise_distances_argmin\n",
      "\n",
      "%matplotlib inline"
     ],
     "language": "python",
     "metadata": {},
     "outputs": [],
     "prompt_number": 73
    },
    {
     "cell_type": "markdown",
     "metadata": {},
     "source": [
      "#Import data"
     ]
    },
    {
     "cell_type": "code",
     "collapsed": false,
     "input": [
      "filename = \"/Users/fnokeke/dev/student-streams/dataset/LocationHistory.json\"\n",
      "\n",
      "with open(filename) as json_file:\n",
      "    raw = json.load(json_file)\n",
      "\n",
      "ld = pd.DataFrame(raw['locations'])\n",
      "\n",
      "print(\"Number of items in data: %d\") % len(ld)"
     ],
     "language": "python",
     "metadata": {},
     "outputs": [
      {
       "output_type": "stream",
       "stream": "stdout",
       "text": [
        "Number of items in data: 266972\n"
       ]
      }
     ],
     "prompt_number": 74
    },
    {
     "cell_type": "markdown",
     "metadata": {},
     "source": [
      "#Free up memory"
     ]
    },
    {
     "cell_type": "code",
     "collapsed": false,
     "input": [
      "del raw"
     ],
     "language": "python",
     "metadata": {},
     "outputs": [],
     "prompt_number": 75
    },
    {
     "cell_type": "markdown",
     "metadata": {},
     "source": [
      "#Convert to typical units"
     ]
    },
    {
     "cell_type": "code",
     "collapsed": false,
     "input": [
      "ld['latitudeE7'] = ld['latitudeE7']/float(1e7)\n",
      "ld['longitudeE7'] = ld['longitudeE7']/float(1e7)\n",
      "ld['timestampMs'] = ld['timestampMs'].map(lambda x: float(x)/1000)\n",
      "ld['datetime'] = ld.timestampMs.map(datetime.datetime.fromtimestamp)\n",
      "ld['date'] = ld.datetime.map(lambda x: x.strftime(\"%Y-%m-%d\"))\n",
      "ld['time'] = ld.datetime.map(lambda x: x.strftime(\"%H:%M:%S\"))"
     ],
     "language": "python",
     "metadata": {},
     "outputs": [],
     "prompt_number": 76
    },
    {
     "cell_type": "markdown",
     "metadata": {},
     "source": [
      "#Rename fields"
     ]
    },
    {
     "cell_type": "code",
     "collapsed": false,
     "input": [
      "ld.rename(columns={\n",
      "'latitudeE7': 'latitude',\n",
      "'longitudeE7': 'longitude',\n",
      "'timestampMs': 'timestamp'\n",
      "}, inplace=True)"
     ],
     "language": "python",
     "metadata": {},
     "outputs": [],
     "prompt_number": 77
    },
    {
     "cell_type": "markdown",
     "metadata": {},
     "source": [
      "#Get a glimpse of raw data"
     ]
    },
    {
     "cell_type": "code",
     "collapsed": false,
     "input": [
      "ld.head()"
     ],
     "language": "python",
     "metadata": {},
     "outputs": [
      {
       "html": [
        "<div style=\"max-width:1500px;overflow:auto;\">\n",
        "<table border=\"1\" class=\"dataframe\">\n",
        "  <thead>\n",
        "    <tr style=\"text-align: right;\">\n",
        "      <th></th>\n",
        "      <th>accuracy</th>\n",
        "      <th>activitys</th>\n",
        "      <th>altitude</th>\n",
        "      <th>heading</th>\n",
        "      <th>latitude</th>\n",
        "      <th>longitude</th>\n",
        "      <th>timestamp</th>\n",
        "      <th>velocity</th>\n",
        "      <th>datetime</th>\n",
        "      <th>date</th>\n",
        "      <th>time</th>\n",
        "    </tr>\n",
        "  </thead>\n",
        "  <tbody>\n",
        "    <tr>\n",
        "      <th>0</th>\n",
        "      <td>20</td>\n",
        "      <td>[{u'activities': [{u'confidence': 100, u'type'...</td>\n",
        "      <td>NaN</td>\n",
        "      <td>NaN</td>\n",
        "      <td>42.445009</td>\n",
        "      <td>-76.481233</td>\n",
        "      <td>1.444430e+09</td>\n",
        "      <td>NaN</td>\n",
        "      <td>2015-10-09 18:40:49.815</td>\n",
        "      <td>2015-10-09</td>\n",
        "      <td>18:40:49</td>\n",
        "    </tr>\n",
        "    <tr>\n",
        "      <th>1</th>\n",
        "      <td>20</td>\n",
        "      <td>NaN</td>\n",
        "      <td>NaN</td>\n",
        "      <td>NaN</td>\n",
        "      <td>42.445002</td>\n",
        "      <td>-76.481257</td>\n",
        "      <td>1.444430e+09</td>\n",
        "      <td>NaN</td>\n",
        "      <td>2015-10-09 18:39:49.791</td>\n",
        "      <td>2015-10-09</td>\n",
        "      <td>18:39:49</td>\n",
        "    </tr>\n",
        "    <tr>\n",
        "      <th>2</th>\n",
        "      <td>53</td>\n",
        "      <td>[{u'activities': [{u'confidence': 100, u'type'...</td>\n",
        "      <td>NaN</td>\n",
        "      <td>NaN</td>\n",
        "      <td>42.445001</td>\n",
        "      <td>-76.481254</td>\n",
        "      <td>1.444430e+09</td>\n",
        "      <td>NaN</td>\n",
        "      <td>2015-10-09 18:38:48.981</td>\n",
        "      <td>2015-10-09</td>\n",
        "      <td>18:38:48</td>\n",
        "    </tr>\n",
        "    <tr>\n",
        "      <th>3</th>\n",
        "      <td>51</td>\n",
        "      <td>[{u'activities': [{u'confidence': 85, u'type':...</td>\n",
        "      <td>NaN</td>\n",
        "      <td>NaN</td>\n",
        "      <td>42.444977</td>\n",
        "      <td>-76.481236</td>\n",
        "      <td>1.444430e+09</td>\n",
        "      <td>NaN</td>\n",
        "      <td>2015-10-09 18:37:48.476</td>\n",
        "      <td>2015-10-09</td>\n",
        "      <td>18:37:48</td>\n",
        "    </tr>\n",
        "    <tr>\n",
        "      <th>4</th>\n",
        "      <td>37</td>\n",
        "      <td>[{u'activities': [{u'confidence': 100, u'type'...</td>\n",
        "      <td>NaN</td>\n",
        "      <td>NaN</td>\n",
        "      <td>42.444994</td>\n",
        "      <td>-76.481249</td>\n",
        "      <td>1.444430e+09</td>\n",
        "      <td>NaN</td>\n",
        "      <td>2015-10-09 18:36:59.451</td>\n",
        "      <td>2015-10-09</td>\n",
        "      <td>18:36:59</td>\n",
        "    </tr>\n",
        "  </tbody>\n",
        "</table>\n",
        "</div>"
       ],
       "metadata": {},
       "output_type": "pyout",
       "prompt_number": 78,
       "text": [
        "   accuracy                                          activitys  altitude  \\\n",
        "0        20  [{u'activities': [{u'confidence': 100, u'type'...       NaN   \n",
        "1        20                                                NaN       NaN   \n",
        "2        53  [{u'activities': [{u'confidence': 100, u'type'...       NaN   \n",
        "3        51  [{u'activities': [{u'confidence': 85, u'type':...       NaN   \n",
        "4        37  [{u'activities': [{u'confidence': 100, u'type'...       NaN   \n",
        "\n",
        "   heading   latitude  longitude     timestamp  velocity  \\\n",
        "0      NaN  42.445009 -76.481233  1.444430e+09       NaN   \n",
        "1      NaN  42.445002 -76.481257  1.444430e+09       NaN   \n",
        "2      NaN  42.445001 -76.481254  1.444430e+09       NaN   \n",
        "3      NaN  42.444977 -76.481236  1.444430e+09       NaN   \n",
        "4      NaN  42.444994 -76.481249  1.444430e+09       NaN   \n",
        "\n",
        "                 datetime        date      time  \n",
        "0 2015-10-09 18:40:49.815  2015-10-09  18:40:49  \n",
        "1 2015-10-09 18:39:49.791  2015-10-09  18:39:49  \n",
        "2 2015-10-09 18:38:48.981  2015-10-09  18:38:48  \n",
        "3 2015-10-09 18:37:48.476  2015-10-09  18:37:48  \n",
        "4 2015-10-09 18:36:59.451  2015-10-09  18:36:59  "
       ]
      }
     ],
     "prompt_number": 78
    },
    {
     "cell_type": "markdown",
     "metadata": {},
     "source": [
      "#Get only a specific number of weeks of data"
     ]
    },
    {
     "cell_type": "code",
     "collapsed": false,
     "input": [
      "no_of_weeks = 1\n",
      "no_of_days = no_of_weeks * 7\n",
      "\n",
      "d1 = ld.date.head(1)\n",
      "d1 = pd.to_datetime(d1)\n",
      "dates = []\n",
      "for i in range(no_of_days):\n",
      "    x = (d1 + datetime.timedelta(days=-i)).to_string()[4:] # horrible hack to get date in string format\n",
      "    dates.append(x)\n",
      "    \n",
      "ld_wk = ld[ld.date.isin(dates)]\n",
      "print \"Week length:\", len(ld_wk)\n",
      "print dates"
     ],
     "language": "python",
     "metadata": {},
     "outputs": [
      {
       "output_type": "stream",
       "stream": "stdout",
       "text": [
        "Week length: 2951\n",
        "[u'2015-10-09', u'2015-10-08', u'2015-10-07', u'2015-10-06', u'2015-10-05', u'2015-10-04', u'2015-10-03']\n"
       ]
      }
     ],
     "prompt_number": 79
    },
    {
     "cell_type": "markdown",
     "metadata": {},
     "source": [
      "#Ignore locations with accuracy estimates over 1000m"
     ]
    },
    {
     "cell_type": "code",
     "collapsed": false,
     "input": [
      "ld_wk = ld_wk[ld_wk.accuracy < 1000]\n",
      "ld_wk.reset_index(drop=True, inplace=True)\n",
      "print(\"Number of items in data: %d\") % len(ld_wk)"
     ],
     "language": "python",
     "metadata": {},
     "outputs": [
      {
       "output_type": "stream",
       "stream": "stdout",
       "text": [
        "Number of items in data: 2948\n"
       ]
      }
     ],
     "prompt_number": 80
    },
    {
     "cell_type": "markdown",
     "metadata": {},
     "source": [
      "#Select only columns of interest"
     ]
    },
    {
     "cell_type": "code",
     "collapsed": false,
     "input": [
      "ld_wk = ld_wk[['latitude', 'longitude', 'datetime', 'date', 'time']]"
     ],
     "language": "python",
     "metadata": {},
     "outputs": [],
     "prompt_number": 82
    },
    {
     "cell_type": "markdown",
     "metadata": {},
     "source": [
      "#Specify places of interest in Ithaca and ignore locations outside Ithaca"
     ]
    },
    {
     "cell_type": "code",
     "collapsed": false,
     "input": [
      "home = (42.446594, -76.493736)\n",
      "work = (42.444877, -76.480814)\n",
      "\n",
      "lat_margin = 0.1\n",
      "lon_margin = 1.0\n",
      "\n",
      "ld_wk = ld_wk[abs(ld_wk.latitude - home[0]) < lat_margin]\n",
      "ld_wk = ld_wk[abs(ld_wk.longitude - home[1]) < lon_margin]\n",
      "print(\"Number of items in data: %d\") % len(ld_wk)\n",
      "ld_wk.head()"
     ],
     "language": "python",
     "metadata": {},
     "outputs": [
      {
       "output_type": "stream",
       "stream": "stdout",
       "text": [
        "Number of items in data: 66\n"
       ]
      },
      {
       "html": [
        "<div style=\"max-width:1500px;overflow:auto;\">\n",
        "<table border=\"1\" class=\"dataframe\">\n",
        "  <thead>\n",
        "    <tr style=\"text-align: right;\">\n",
        "      <th></th>\n",
        "      <th>latitude</th>\n",
        "      <th>longitude</th>\n",
        "      <th>datetime</th>\n",
        "      <th>date</th>\n",
        "      <th>time</th>\n",
        "    </tr>\n",
        "  </thead>\n",
        "  <tbody>\n",
        "    <tr>\n",
        "      <th>0</th>\n",
        "      <td>42.445009</td>\n",
        "      <td>-76.481233</td>\n",
        "      <td>2015-10-09 18:40:49.815</td>\n",
        "      <td>2015-10-09</td>\n",
        "      <td>18:40:49</td>\n",
        "    </tr>\n",
        "    <tr>\n",
        "      <th>1</th>\n",
        "      <td>42.445002</td>\n",
        "      <td>-76.481257</td>\n",
        "      <td>2015-10-09 18:39:49.791</td>\n",
        "      <td>2015-10-09</td>\n",
        "      <td>18:39:49</td>\n",
        "    </tr>\n",
        "    <tr>\n",
        "      <th>2</th>\n",
        "      <td>42.445001</td>\n",
        "      <td>-76.481254</td>\n",
        "      <td>2015-10-09 18:38:48.981</td>\n",
        "      <td>2015-10-09</td>\n",
        "      <td>18:38:48</td>\n",
        "    </tr>\n",
        "    <tr>\n",
        "      <th>3</th>\n",
        "      <td>42.444977</td>\n",
        "      <td>-76.481236</td>\n",
        "      <td>2015-10-09 18:37:48.476</td>\n",
        "      <td>2015-10-09</td>\n",
        "      <td>18:37:48</td>\n",
        "    </tr>\n",
        "    <tr>\n",
        "      <th>4</th>\n",
        "      <td>42.444994</td>\n",
        "      <td>-76.481249</td>\n",
        "      <td>2015-10-09 18:36:59.451</td>\n",
        "      <td>2015-10-09</td>\n",
        "      <td>18:36:59</td>\n",
        "    </tr>\n",
        "  </tbody>\n",
        "</table>\n",
        "</div>"
       ],
       "metadata": {},
       "output_type": "pyout",
       "prompt_number": 83,
       "text": [
        "    latitude  longitude                datetime        date      time\n",
        "0  42.445009 -76.481233 2015-10-09 18:40:49.815  2015-10-09  18:40:49\n",
        "1  42.445002 -76.481257 2015-10-09 18:39:49.791  2015-10-09  18:39:49\n",
        "2  42.445001 -76.481254 2015-10-09 18:38:48.981  2015-10-09  18:38:48\n",
        "3  42.444977 -76.481236 2015-10-09 18:37:48.476  2015-10-09  18:37:48\n",
        "4  42.444994 -76.481249 2015-10-09 18:36:59.451  2015-10-09  18:36:59"
       ]
      }
     ],
     "prompt_number": 83
    },
    {
     "cell_type": "markdown",
     "metadata": {},
     "source": [
      "#Label every location as either home, work or other"
     ]
    },
    {
     "cell_type": "code",
     "collapsed": false,
     "input": [
      "lat_error_margin = 0.0005\n",
      "lon_error_margin = 0.005\n",
      "\n",
      "POINTS = {\n",
      "    'home': home,\n",
      "    'work': work\n",
      "}\n",
      "\n",
      "def get_loc_label(df, points):\n",
      "    for label, point in points.items():\n",
      "        within_lat = abs(df['latitude'] - point[0]) <= lat_error_margin\n",
      "        within_lon = abs(df['longitude'] - point[1]) <= lon_error_margin\n",
      "        if (within_lat and within_lon):\n",
      "            return label\n",
      "    else:\n",
      "        return 'other'\n",
      "\n",
      "ld_wk['loc_label'] = ld_wk.apply(lambda x: get_loc_label(x, POINTS), axis='columns')"
     ],
     "language": "python",
     "metadata": {},
     "outputs": [],
     "prompt_number": 92
    },
    {
     "cell_type": "markdown",
     "metadata": {},
     "source": [
      "#Show sample locations of home, work, other"
     ]
    },
    {
     "cell_type": "code",
     "collapsed": false,
     "input": [
      "rows = [0,1,59,60,61,62]\n",
      "ld_wk[ld_wk['date'] == ld_wk.date[0]].iloc[rows]"
     ],
     "language": "python",
     "metadata": {},
     "outputs": [
      {
       "html": [
        "<div style=\"max-width:1500px;overflow:auto;\">\n",
        "<table border=\"1\" class=\"dataframe\">\n",
        "  <thead>\n",
        "    <tr style=\"text-align: right;\">\n",
        "      <th></th>\n",
        "      <th>latitude</th>\n",
        "      <th>longitude</th>\n",
        "      <th>datetime</th>\n",
        "      <th>date</th>\n",
        "      <th>time</th>\n",
        "      <th>loc_label</th>\n",
        "    </tr>\n",
        "  </thead>\n",
        "  <tbody>\n",
        "    <tr>\n",
        "      <th>0</th>\n",
        "      <td>42.445009</td>\n",
        "      <td>-76.481233</td>\n",
        "      <td>2015-10-09 18:40:49.815</td>\n",
        "      <td>2015-10-09</td>\n",
        "      <td>18:40:49</td>\n",
        "      <td>work</td>\n",
        "    </tr>\n",
        "    <tr>\n",
        "      <th>1</th>\n",
        "      <td>42.445002</td>\n",
        "      <td>-76.481257</td>\n",
        "      <td>2015-10-09 18:39:49.791</td>\n",
        "      <td>2015-10-09</td>\n",
        "      <td>18:39:49</td>\n",
        "      <td>work</td>\n",
        "    </tr>\n",
        "    <tr>\n",
        "      <th>59</th>\n",
        "      <td>42.446173</td>\n",
        "      <td>-76.486052</td>\n",
        "      <td>2015-10-09 16:03:08.352</td>\n",
        "      <td>2015-10-09</td>\n",
        "      <td>16:03:08</td>\n",
        "      <td>other</td>\n",
        "    </tr>\n",
        "    <tr>\n",
        "      <th>60</th>\n",
        "      <td>42.446416</td>\n",
        "      <td>-76.488342</td>\n",
        "      <td>2015-10-09 16:01:14.543</td>\n",
        "      <td>2015-10-09</td>\n",
        "      <td>16:01:14</td>\n",
        "      <td>other</td>\n",
        "    </tr>\n",
        "    <tr>\n",
        "      <th>61</th>\n",
        "      <td>42.446674</td>\n",
        "      <td>-76.493354</td>\n",
        "      <td>2015-10-09 15:58:43.371</td>\n",
        "      <td>2015-10-09</td>\n",
        "      <td>15:58:43</td>\n",
        "      <td>home</td>\n",
        "    </tr>\n",
        "    <tr>\n",
        "      <th>62</th>\n",
        "      <td>42.446674</td>\n",
        "      <td>-76.493354</td>\n",
        "      <td>2015-10-09 15:56:40.504</td>\n",
        "      <td>2015-10-09</td>\n",
        "      <td>15:56:40</td>\n",
        "      <td>home</td>\n",
        "    </tr>\n",
        "  </tbody>\n",
        "</table>\n",
        "</div>"
       ],
       "metadata": {},
       "output_type": "pyout",
       "prompt_number": 93,
       "text": [
        "     latitude  longitude                datetime        date      time  \\\n",
        "0   42.445009 -76.481233 2015-10-09 18:40:49.815  2015-10-09  18:40:49   \n",
        "1   42.445002 -76.481257 2015-10-09 18:39:49.791  2015-10-09  18:39:49   \n",
        "59  42.446173 -76.486052 2015-10-09 16:03:08.352  2015-10-09  16:03:08   \n",
        "60  42.446416 -76.488342 2015-10-09 16:01:14.543  2015-10-09  16:01:14   \n",
        "61  42.446674 -76.493354 2015-10-09 15:58:43.371  2015-10-09  15:58:43   \n",
        "62  42.446674 -76.493354 2015-10-09 15:56:40.504  2015-10-09  15:56:40   \n",
        "\n",
        "   loc_label  \n",
        "0       work  \n",
        "1       work  \n",
        "59     other  \n",
        "60     other  \n",
        "61      home  \n",
        "62      home  "
       ]
      }
     ],
     "prompt_number": 93
    },
    {
     "cell_type": "markdown",
     "metadata": {},
     "source": [
      "#Find what fraction of each location label occurs in a day"
     ]
    },
    {
     "cell_type": "code",
     "collapsed": false,
     "input": [
      "df = ld_wk[['date', 'loc_label', \"latitude\"]].groupby(['date', 'loc_label']).count()\n",
      "df.rename(columns={\"latitude\": \"count\"}, inplace=True)\n",
      "df = df.reset_index(\"loc_label\")\n",
      "df.head()\n",
      "\n",
      "ld_wk[['date', 'loc_label', \"latitude\"]].groupby(['date', 'loc_label'])[\"latitude\"].count()"
     ],
     "language": "python",
     "metadata": {},
     "outputs": [
      {
       "metadata": {},
       "output_type": "pyout",
       "prompt_number": 182,
       "text": [
        "date        loc_label\n",
        "2015-10-09  home          5\n",
        "            other         3\n",
        "            work         58\n",
        "Name: latitude, dtype: int64"
       ]
      }
     ],
     "prompt_number": 182
    },
    {
     "cell_type": "markdown",
     "metadata": {},
     "source": [
      "#Show chart of labels by day"
     ]
    },
    {
     "cell_type": "code",
     "collapsed": false,
     "input": [
      "df = pd.DataFrame(\n",
      "    index=X,\n",
      "    data= {\n",
      "        \"home\" : Y_HOME, \n",
      "        \"work\" : Y_WORK, \n",
      "        \"other\": Y_OTHER,\n",
      "    })\n",
      "print (df.head())\n",
      "df.plot(kind='bar', stacked=True)"
     ],
     "language": "python",
     "metadata": {},
     "outputs": [
      {
       "output_type": "stream",
       "stream": "stdout",
       "text": [
        "            home  other  work\n",
        "2015-10-09     5      3    58\n"
       ]
      },
      {
       "metadata": {},
       "output_type": "pyout",
       "prompt_number": 20,
       "text": [
        "<matplotlib.axes.AxesSubplot at 0x12c1802d0>"
       ]
      },
      {
       "metadata": {},
       "output_type": "display_data",
       "png": "[encoded data removed]",
       "text": [
        "<matplotlib.figure.Figure at 0x12d4cb5d0>"
       ]
      }
     ],
     "prompt_number": 20
    },
    {
     "cell_type": "code",
     "collapsed": false,
     "input": [],
     "language": "python",
     "metadata": {},
     "outputs": []
    }
   ],
   "metadata": {}
  }
 ]
}