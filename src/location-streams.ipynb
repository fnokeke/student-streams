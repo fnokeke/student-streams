{
 "metadata": {
  "name": "",
  "signature": "sha256:55b57ca5ce5bf2e9e10c537bf724b041099a4fcb91a9839be55aff206b393762"
 },
 "nbformat": 3,
 "nbformat_minor": 0,
 "worksheets": [
  {
   "cells": [
    {
     "cell_type": "markdown",
     "metadata": {},
     "source": [
      "#Get relevant libraries"
     ]
    },
    {
     "cell_type": "code",
     "collapsed": false,
     "input": [
      "import ujson as json\n",
      "import pprint\n",
      "import pandas as pd\n",
      "import numpy as np\n",
      "import datetime\n",
      "import fiona\n",
      "import sklearn\n",
      "import time\n",
      "import datetime\n",
      "import matplotlib.dates as mdates\n",
      "\n",
      "\n",
      "from shapely.geometry import Point, Polygon, MultiPoint, MultiPolygon\n",
      "from shapely.prepared import prep\n",
      "from mpl_toolkits.basemap import Basemap\n",
      "from matplotlib.collections import PatchCollection\n",
      "from descartes import PolygonPatch\n",
      "from matplotlib import pyplot as plt\n",
      "from sklearn.metrics.pairwise import pairwise_distances_argmin\n",
      "\n",
      "%matplotlib inline"
     ],
     "language": "python",
     "metadata": {},
     "outputs": [],
     "prompt_number": 532
    },
    {
     "cell_type": "markdown",
     "metadata": {},
     "source": [
      "#Import data"
     ]
    },
    {
     "cell_type": "code",
     "collapsed": false,
     "input": [
      "filename = \"/Users/fnokeke/dev/student-streams/dataset/LocationHistory.json\"\n",
      "\n",
      "with open(filename) as json_file:\n",
      "    raw = json.load(json_file)\n",
      "\n",
      "ld = pd.DataFrame(raw['locations'])\n",
      "ld_bkup = ld.copy()\n",
      "\n",
      "print(\"Number of items in data: %d\") % len(ld)"
     ],
     "language": "python",
     "metadata": {},
     "outputs": [
      {
       "output_type": "stream",
       "stream": "stdout",
       "text": [
        "Number of items in data: 266972\n"
       ]
      }
     ],
     "prompt_number": 533
    },
    {
     "cell_type": "markdown",
     "metadata": {},
     "source": [
      "#Free up memory"
     ]
    },
    {
     "cell_type": "code",
     "collapsed": false,
     "input": [
      "del raw"
     ],
     "language": "python",
     "metadata": {},
     "outputs": [],
     "prompt_number": 534
    },
    {
     "cell_type": "markdown",
     "metadata": {},
     "source": [
      "#Get a glimpse of raw data"
     ]
    },
    {
     "cell_type": "code",
     "collapsed": false,
     "input": [
      "ld.head()"
     ],
     "language": "python",
     "metadata": {},
     "outputs": [
      {
       "html": [
        "<div style=\"max-width:1500px;overflow:auto;\">\n",
        "<table border=\"1\" class=\"dataframe\">\n",
        "  <thead>\n",
        "    <tr style=\"text-align: right;\">\n",
        "      <th></th>\n",
        "      <th>accuracy</th>\n",
        "      <th>activitys</th>\n",
        "      <th>altitude</th>\n",
        "      <th>heading</th>\n",
        "      <th>latitudeE7</th>\n",
        "      <th>longitudeE7</th>\n",
        "      <th>timestampMs</th>\n",
        "      <th>velocity</th>\n",
        "    </tr>\n",
        "  </thead>\n",
        "  <tbody>\n",
        "    <tr>\n",
        "      <th>0</th>\n",
        "      <td>20</td>\n",
        "      <td>[{u'activities': [{u'confidence': 100, u'type'...</td>\n",
        "      <td>NaN</td>\n",
        "      <td>NaN</td>\n",
        "      <td>424450094</td>\n",
        "      <td>-764812331</td>\n",
        "      <td>1444430449815</td>\n",
        "      <td>NaN</td>\n",
        "    </tr>\n",
        "    <tr>\n",
        "      <th>1</th>\n",
        "      <td>20</td>\n",
        "      <td>NaN</td>\n",
        "      <td>NaN</td>\n",
        "      <td>NaN</td>\n",
        "      <td>424450024</td>\n",
        "      <td>-764812567</td>\n",
        "      <td>1444430389791</td>\n",
        "      <td>NaN</td>\n",
        "    </tr>\n",
        "    <tr>\n",
        "      <th>2</th>\n",
        "      <td>53</td>\n",
        "      <td>[{u'activities': [{u'confidence': 100, u'type'...</td>\n",
        "      <td>NaN</td>\n",
        "      <td>NaN</td>\n",
        "      <td>424450006</td>\n",
        "      <td>-764812544</td>\n",
        "      <td>1444430328981</td>\n",
        "      <td>NaN</td>\n",
        "    </tr>\n",
        "    <tr>\n",
        "      <th>3</th>\n",
        "      <td>51</td>\n",
        "      <td>[{u'activities': [{u'confidence': 85, u'type':...</td>\n",
        "      <td>NaN</td>\n",
        "      <td>NaN</td>\n",
        "      <td>424449765</td>\n",
        "      <td>-764812362</td>\n",
        "      <td>1444430268476</td>\n",
        "      <td>NaN</td>\n",
        "    </tr>\n",
        "    <tr>\n",
        "      <th>4</th>\n",
        "      <td>37</td>\n",
        "      <td>[{u'activities': [{u'confidence': 100, u'type'...</td>\n",
        "      <td>NaN</td>\n",
        "      <td>NaN</td>\n",
        "      <td>424449941</td>\n",
        "      <td>-764812485</td>\n",
        "      <td>1444430219451</td>\n",
        "      <td>NaN</td>\n",
        "    </tr>\n",
        "  </tbody>\n",
        "</table>\n",
        "</div>"
       ],
       "metadata": {},
       "output_type": "pyout",
       "prompt_number": 535,
       "text": [
        "   accuracy                                          activitys  altitude  \\\n",
        "0        20  [{u'activities': [{u'confidence': 100, u'type'...       NaN   \n",
        "1        20                                                NaN       NaN   \n",
        "2        53  [{u'activities': [{u'confidence': 100, u'type'...       NaN   \n",
        "3        51  [{u'activities': [{u'confidence': 85, u'type':...       NaN   \n",
        "4        37  [{u'activities': [{u'confidence': 100, u'type'...       NaN   \n",
        "\n",
        "   heading  latitudeE7  longitudeE7    timestampMs  velocity  \n",
        "0      NaN   424450094   -764812331  1444430449815       NaN  \n",
        "1      NaN   424450024   -764812567  1444430389791       NaN  \n",
        "2      NaN   424450006   -764812544  1444430328981       NaN  \n",
        "3      NaN   424449765   -764812362  1444430268476       NaN  \n",
        "4      NaN   424449941   -764812485  1444430219451       NaN  "
       ]
      }
     ],
     "prompt_number": 535
    },
    {
     "cell_type": "markdown",
     "metadata": {},
     "source": [
      "#Convert to typical units"
     ]
    },
    {
     "cell_type": "code",
     "collapsed": false,
     "input": [
      "ld['latitudeE7'] = ld['latitudeE7']/float(1e7)\n",
      "ld['longitudeE7'] = ld['longitudeE7']/float(1e7)\n",
      "ld['timestampMs'] = ld['timestampMs'].map(lambda x: float(x)/1000)\n",
      "ld['datetime'] = ld.timestampMs.map(datetime.datetime.fromtimestamp)\n",
      "ld['date'] = ld.datetime.map(lambda x: x.strftime(\"%Y-%m-%d\"))\n",
      "ld['time'] = ld.datetime.map(lambda x: x.strftime(\"%H:%M:%S\"))"
     ],
     "language": "python",
     "metadata": {},
     "outputs": [],
     "prompt_number": 536
    },
    {
     "cell_type": "markdown",
     "metadata": {},
     "source": [
      "#Rename fields"
     ]
    },
    {
     "cell_type": "code",
     "collapsed": false,
     "input": [
      "ld.rename(columns={\n",
      "'latitudeE7': 'latitude',\n",
      "'longitudeE7': 'longitude',\n",
      "'timestampMs': 'timestamp'\n",
      "}, inplace=True)"
     ],
     "language": "python",
     "metadata": {},
     "outputs": [],
     "prompt_number": 537
    },
    {
     "cell_type": "markdown",
     "metadata": {},
     "source": [
      "#Ignore locations with accuracy estimates over 1000m"
     ]
    },
    {
     "cell_type": "code",
     "collapsed": false,
     "input": [
      "ld = ld[ld.accuracy < 1000]\n",
      "ld.reset_index(drop=True, inplace=True)\n",
      "print(\"Number of items in data: %d\") % len(ld)"
     ],
     "language": "python",
     "metadata": {},
     "outputs": [
      {
       "output_type": "stream",
       "stream": "stdout",
       "text": [
        "Number of items in data: 252294\n"
       ]
      }
     ],
     "prompt_number": 538
    },
    {
     "cell_type": "markdown",
     "metadata": {},
     "source": [
      "#Select only columns of interest"
     ]
    },
    {
     "cell_type": "code",
     "collapsed": false,
     "input": [
      "ld = ld[['latitude', 'longitude', 'datetime', 'date', 'time']]"
     ],
     "language": "python",
     "metadata": {},
     "outputs": [],
     "prompt_number": 539
    },
    {
     "cell_type": "markdown",
     "metadata": {},
     "source": [
      "#Specify places of interest in Ithaca and ignore locations outside Ithaca"
     ]
    },
    {
     "cell_type": "code",
     "collapsed": false,
     "input": [
      "home = (42.446594, -76.493736)\n",
      "work = (42.444877, -76.480814)\n",
      "\n",
      "lat_margin = 0.1\n",
      "lon_margin = 1.0\n",
      "\n",
      "ld = ld[abs(ld.latitude - home[0]) < lat_margin]\n",
      "ld = ld[abs(ld.longitude - home[1]) < lon_margin]\n",
      "print(\"Number of items in data: %d\") % len(ld)"
     ],
     "language": "python",
     "metadata": {},
     "outputs": [
      {
       "output_type": "stream",
       "stream": "stdout",
       "text": [
        "Number of items in data: 129097\n"
       ]
      }
     ],
     "prompt_number": 540
    },
    {
     "cell_type": "markdown",
     "metadata": {},
     "source": [
      "#Label every location as either home, work or other"
     ]
    },
    {
     "cell_type": "code",
     "collapsed": false,
     "input": [
      "lat_error_margin = 0.0005\n",
      "lon_error_margin = 0.005\n",
      "\n",
      "POINTS = {\n",
      "    'home': home,\n",
      "    'work': work\n",
      "}\n",
      "\n",
      "def get_loc_label(df, points):\n",
      "    for label, point in points.items():\n",
      "        within_lat = abs(df['latitude'] - point[0]) <= lat_error_margin\n",
      "        within_lon = abs(df['longitude'] - point[1]) <= lon_error_margin\n",
      "        if (within_lat and within_lon):\n",
      "            return label\n",
      "    else:\n",
      "        return 'other'\n",
      "\n",
      "ld['loc_label'] = ld.apply(lambda x: get_loc_label(x, POINTS), axis='columns')"
     ],
     "language": "python",
     "metadata": {},
     "outputs": [],
     "prompt_number": 541
    },
    {
     "cell_type": "markdown",
     "metadata": {},
     "source": [
      "#Show sample locations of home, work, other"
     ]
    },
    {
     "cell_type": "code",
     "collapsed": false,
     "input": [
      "rows = [0,1,59,60,61,62]\n",
      "print ld[ld['date'] == '2015-10-09'].iloc[rows]"
     ],
     "language": "python",
     "metadata": {},
     "outputs": [
      {
       "output_type": "stream",
       "stream": "stdout",
       "text": [
        "     latitude  longitude                datetime        date      time  \\\n",
        "0   42.445009 -76.481233 2015-10-09 18:40:49.815  2015-10-09  18:40:49   \n",
        "1   42.445002 -76.481257 2015-10-09 18:39:49.791  2015-10-09  18:39:49   \n",
        "59  42.446173 -76.486052 2015-10-09 16:03:08.352  2015-10-09  16:03:08   \n",
        "60  42.446416 -76.488342 2015-10-09 16:01:14.543  2015-10-09  16:01:14   \n",
        "61  42.446674 -76.493354 2015-10-09 15:58:43.371  2015-10-09  15:58:43   \n",
        "62  42.446674 -76.493354 2015-10-09 15:56:40.504  2015-10-09  15:56:40   \n",
        "\n",
        "   loc_label  \n",
        "0       work  \n",
        "1       work  \n",
        "59     other  \n",
        "60     other  \n",
        "61      home  \n",
        "62      home  \n"
       ]
      }
     ],
     "prompt_number": 542
    },
    {
     "cell_type": "markdown",
     "metadata": {},
     "source": [
      "#Find what fraction of each location label occurs in a day"
     ]
    },
    {
     "cell_type": "code",
     "collapsed": false,
     "input": [
      "rr = ld.groupby(['date', 'loc_label']).agg('count')\n",
      "rr = rr.reset_index()\n",
      "rr = rr[:50]\n",
      "\n",
      "X = sorted(set(rr.date))\n",
      "Y_HOME = [len(ld[(ld.date == x) & (ld.loc_label == \"home\")]) for x in X]\n",
      "Y_WORK = [len(ld[(ld.date == x) & (ld.loc_label == \"work\")]) for x in X]\n",
      "Y_OTHER = [len(ld[(ld.date == x) & (ld.loc_label == \"other\")]) for x in X]\n",
      "\n",
      "k = 5\n",
      "print \"DATE: \", X[:k], len(X)\n",
      "print \"HOME: \", Y_HOME[:k], len(Y_HOME)\n",
      "print \"WORK: \", Y_WORK[:k], len(Y_WORK)\n",
      "print \"OTHER:\", Y_OTHER[:k], len(Y_OTHER)\n",
      "\n",
      "print(rr.head())"
     ],
     "language": "python",
     "metadata": {},
     "outputs": [
      {
       "output_type": "stream",
       "stream": "stdout",
       "text": [
        "DATE:  ['2014-08-01', '2014-08-02', '2014-08-03', '2014-08-04', '2014-08-05'] 20\n",
        "HOME:  [57, 50, 712, 148, 964] 20\n",
        "WORK:  [0, 0, 0, 493, 0] 20\n",
        "OTHER: [42, 1074, 306, 23, 156] 20\n",
        "         date loc_label  latitude  longitude  datetime  time\n",
        "0  2014-08-01      home        57         57        57    57\n",
        "1  2014-08-01     other        42         42        42    42\n",
        "2  2014-08-02      home        50         50        50    50\n",
        "3  2014-08-02     other      1074       1074      1074  1074\n",
        "4  2014-08-03      home       712        712       712   712\n"
       ]
      }
     ],
     "prompt_number": 614
    },
    {
     "cell_type": "code",
     "collapsed": false,
     "input": [
      "plt.plot_date(y=rr.longitude, x=rr.latitude, color='r')"
     ],
     "language": "python",
     "metadata": {},
     "outputs": [
      {
       "metadata": {},
       "output_type": "pyout",
       "prompt_number": 594,
       "text": [
        "[<matplotlib.lines.Line2D at 0x1600c70d0>]"
       ]
      },
      {
       "metadata": {},
       "output_type": "display_data",
       "png": "[encoded data removed]",
       "text": [
        "<matplotlib.figure.Figure at 0x15ff1bcd0>"
       ]
      }
     ],
     "prompt_number": 594
    },
    {
     "cell_type": "markdown",
     "metadata": {},
     "source": [
      "#Show chart of labels by day"
     ]
    },
    {
     "cell_type": "code",
     "collapsed": false,
     "input": [
      "df = pd.DataFrame(\n",
      "    index=X,\n",
      "    data= {\n",
      "        \"home\" : Y_HOME, \n",
      "        \"work\" : Y_WORK, \n",
      "        \"other\": Y_OTHER,\n",
      "    })\n",
      "print (df.head())\n",
      "df.plot(kind='barh', stacked=True)"
     ],
     "language": "python",
     "metadata": {},
     "outputs": [
      {
       "output_type": "stream",
       "stream": "stdout",
       "text": [
        "            home  other  work\n",
        "2014-08-01    57     42     0\n",
        "2014-08-02    50   1074     0\n",
        "2014-08-03   712    306     0\n",
        "2014-08-04   148     23   493\n",
        "2014-08-05   964    156     0\n"
       ]
      },
      {
       "metadata": {},
       "output_type": "pyout",
       "prompt_number": 615,
       "text": [
        "<matplotlib.axes.AxesSubplot at 0x181c2c890>"
       ]
      },
      {
       "metadata": {},
       "output_type": "display_data",
       "png": "[encoded data removed]",
       "text": [
        "<matplotlib.figure.Figure at 0x181c31e90>"
       ]
      }
     ],
     "prompt_number": 615
    },
    {
     "cell_type": "markdown",
     "metadata": {},
     "source": [
      "#Get one week of data only"
     ]
    },
    {
     "cell_type": "code",
     "collapsed": false,
     "input": [
      "ld.datetime.head(1)"
     ],
     "language": "python",
     "metadata": {},
     "outputs": [
      {
       "metadata": {},
       "output_type": "pyout",
       "prompt_number": 625,
       "text": [
        "0   2015-10-09 18:40:49.815\n",
        "Name: datetime, dtype: datetime64[ns]"
       ]
      }
     ],
     "prompt_number": 625
    },
    {
     "cell_type": "code",
     "collapsed": false,
     "input": [
      "d1 = pd.to_datetime(ld.date.head(1))\n",
      "dates = []\n",
      "for i in range(7):\n",
      "    dates.append(d1 + datetime.timedelta(days=i))\n",
      "                 \n",
      "dates"
     ],
     "language": "python",
     "metadata": {},
     "outputs": []
    },
    {
     "cell_type": "code",
     "collapsed": false,
     "input": [],
     "language": "python",
     "metadata": {},
     "outputs": []
    }
   ],
   "metadata": {}
  }
 ]
}